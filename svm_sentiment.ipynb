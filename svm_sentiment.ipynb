{
  "nbformat": 4,
  "nbformat_minor": 0,
  "metadata": {
    "colab": {
      "name": "svm_sentiment.ipynb",
      "version": "0.3.2",
      "provenance": [],
      "collapsed_sections": [],
      "include_colab_link": true
    },
    "kernelspec": {
      "name": "python3",
      "display_name": "Python 3"
    },
    "accelerator": "GPU"
  },
  "cells": [
    {
      "cell_type": "markdown",
      "metadata": {
        "id": "view-in-github",
        "colab_type": "text"
      },
      "source": [
        "<a href=\"https://colab.research.google.com/github/SquirrelMan/svm_sentiment/blob/master/svm_sentiment.ipynb\" target=\"_parent\"><img src=\"https://colab.research.google.com/assets/colab-badge.svg\" alt=\"Open In Colab\"/></a>"
      ]
    },
    {
      "cell_type": "code",
      "metadata": {
        "id": "VxPea4Lhj3Vd",
        "colab_type": "code",
        "outputId": "d634ccef-47b6-4dd9-f05b-c9789a09d9ae",
        "colab": {
          "base_uri": "https://localhost:8080/",
          "height": 360
        }
      },
      "source": [
        "! pip uninstall statsmodels -y\n",
        "! pip install --upgrade Cython\n",
        "! pip install --upgrade git+https://github.com/statsmodels/statsmodels\n",
        "# 模型相关包\n",
        "import statsmodels.api as sm\n",
        "import statsmodels.stats.diagnostic\n",
        "# 画图包\n",
        "import matplotlib.pyplot as plt\n",
        "# 其他包\n",
        "import pandas as pd\n",
        "import numpy as np\n",
        "\n",
        "#--------------------- \n",
        "#作者：mooncrystal123 \n",
        "#来源：CSDN \n",
        "#原文：https://blog.csdn.net/mooncrystal123/article/details/86736397 \n",
        "#版权声明：本文为博主原创文章，转载请附上博文链接！"
      ],
      "execution_count": 0,
      "outputs": [
        {
          "output_type": "stream",
          "text": [
            "Uninstalling statsmodels-0.9.0:\n",
            "  Successfully uninstalled statsmodels-0.9.0\n",
            "Requirement already up-to-date: Cython in /usr/local/lib/python3.6/dist-packages (0.29.10)\n",
            "Collecting git+https://github.com/statsmodels/statsmodels\n",
            "  Cloning https://github.com/statsmodels/statsmodels to /tmp/pip-req-build-9i5hr1mz\n",
            "  Running command git clone -q https://github.com/statsmodels/statsmodels /tmp/pip-req-build-9i5hr1mz\n",
            "Requirement already satisfied, skipping upgrade: numpy>=1.11 in /usr/local/lib/python3.6/dist-packages (from statsmodels==0.10.0rc2+14.gceea76ce6) (1.16.4)\n",
            "Requirement already satisfied, skipping upgrade: scipy>=0.18 in /usr/local/lib/python3.6/dist-packages (from statsmodels==0.10.0rc2+14.gceea76ce6) (1.3.0)\n",
            "Requirement already satisfied, skipping upgrade: pandas>=0.19 in /usr/local/lib/python3.6/dist-packages (from statsmodels==0.10.0rc2+14.gceea76ce6) (0.24.2)\n",
            "Requirement already satisfied, skipping upgrade: patsy>=0.4.0 in /usr/local/lib/python3.6/dist-packages (from statsmodels==0.10.0rc2+14.gceea76ce6) (0.5.1)\n",
            "Requirement already satisfied, skipping upgrade: python-dateutil>=2.5.0 in /usr/local/lib/python3.6/dist-packages (from pandas>=0.19->statsmodels==0.10.0rc2+14.gceea76ce6) (2.5.3)\n",
            "Requirement already satisfied, skipping upgrade: pytz>=2011k in /usr/local/lib/python3.6/dist-packages (from pandas>=0.19->statsmodels==0.10.0rc2+14.gceea76ce6) (2018.9)\n",
            "Requirement already satisfied, skipping upgrade: six in /usr/local/lib/python3.6/dist-packages (from patsy>=0.4.0->statsmodels==0.10.0rc2+14.gceea76ce6) (1.12.0)\n",
            "Building wheels for collected packages: statsmodels\n",
            "  Building wheel for statsmodels (setup.py) ... \u001b[?25l\u001b[?25hdone\n",
            "  Stored in directory: /tmp/pip-ephem-wheel-cache-welr3z8e/wheels/7d/ad/45/ac1a03bd759c2fa74c486e2b1950d94b55f511b4c2b0418bd5\n",
            "Successfully built statsmodels\n",
            "Installing collected packages: statsmodels\n",
            "Successfully installed statsmodels-0.10.0rc2+14.gceea76ce6\n"
          ],
          "name": "stdout"
        }
      ]
    },
    {
      "cell_type": "code",
      "metadata": {
        "id": "OJcGjUJRs6Ck",
        "colab_type": "code",
        "outputId": "8c47542e-3df1-4fec-eea6-bd74281aa45e",
        "colab": {
          "base_uri": "https://localhost:8080/",
          "height": 34
        }
      },
      "source": [
        "# https://keras.io/\n",
        "!pip install -q keras\n",
        "import keras\n",
        "import tensorflow as tf\n",
        "import math\n",
        "import random\n",
        "from google.colab import files\n",
        "from __future__ import print_function\n",
        "%matplotlib inline"
      ],
      "execution_count": 0,
      "outputs": [
        {
          "output_type": "stream",
          "text": [
            "Using TensorFlow backend.\n"
          ],
          "name": "stderr"
        }
      ]
    },
    {
      "cell_type": "code",
      "metadata": {
        "id": "Zh1wsAORtFHV",
        "colab_type": "code",
        "outputId": "9827d282-9567-49fd-867d-9078bf0e8c04",
        "colab": {
          "base_uri": "https://localhost:8080/",
          "height": 34
        }
      },
      "source": [
        "device_name = tf.test.gpu_device_name()\n",
        "if device_name != '/device:GPU:0':\n",
        "  raise SystemError('GPU device not found')\n",
        "print('Found GPU at: {}'.format(device_name))"
      ],
      "execution_count": 0,
      "outputs": [
        {
          "output_type": "stream",
          "text": [
            "Found GPU at: /device:GPU:0\n"
          ],
          "name": "stdout"
        }
      ]
    },
    {
      "cell_type": "code",
      "metadata": {
        "id": "izMWFUrotI1e",
        "colab_type": "code",
        "outputId": "10b99216-79ee-43fe-d9b7-af51825b0efd",
        "colab": {
          "resources": {
            "http://localhost:8080/nbextensions/google.colab/files.js": {
              "data": "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",
              "ok": true,
              "headers": [
                [
                  "content-type",
                  "application/javascript"
                ]
              ],
              "status": 200,
              "status_text": ""
            }
          },
          "base_uri": "https://localhost:8080/",
          "height": 93
        }
      },
      "source": [
        "uploaded = files.upload()\n",
        "for fn in uploaded.keys():\n",
        "  print('User uploaded file \"{name}\" with length {length} bytes'.format(\n",
        "      name=fn, length=len(uploaded[fn])))"
      ],
      "execution_count": 0,
      "outputs": [
        {
          "output_type": "display_data",
          "data": {
            "text/html": [
              "\n",
              "     <input type=\"file\" id=\"files-59d4b93a-8640-44b1-bcec-a8053455ff7e\" name=\"files[]\" multiple disabled />\n",
              "     <output id=\"result-59d4b93a-8640-44b1-bcec-a8053455ff7e\">\n",
              "      Upload widget is only available when the cell has been executed in the\n",
              "      current browser session. Please rerun this cell to enable.\n",
              "      </output>\n",
              "      <script src=\"/nbextensions/google.colab/files.js\"></script> "
            ],
            "text/plain": [
              "<IPython.core.display.HTML object>"
            ]
          },
          "metadata": {
            "tags": []
          }
        },
        {
          "output_type": "stream",
          "text": [
            "Saving 2330_台積電_TW.csv to 2330_台積電_TW.csv\n",
            "User uploaded file \"2330_台積電_TW.csv\" with length 16570 bytes\n"
          ],
          "name": "stdout"
        }
      ]
    },
    {
      "cell_type": "code",
      "metadata": {
        "id": "0auhIX5jthV9",
        "colab_type": "code",
        "outputId": "6b94eaab-41e3-46dc-a03b-01212a2ac465",
        "colab": {
          "base_uri": "https://localhost:8080/",
          "height": 204
        }
      },
      "source": [
        "stk_data=pd.read_csv('2330_台積電_TW.csv')\n",
        "stk_data.head()"
      ],
      "execution_count": 0,
      "outputs": [
        {
          "output_type": "execute_result",
          "data": {
            "text/html": [
              "<div>\n",
              "<style scoped>\n",
              "    .dataframe tbody tr th:only-of-type {\n",
              "        vertical-align: middle;\n",
              "    }\n",
              "\n",
              "    .dataframe tbody tr th {\n",
              "        vertical-align: top;\n",
              "    }\n",
              "\n",
              "    .dataframe thead th {\n",
              "        text-align: right;\n",
              "    }\n",
              "</style>\n",
              "<table border=\"1\" class=\"dataframe\">\n",
              "  <thead>\n",
              "    <tr style=\"text-align: right;\">\n",
              "      <th></th>\n",
              "      <th>Date</th>\n",
              "      <th>Open</th>\n",
              "      <th>High</th>\n",
              "      <th>Low</th>\n",
              "      <th>Close</th>\n",
              "      <th>Adj Close</th>\n",
              "      <th>Volume</th>\n",
              "    </tr>\n",
              "  </thead>\n",
              "  <tbody>\n",
              "    <tr>\n",
              "      <th>0</th>\n",
              "      <td>2018-01-02</td>\n",
              "      <td>231.5</td>\n",
              "      <td>232.5</td>\n",
              "      <td>231.0</td>\n",
              "      <td>232.5</td>\n",
              "      <td>224.324173</td>\n",
              "      <td>18055269</td>\n",
              "    </tr>\n",
              "    <tr>\n",
              "      <th>1</th>\n",
              "      <td>2018-01-03</td>\n",
              "      <td>236.0</td>\n",
              "      <td>238.0</td>\n",
              "      <td>235.5</td>\n",
              "      <td>237.0</td>\n",
              "      <td>228.665939</td>\n",
              "      <td>29308091</td>\n",
              "    </tr>\n",
              "    <tr>\n",
              "      <th>2</th>\n",
              "      <td>2018-01-04</td>\n",
              "      <td>240.0</td>\n",
              "      <td>240.0</td>\n",
              "      <td>236.5</td>\n",
              "      <td>239.5</td>\n",
              "      <td>231.078018</td>\n",
              "      <td>29096613</td>\n",
              "    </tr>\n",
              "    <tr>\n",
              "      <th>3</th>\n",
              "      <td>2018-01-05</td>\n",
              "      <td>240.0</td>\n",
              "      <td>240.0</td>\n",
              "      <td>238.0</td>\n",
              "      <td>240.0</td>\n",
              "      <td>231.560440</td>\n",
              "      <td>22438255</td>\n",
              "    </tr>\n",
              "    <tr>\n",
              "      <th>4</th>\n",
              "      <td>2018-01-08</td>\n",
              "      <td>242.0</td>\n",
              "      <td>242.5</td>\n",
              "      <td>240.5</td>\n",
              "      <td>242.0</td>\n",
              "      <td>233.490112</td>\n",
              "      <td>20233692</td>\n",
              "    </tr>\n",
              "  </tbody>\n",
              "</table>\n",
              "</div>"
            ],
            "text/plain": [
              "         Date   Open   High    Low  Close   Adj Close    Volume\n",
              "0  2018-01-02  231.5  232.5  231.0  232.5  224.324173  18055269\n",
              "1  2018-01-03  236.0  238.0  235.5  237.0  228.665939  29308091\n",
              "2  2018-01-04  240.0  240.0  236.5  239.5  231.078018  29096613\n",
              "3  2018-01-05  240.0  240.0  238.0  240.0  231.560440  22438255\n",
              "4  2018-01-08  242.0  242.5  240.5  242.0  233.490112  20233692"
            ]
          },
          "metadata": {
            "tags": []
          },
          "execution_count": 8
        }
      ]
    },
    {
      "cell_type": "code",
      "metadata": {
        "id": "zh8H1s5Lt-hT",
        "colab_type": "code",
        "outputId": "cee7ad6e-0875-4068-890a-5adbb4ee1a1e",
        "colab": {
          "base_uri": "https://localhost:8080/",
          "height": 204
        }
      },
      "source": [
        "stk_data.tail()"
      ],
      "execution_count": 0,
      "outputs": [
        {
          "output_type": "execute_result",
          "data": {
            "text/html": [
              "<div>\n",
              "<style scoped>\n",
              "    .dataframe tbody tr th:only-of-type {\n",
              "        vertical-align: middle;\n",
              "    }\n",
              "\n",
              "    .dataframe tbody tr th {\n",
              "        vertical-align: top;\n",
              "    }\n",
              "\n",
              "    .dataframe thead th {\n",
              "        text-align: right;\n",
              "    }\n",
              "</style>\n",
              "<table border=\"1\" class=\"dataframe\">\n",
              "  <thead>\n",
              "    <tr style=\"text-align: right;\">\n",
              "      <th></th>\n",
              "      <th>Date</th>\n",
              "      <th>Open</th>\n",
              "      <th>High</th>\n",
              "      <th>Low</th>\n",
              "      <th>Close</th>\n",
              "      <th>Adj Close</th>\n",
              "      <th>Volume</th>\n",
              "    </tr>\n",
              "  </thead>\n",
              "  <tbody>\n",
              "    <tr>\n",
              "      <th>302</th>\n",
              "      <td>2019-04-08</td>\n",
              "      <td>251.0</td>\n",
              "      <td>253.0</td>\n",
              "      <td>250.5</td>\n",
              "      <td>253.0</td>\n",
              "      <td>253.0</td>\n",
              "      <td>45184821</td>\n",
              "    </tr>\n",
              "    <tr>\n",
              "      <th>303</th>\n",
              "      <td>2019-04-09</td>\n",
              "      <td>253.0</td>\n",
              "      <td>254.0</td>\n",
              "      <td>252.0</td>\n",
              "      <td>254.0</td>\n",
              "      <td>254.0</td>\n",
              "      <td>22355674</td>\n",
              "    </tr>\n",
              "    <tr>\n",
              "      <th>304</th>\n",
              "      <td>2019-04-10</td>\n",
              "      <td>253.0</td>\n",
              "      <td>254.5</td>\n",
              "      <td>252.0</td>\n",
              "      <td>254.0</td>\n",
              "      <td>254.0</td>\n",
              "      <td>25849934</td>\n",
              "    </tr>\n",
              "    <tr>\n",
              "      <th>305</th>\n",
              "      <td>2019-04-11</td>\n",
              "      <td>253.0</td>\n",
              "      <td>254.0</td>\n",
              "      <td>251.5</td>\n",
              "      <td>252.0</td>\n",
              "      <td>252.0</td>\n",
              "      <td>24896840</td>\n",
              "    </tr>\n",
              "    <tr>\n",
              "      <th>306</th>\n",
              "      <td>2019-04-12</td>\n",
              "      <td>251.5</td>\n",
              "      <td>253.0</td>\n",
              "      <td>251.0</td>\n",
              "      <td>252.0</td>\n",
              "      <td>252.0</td>\n",
              "      <td>13548148</td>\n",
              "    </tr>\n",
              "  </tbody>\n",
              "</table>\n",
              "</div>"
            ],
            "text/plain": [
              "           Date   Open   High    Low  Close  Adj Close    Volume\n",
              "302  2019-04-08  251.0  253.0  250.5  253.0      253.0  45184821\n",
              "303  2019-04-09  253.0  254.0  252.0  254.0      254.0  22355674\n",
              "304  2019-04-10  253.0  254.5  252.0  254.0      254.0  25849934\n",
              "305  2019-04-11  253.0  254.0  251.5  252.0      252.0  24896840\n",
              "306  2019-04-12  251.5  253.0  251.0  252.0      252.0  13548148"
            ]
          },
          "metadata": {
            "tags": []
          },
          "execution_count": 9
        }
      ]
    },
    {
      "cell_type": "code",
      "metadata": {
        "id": "jXuElgZtuIQa",
        "colab_type": "code",
        "outputId": "9626fdeb-bf74-46da-dd6f-2ce63d1e9941",
        "colab": {
          "base_uri": "https://localhost:8080/",
          "height": 119
        }
      },
      "source": [
        "stk_date=stk_data[:]['Date']\n",
        "stk_open=stk_data[:]['Open']\n",
        "stk_close=stk_data[:]['Close']\n",
        "stk_adj_ratio=(stk_close-stk_open)/stk_open\n",
        "stk_adj_ratio.tail()"
      ],
      "execution_count": 0,
      "outputs": [
        {
          "output_type": "execute_result",
          "data": {
            "text/plain": [
              "302    0.007968\n",
              "303    0.003953\n",
              "304    0.003953\n",
              "305   -0.003953\n",
              "306    0.001988\n",
              "dtype: float64"
            ]
          },
          "metadata": {
            "tags": []
          },
          "execution_count": 23
        }
      ]
    },
    {
      "cell_type": "code",
      "metadata": {
        "id": "wg9vTSWyu-tv",
        "colab_type": "code",
        "outputId": "d8973576-e844-48b9-87d4-dece20044d81",
        "colab": {
          "base_uri": "https://localhost:8080/",
          "height": 266
        }
      },
      "source": [
        "from statsmodels.tsa.stattools import adfuller\n",
        "\n",
        "temp = np.array(stk_close)\n",
        "t = adfuller(temp)  # ADF检验\n",
        "output=pd.DataFrame(index=['Test Statistic Value', \"p-value\", \"Lags Used\", \"Number of Observations Used\",\"Critical Value(1%)\",\"Critical Value(5%)\",\"Critical Value(10%)\"],columns=['value'])\n",
        "output['value']['Test Statistic Value'] = t[0]\n",
        "output['value']['p-value'] = t[1]\n",
        "output['value']['Lags Used'] = t[2]\n",
        "output['value']['Number of Observations Used'] = t[3]\n",
        "output['value']['Critical Value(1%)'] = t[4]['1%']\n",
        "output['value']['Critical Value(5%)'] = t[4]['5%']\n",
        "output['value']['Critical Value(10%)'] = t[4]['10%']\n",
        "output"
      ],
      "execution_count": 0,
      "outputs": [
        {
          "output_type": "execute_result",
          "data": {
            "text/html": [
              "<div>\n",
              "<style scoped>\n",
              "    .dataframe tbody tr th:only-of-type {\n",
              "        vertical-align: middle;\n",
              "    }\n",
              "\n",
              "    .dataframe tbody tr th {\n",
              "        vertical-align: top;\n",
              "    }\n",
              "\n",
              "    .dataframe thead th {\n",
              "        text-align: right;\n",
              "    }\n",
              "</style>\n",
              "<table border=\"1\" class=\"dataframe\">\n",
              "  <thead>\n",
              "    <tr style=\"text-align: right;\">\n",
              "      <th></th>\n",
              "      <th>value</th>\n",
              "    </tr>\n",
              "  </thead>\n",
              "  <tbody>\n",
              "    <tr>\n",
              "      <th>Test Statistic Value</th>\n",
              "      <td>-2.4237</td>\n",
              "    </tr>\n",
              "    <tr>\n",
              "      <th>p-value</th>\n",
              "      <td>0.135157</td>\n",
              "    </tr>\n",
              "    <tr>\n",
              "      <th>Lags Used</th>\n",
              "      <td>0</td>\n",
              "    </tr>\n",
              "    <tr>\n",
              "      <th>Number of Observations Used</th>\n",
              "      <td>306</td>\n",
              "    </tr>\n",
              "    <tr>\n",
              "      <th>Critical Value(1%)</th>\n",
              "      <td>-3.4519</td>\n",
              "    </tr>\n",
              "    <tr>\n",
              "      <th>Critical Value(5%)</th>\n",
              "      <td>-2.87103</td>\n",
              "    </tr>\n",
              "    <tr>\n",
              "      <th>Critical Value(10%)</th>\n",
              "      <td>-2.57183</td>\n",
              "    </tr>\n",
              "  </tbody>\n",
              "</table>\n",
              "</div>"
            ],
            "text/plain": [
              "                                value\n",
              "Test Statistic Value          -2.4237\n",
              "p-value                      0.135157\n",
              "Lags Used                           0\n",
              "Number of Observations Used       306\n",
              "Critical Value(1%)            -3.4519\n",
              "Critical Value(5%)           -2.87103\n",
              "Critical Value(10%)          -2.57183"
            ]
          },
          "metadata": {
            "tags": []
          },
          "execution_count": 25
        }
      ]
    },
    {
      "cell_type": "code",
      "metadata": {
        "id": "86oIeeOEwR2M",
        "colab_type": "code",
        "outputId": "9de8e196-b927-4639-fb8a-ad35e3464074",
        "colab": {
          "base_uri": "https://localhost:8080/",
          "height": 266
        }
      },
      "source": [
        "from statsmodels.tsa.stattools import adfuller\n",
        "\n",
        "temp = np.array(stk_adj_ratio)\n",
        "t = adfuller(temp)  # ADF检验\n",
        "output=pd.DataFrame(index=['Test Statistic Value', \"p-value\", \"Lags Used\", \"Number of Observations Used\",\"Critical Value(1%)\",\"Critical Value(5%)\",\"Critical Value(10%)\"],columns=['value'])\n",
        "output['value']['Test Statistic Value'] = t[0]\n",
        "output['value']['p-value'] = t[1]\n",
        "output['value']['Lags Used'] = t[2]\n",
        "output['value']['Number of Observations Used'] = t[3]\n",
        "output['value']['Critical Value(1%)'] = t[4]['1%']\n",
        "output['value']['Critical Value(5%)'] = t[4]['5%']\n",
        "output['value']['Critical Value(10%)'] = t[4]['10%']\n",
        "output"
      ],
      "execution_count": 0,
      "outputs": [
        {
          "output_type": "execute_result",
          "data": {
            "text/html": [
              "<div>\n",
              "<style scoped>\n",
              "    .dataframe tbody tr th:only-of-type {\n",
              "        vertical-align: middle;\n",
              "    }\n",
              "\n",
              "    .dataframe tbody tr th {\n",
              "        vertical-align: top;\n",
              "    }\n",
              "\n",
              "    .dataframe thead th {\n",
              "        text-align: right;\n",
              "    }\n",
              "</style>\n",
              "<table border=\"1\" class=\"dataframe\">\n",
              "  <thead>\n",
              "    <tr style=\"text-align: right;\">\n",
              "      <th></th>\n",
              "      <th>value</th>\n",
              "    </tr>\n",
              "  </thead>\n",
              "  <tbody>\n",
              "    <tr>\n",
              "      <th>Test Statistic Value</th>\n",
              "      <td>-19.7067</td>\n",
              "    </tr>\n",
              "    <tr>\n",
              "      <th>p-value</th>\n",
              "      <td>0</td>\n",
              "    </tr>\n",
              "    <tr>\n",
              "      <th>Lags Used</th>\n",
              "      <td>0</td>\n",
              "    </tr>\n",
              "    <tr>\n",
              "      <th>Number of Observations Used</th>\n",
              "      <td>306</td>\n",
              "    </tr>\n",
              "    <tr>\n",
              "      <th>Critical Value(1%)</th>\n",
              "      <td>-3.4519</td>\n",
              "    </tr>\n",
              "    <tr>\n",
              "      <th>Critical Value(5%)</th>\n",
              "      <td>-2.87103</td>\n",
              "    </tr>\n",
              "    <tr>\n",
              "      <th>Critical Value(10%)</th>\n",
              "      <td>-2.57183</td>\n",
              "    </tr>\n",
              "  </tbody>\n",
              "</table>\n",
              "</div>"
            ],
            "text/plain": [
              "                               value\n",
              "Test Statistic Value        -19.7067\n",
              "p-value                            0\n",
              "Lags Used                          0\n",
              "Number of Observations Used      306\n",
              "Critical Value(1%)           -3.4519\n",
              "Critical Value(5%)          -2.87103\n",
              "Critical Value(10%)         -2.57183"
            ]
          },
          "metadata": {
            "tags": []
          },
          "execution_count": 26
        }
      ]
    },
    {
      "cell_type": "code",
      "metadata": {
        "id": "Cp_YIFKZwiGm",
        "colab_type": "code",
        "outputId": "cf1cb566-4028-4d40-c023-8663a9945181",
        "colab": {
          "base_uri": "https://localhost:8080/",
          "height": 499
        }
      },
      "source": [
        "fig = plt.figure(figsize=(12,8))\n",
        "plt.plot(stk_adj_ratio,'r',label='stk_adj_ratio')\n",
        "plt.title('Return(%) per period of 2330')\n",
        "plt.grid(True)\n",
        "plt.axis('tight')\n",
        "plt.legend(loc=0)\n",
        "plt.ylabel('Return(%)')\n",
        "plt.show()"
      ],
      "execution_count": 0,
      "outputs": [
        {
          "output_type": "display_data",
          "data": {
            "image/png": "[encoded data removed]",
            "text/plain": [
              "<Figure size 864x576 with 1 Axes>"
            ]
          },
          "metadata": {
            "tags": []
          }
        }
      ]
    },
    {
      "cell_type": "code",
      "metadata": {
        "id": "sd3eiFM42E5z",
        "colab_type": "code",
        "outputId": "8f4444b0-557d-43fb-bd83-1f4b7ef72432",
        "colab": {
          "resources": {
            "http://localhost:8080/nbextensions/google.colab/files.js": {
              "data": "Ly8gQ29weXJpZ2h0IDIwMTcgR29vZ2xlIExMQwovLwovLyBMaWNlbnNlZCB1bmRlciB0aGUgQXBhY2hlIExpY2Vuc2UsIFZlcnNpb24gMi4wICh0aGUgIkxpY2Vuc2UiKTsKLy8geW91IG1heSBub3QgdXNlIHRoaXMgZmlsZSBleGNlcHQgaW4gY29tcGxpYW5jZSB3aXRoIHRoZSBMaWNlbnNlLgovLyBZb3UgbWF5IG9idGFpbiBhIGNvcHkgb2YgdGhlIExpY2Vuc2UgYXQKLy8KLy8gICAgICBodHRwOi8vd3d3LmFwYWNoZS5vcmcvbGljZW5zZXMvTElDRU5TRS0yLjAKLy8KLy8gVW5sZXNzIHJlcXVpcmVkIGJ5IGFwcGxpY2FibGUgbGF3IG9yIGFncmVlZCB0byBpbiB3cml0aW5nLCBzb2Z0d2FyZQovLyBkaXN0cmlidXRlZCB1bmRlciB0aGUgTGljZW5zZSBpcyBkaXN0cmlidXRlZCBvbiBhbiAiQVMgSVMiIEJBU0lTLAovLyBXSVRIT1VUIFdBUlJBTlRJRVMgT1IgQ09ORElUSU9OUyBPRiBBTlkgS0lORCwgZWl0aGVyIGV4cHJlc3Mgb3IgaW1wbGllZC4KLy8gU2VlIHRoZSBMaWNlbnNlIGZvciB0aGUgc3BlY2lmaWMgbGFuZ3VhZ2UgZ292ZXJuaW5nIHBlcm1pc3Npb25zIGFuZAovLyBsaW1pdGF0aW9ucyB1bmRlciB0aGUgTGljZW5zZS4KCi8qKgogKiBAZmlsZW92ZXJ2aWV3IEhlbHBlcnMgZm9yIGdvb2dsZS5jb2xhYiBQeXRob24gbW9kdWxlLgogKi8KKGZ1bmN0aW9uKHNjb3BlKSB7CmZ1bmN0aW9uIHNwYW4odGV4dCwgc3R5bGVBdHRyaWJ1dGVzID0ge30pIHsKICBjb25zdCBlbGVtZW50ID0gZG9jdW1lbnQuY3JlYXRlRWxlbWVudCgnc3BhbicpOwogIGVsZW1lbnQudGV4dENvbnRlbnQgPSB0ZXh0OwogIGZvciAoY29uc3Qga2V5IG9mIE9iamVjdC5rZXlzKHN0eWxlQXR0cmlidXRlcykpIHsKICAgIGVsZW1lbnQuc3R5bGVba2V5XSA9IHN0eWxlQXR0cmlidXRlc1trZXldOwogIH0KICByZXR1cm4gZWxlbWVudDsKfQoKLy8gTWF4IG51bWJlciBvZiBieXRlcyB3aGljaCB3aWxsIGJlIHVwbG9hZGVkIGF0IGEgdGltZS4KY29uc3QgTUFYX1BBWUxPQURfU0laRSA9IDEwMCAqIDEwMjQ7Ci8vIE1heCBhbW91bnQgb2YgdGltZSB0byBibG9jayB3YWl0aW5nIGZvciB0aGUgdXNlci4KY29uc3QgRklMRV9DSEFOR0VfVElNRU9VVF9NUyA9IDMwICogMTAwMDsKCmZ1bmN0aW9uIF91cGxvYWRGaWxlcyhpbnB1dElkLCBvdXRwdXRJZCkgewogIGNvbnN0IHN0ZXBzID0gdXBsb2FkRmlsZXNTdGVwKGlucHV0SWQsIG91dHB1dElkKTsKICBjb25zdCBvdXRwdXRFbGVtZW50ID0gZG9jdW1lbnQuZ2V0RWxlbWVudEJ5SWQob3V0cHV0SWQpOwogIC8vIENhY2hlIHN0ZXBzIG9uIHRoZSBvdXRwdXRFbGVtZW50IHRvIG1ha2UgaXQgYXZhaWxhYmxlIGZvciB0aGUgbmV4dCBjYWxsCiAgLy8gdG8gdXBsb2FkRmlsZXNDb250aW51ZSBmcm9tIFB5dGhvbi4KICBvdXRwdXRFbGVtZW50LnN0ZXBzID0gc3RlcHM7CgogIHJldHVybiBfdXBsb2FkRmlsZXNDb250aW51ZShvdXRwdXRJZCk7Cn0KCi8vIFRoaXMgaXMgcm91Z2hseSBhbiBhc3luYyBnZW5lcmF0b3IgKG5vdCBzdXBwb3J0ZWQgaW4gdGhlIGJyb3dzZXIgeWV0KSwKLy8gd2hlcmUgdGhlcmUgYXJlIG11bHRpcGxlIGFzeW5jaHJvbm91cyBzdGVwcyBhbmQgdGhlIFB5dGhvbiBzaWRlIGlzIGdvaW5nCi8vIHRvIHBvbGwgZm9yIGNvbXBsZXRpb24gb2YgZWFjaCBzdGVwLgovLyBUaGlzIHVzZXMgYSBQcm9taXNlIHRvIGJsb2NrIHRoZSBweXRob24gc2lkZSBvbiBjb21wbGV0aW9uIG9mIGVhY2ggc3RlcCwKLy8gdGhlbiBwYXNzZXMgdGhlIHJlc3VsdCBvZiB0aGUgcHJldmlvdXMgc3RlcCBhcyB0aGUgaW5wdXQgdG8gdGhlIG5leHQgc3RlcC4KZnVuY3Rpb24gX3VwbG9hZEZpbGVzQ29udGludWUob3V0cHV0SWQpIHsKICBjb25zdCBvdXRwdXRFbGVtZW50ID0gZG9jdW1lbnQuZ2V0RWxlbWVudEJ5SWQob3V0cHV0SWQpOwogIGNvbnN0IHN0ZXBzID0gb3V0cHV0RWxlbWVudC5zdGVwczsKCiAgY29uc3QgbmV4dCA9IHN0ZXBzLm5leHQob3V0cHV0RWxlbWVudC5sYXN0UHJvbWlzZVZhbHVlKTsKICByZXR1cm4gUHJvbWlzZS5yZXNvbHZlKG5leHQudmFsdWUucHJvbWlzZSkudGhlbigodmFsdWUpID0+IHsKICAgIC8vIENhY2hlIHRoZSBsYXN0IHByb21pc2UgdmFsdWUgdG8gbWFrZSBpdCBhdmFpbGFibGUgdG8gdGhlIG5leHQKICAgIC8vIHN0ZXAgb2YgdGhlIGdlbmVyYXRvci4KICAgIG91dHB1dEVsZW1lbnQubGFzdFByb21pc2VWYWx1ZSA9IHZhbHVlOwogICAgcmV0dXJuIG5leHQudmFsdWUucmVzcG9uc2U7CiAgfSk7Cn0KCi8qKgogKiBHZW5lcmF0b3IgZnVuY3Rpb24gd2hpY2ggaXMgY2FsbGVkIGJldHdlZW4gZWFjaCBhc3luYyBzdGVwIG9mIHRoZSB1cGxvYWQKICogcHJvY2Vzcy4KICogQHBhcmFtIHtzdHJpbmd9IGlucHV0SWQgRWxlbWVudCBJRCBvZiB0aGUgaW5wdXQgZmlsZSBwaWNrZXIgZWxlbWVudC4KICogQHBhcmFtIHtzdHJpbmd9IG91dHB1dElkIEVsZW1lbnQgSUQgb2YgdGhlIG91dHB1dCBkaXNwbGF5LgogKiBAcmV0dXJuIHshSXRlcmFibGU8IU9iamVjdD59IEl0ZXJhYmxlIG9mIG5leHQgc3RlcHMuCiAqLwpmdW5jdGlvbiogdXBsb2FkRmlsZXNTdGVwKGlucHV0SWQsIG91dHB1dElkKSB7CiAgY29uc3QgaW5wdXRFbGVtZW50ID0gZG9jdW1lbnQuZ2V0RWxlbWVudEJ5SWQoaW5wdXRJZCk7CiAgaW5wdXRFbGVtZW50LmRpc2FibGVkID0gZmFsc2U7CgogIGNvbnN0IG91dHB1dEVsZW1lbnQgPSBkb2N1bWVudC5nZXRFbGVtZW50QnlJZChvdXRwdXRJZCk7CiAgb3V0cHV0RWxlbWVudC5pbm5lckhUTUwgPSAnJzsKCiAgY29uc3QgcGlja2VkUHJvbWlzZSA9IG5ldyBQcm9taXNlKChyZXNvbHZlKSA9PiB7CiAgICBpbnB1dEVsZW1lbnQuYWRkRXZlbnRMaXN0ZW5lcignY2hhbmdlJywgKGUpID0+IHsKICAgICAgcmVzb2x2ZShlLnRhcmdldC5maWxlcyk7CiAgICB9KTsKICB9KTsKCiAgY29uc3QgY2FuY2VsID0gZG9jdW1lbnQuY3JlYXRlRWxlbWVudCgnYnV0dG9uJyk7CiAgaW5wdXRFbGVtZW50LnBhcmVudEVsZW1lbnQuYXBwZW5kQ2hpbGQoY2FuY2VsKTsKICBjYW5jZWwudGV4dENvbnRlbnQgPSAnQ2FuY2VsIHVwbG9hZCc7CiAgY29uc3QgY2FuY2VsUHJvbWlzZSA9IG5ldyBQcm9taXNlKChyZXNvbHZlKSA9PiB7CiAgICBjYW5jZWwub25jbGljayA9ICgpID0+IHsKICAgICAgcmVzb2x2ZShudWxsKTsKICAgIH07CiAgfSk7CgogIC8vIENhbmNlbCB1cGxvYWQgaWYgdXNlciBoYXNuJ3QgcGlja2VkIGFueXRoaW5nIGluIHRpbWVvdXQuCiAgY29uc3QgdGltZW91dFByb21pc2UgPSBuZXcgUHJvbWlzZSgocmVzb2x2ZSkgPT4gewogICAgc2V0VGltZW91dCgoKSA9PiB7CiAgICAgIHJlc29sdmUobnVsbCk7CiAgICB9LCBGSUxFX0NIQU5HRV9USU1FT1VUX01TKTsKICB9KTsKCiAgLy8gV2FpdCBmb3IgdGhlIHVzZXIgdG8gcGljayB0aGUgZmlsZXMuCiAgY29uc3QgZmlsZXMgPSB5aWVsZCB7CiAgICBwcm9taXNlOiBQcm9taXNlLnJhY2UoW3BpY2tlZFByb21pc2UsIHRpbWVvdXRQcm9taXNlLCBjYW5jZWxQcm9taXNlXSksCiAgICByZXNwb25zZTogewogICAgICBhY3Rpb246ICdzdGFydGluZycsCiAgICB9CiAgfTsKCiAgaWYgKCFmaWxlcykgewogICAgcmV0dXJuIHsKICAgICAgcmVzcG9uc2U6IHsKICAgICAgICBhY3Rpb246ICdjb21wbGV0ZScsCiAgICAgIH0KICAgIH07CiAgfQoKICBjYW5jZWwucmVtb3ZlKCk7CgogIC8vIERpc2FibGUgdGhlIGlucHV0IGVsZW1lbnQgc2luY2UgZnVydGhlciBwaWNrcyBhcmUgbm90IGFsbG93ZWQuCiAgaW5wdXRFbGVtZW50LmRpc2FibGVkID0gdHJ1ZTsKCiAgZm9yIChjb25zdCBmaWxlIG9mIGZpbGVzKSB7CiAgICBjb25zdCBsaSA9IGRvY3VtZW50LmNyZWF0ZUVsZW1lbnQoJ2xpJyk7CiAgICBsaS5hcHBlbmQoc3BhbihmaWxlLm5hbWUsIHtmb250V2VpZ2h0OiAnYm9sZCd9KSk7CiAgICBsaS5hcHBlbmQoc3BhbigKICAgICAgICBgKCR7ZmlsZS50eXBlIHx8ICduL2EnfSkgLSAke2ZpbGUuc2l6ZX0gYnl0ZXMsIGAgKwogICAgICAgIGBsYXN0IG1vZGlmaWVkOiAkewogICAgICAgICAgICBmaWxlLmxhc3RNb2RpZmllZERhdGUgPyBmaWxlLmxhc3RNb2RpZmllZERhdGUudG9Mb2NhbGVEYXRlU3RyaW5nKCkgOgogICAgICAgICAgICAgICAgICAgICAgICAgICAgICAgICAgICAnbi9hJ30gLSBgKSk7CiAgICBjb25zdCBwZXJjZW50ID0gc3BhbignMCUgZG9uZScpOwogICAgbGkuYXBwZW5kQ2hpbGQocGVyY2VudCk7CgogICAgb3V0cHV0RWxlbWVudC5hcHBlbmRDaGlsZChsaSk7CgogICAgY29uc3QgZmlsZURhdGFQcm9taXNlID0gbmV3IFByb21pc2UoKHJlc29sdmUpID0+IHsKICAgICAgY29uc3QgcmVhZGVyID0gbmV3IEZpbGVSZWFkZXIoKTsKICAgICAgcmVhZGVyLm9ubG9hZCA9IChlKSA9PiB7CiAgICAgICAgcmVzb2x2ZShlLnRhcmdldC5yZXN1bHQpOwogICAgICB9OwogICAgICByZWFkZXIucmVhZEFzQXJyYXlCdWZmZXIoZmlsZSk7CiAgICB9KTsKICAgIC8vIFdhaXQgZm9yIHRoZSBkYXRhIHRvIGJlIHJlYWR5LgogICAgbGV0IGZpbGVEYXRhID0geWllbGQgewogICAgICBwcm9taXNlOiBmaWxlRGF0YVByb21pc2UsCiAgICAgIHJlc3BvbnNlOiB7CiAgICAgICAgYWN0aW9uOiAnY29udGludWUnLAogICAgICB9CiAgICB9OwoKICAgIC8vIFVzZSBhIGNodW5rZWQgc2VuZGluZyB0byBhdm9pZCBtZXNzYWdlIHNpemUgbGltaXRzLiBTZWUgYi82MjExNTY2MC4KICAgIGxldCBwb3NpdGlvbiA9IDA7CiAgICB3aGlsZSAocG9zaXRpb24gPCBmaWxlRGF0YS5ieXRlTGVuZ3RoKSB7CiAgICAgIGNvbnN0IGxlbmd0aCA9IE1hdGgubWluKGZpbGVEYXRhLmJ5dGVMZW5ndGggLSBwb3NpdGlvbiwgTUFYX1BBWUxPQURfU0laRSk7CiAgICAgIGNvbnN0IGNodW5rID0gbmV3IFVpbnQ4QXJyYXkoZmlsZURhdGEsIHBvc2l0aW9uLCBsZW5ndGgpOwogICAgICBwb3NpdGlvbiArPSBsZW5ndGg7CgogICAgICBjb25zdCBiYXNlNjQgPSBidG9hKFN0cmluZy5mcm9tQ2hhckNvZGUuYXBwbHkobnVsbCwgY2h1bmspKTsKICAgICAgeWllbGQgewogICAgICAgIHJlc3BvbnNlOiB7CiAgICAgICAgICBhY3Rpb246ICdhcHBlbmQnLAogICAgICAgICAgZmlsZTogZmlsZS5uYW1lLAogICAgICAgICAgZGF0YTogYmFzZTY0LAogICAgICAgIH0sCiAgICAgIH07CiAgICAgIHBlcmNlbnQudGV4dENvbnRlbnQgPQogICAgICAgICAgYCR7TWF0aC5yb3VuZCgocG9zaXRpb24gLyBmaWxlRGF0YS5ieXRlTGVuZ3RoKSAqIDEwMCl9JSBkb25lYDsKICAgIH0KICB9CgogIC8vIEFsbCBkb25lLgogIHlpZWxkIHsKICAgIHJlc3BvbnNlOiB7CiAgICAgIGFjdGlvbjogJ2NvbXBsZXRlJywKICAgIH0KICB9Owp9CgpzY29wZS5nb29nbGUgPSBzY29wZS5nb29nbGUgfHwge307CnNjb3BlLmdvb2dsZS5jb2xhYiA9IHNjb3BlLmdvb2dsZS5jb2xhYiB8fCB7fTsKc2NvcGUuZ29vZ2xlLmNvbGFiLl9maWxlcyA9IHsKICBfdXBsb2FkRmlsZXMsCiAgX3VwbG9hZEZpbGVzQ29udGludWUsCn07Cn0pKHNlbGYpOwo=",
              "ok": true,
              "headers": [
                [
                  "content-type",
                  "application/javascript"
                ]
              ],
              "status": 200,
              "status_text": ""
            }
          },
          "base_uri": "https://localhost:8080/",
          "height": 93
        }
      },
      "source": [
        "uploaded = files.upload()\n",
        "for fn in uploaded.keys():\n",
        "  print('User uploaded file \"{name}\" with length {length} bytes'.format(\n",
        "      name=fn, length=len(uploaded[fn])))"
      ],
      "execution_count": 0,
      "outputs": [
        {
          "output_type": "display_data",
          "data": {
            "text/html": [
              "\n",
              "     <input type=\"file\" id=\"files-02ded879-686f-4a1d-85c4-5b6bd39e74ab\" name=\"files[]\" multiple disabled />\n",
              "     <output id=\"result-02ded879-686f-4a1d-85c4-5b6bd39e74ab\">\n",
              "      Upload widget is only available when the cell has been executed in the\n",
              "      current browser session. Please rerun this cell to enable.\n",
              "      </output>\n",
              "      <script src=\"/nbextensions/google.colab/files.js\"></script> "
            ],
            "text/plain": [
              "<IPython.core.display.HTML object>"
            ]
          },
          "metadata": {
            "tags": []
          }
        },
        {
          "output_type": "stream",
          "text": [
            "Saving hi_lo.csv to hi_lo.csv\n",
            "User uploaded file \"hi_lo.csv\" with length 33030 bytes\n"
          ],
          "name": "stdout"
        }
      ]
    },
    {
      "cell_type": "code",
      "metadata": {
        "id": "WwAC9YnF2S2q",
        "colab_type": "code",
        "outputId": "35ecb5eb-7475-4500-b391-7d2e9f01a549",
        "colab": {
          "base_uri": "https://localhost:8080/",
          "height": 204
        }
      },
      "source": [
        "hi_lo_data=pd.read_csv('hi_lo.csv')\n",
        "hi_lo_data.head()"
      ],
      "execution_count": 0,
      "outputs": [
        {
          "output_type": "execute_result",
          "data": {
            "text/html": [
              "<div>\n",
              "<style scoped>\n",
              "    .dataframe tbody tr th:only-of-type {\n",
              "        vertical-align: middle;\n",
              "    }\n",
              "\n",
              "    .dataframe tbody tr th {\n",
              "        vertical-align: top;\n",
              "    }\n",
              "\n",
              "    .dataframe thead th {\n",
              "        text-align: right;\n",
              "    }\n",
              "</style>\n",
              "<table border=\"1\" class=\"dataframe\">\n",
              "  <thead>\n",
              "    <tr style=\"text-align: right;\">\n",
              "      <th></th>\n",
              "      <th>date</th>\n",
              "      <th>hi_check9_count</th>\n",
              "      <th>lo_check9_count</th>\n",
              "      <th>hilo9</th>\n",
              "      <th>hi_check26_count</th>\n",
              "      <th>lo_check26_count</th>\n",
              "      <th>hilo26</th>\n",
              "      <th>arms9</th>\n",
              "      <th>arms26</th>\n",
              "      <th>ad9</th>\n",
              "      <th>ad26</th>\n",
              "    </tr>\n",
              "  </thead>\n",
              "  <tbody>\n",
              "    <tr>\n",
              "      <th>0</th>\n",
              "      <td>2018-02-06</td>\n",
              "      <td>15</td>\n",
              "      <td>842</td>\n",
              "      <td>0.017503</td>\n",
              "      <td>8</td>\n",
              "      <td>726</td>\n",
              "      <td>0.010899</td>\n",
              "      <td>0.801583</td>\n",
              "      <td>0.445738</td>\n",
              "      <td>-827.0</td>\n",
              "      <td>-718.0</td>\n",
              "    </tr>\n",
              "    <tr>\n",
              "      <th>1</th>\n",
              "      <td>2018-02-07</td>\n",
              "      <td>28</td>\n",
              "      <td>72</td>\n",
              "      <td>0.280000</td>\n",
              "      <td>14</td>\n",
              "      <td>57</td>\n",
              "      <td>0.197183</td>\n",
              "      <td>1.566881</td>\n",
              "      <td>1.223397</td>\n",
              "      <td>-871.0</td>\n",
              "      <td>-761.0</td>\n",
              "    </tr>\n",
              "    <tr>\n",
              "      <th>2</th>\n",
              "      <td>2018-02-08</td>\n",
              "      <td>21</td>\n",
              "      <td>126</td>\n",
              "      <td>0.142857</td>\n",
              "      <td>6</td>\n",
              "      <td>108</td>\n",
              "      <td>0.052632</td>\n",
              "      <td>1.156681</td>\n",
              "      <td>0.738905</td>\n",
              "      <td>-976.0</td>\n",
              "      <td>-863.0</td>\n",
              "    </tr>\n",
              "    <tr>\n",
              "      <th>3</th>\n",
              "      <td>2018-02-09</td>\n",
              "      <td>14</td>\n",
              "      <td>606</td>\n",
              "      <td>0.022581</td>\n",
              "      <td>7</td>\n",
              "      <td>569</td>\n",
              "      <td>0.012153</td>\n",
              "      <td>1.415071</td>\n",
              "      <td>0.979620</td>\n",
              "      <td>-1568.0</td>\n",
              "      <td>-1425.0</td>\n",
              "    </tr>\n",
              "    <tr>\n",
              "      <th>4</th>\n",
              "      <td>2018-02-12</td>\n",
              "      <td>40</td>\n",
              "      <td>45</td>\n",
              "      <td>0.470588</td>\n",
              "      <td>18</td>\n",
              "      <td>40</td>\n",
              "      <td>0.310345</td>\n",
              "      <td>0.128391</td>\n",
              "      <td>0.069685</td>\n",
              "      <td>-1573.0</td>\n",
              "      <td>-1447.0</td>\n",
              "    </tr>\n",
              "  </tbody>\n",
              "</table>\n",
              "</div>"
            ],
            "text/plain": [
              "         date  hi_check9_count  lo_check9_count  ...    arms26     ad9    ad26\n",
              "0  2018-02-06               15              842  ...  0.445738  -827.0  -718.0\n",
              "1  2018-02-07               28               72  ...  1.223397  -871.0  -761.0\n",
              "2  2018-02-08               21              126  ...  0.738905  -976.0  -863.0\n",
              "3  2018-02-09               14              606  ...  0.979620 -1568.0 -1425.0\n",
              "4  2018-02-12               40               45  ...  0.069685 -1573.0 -1447.0\n",
              "\n",
              "[5 rows x 11 columns]"
            ]
          },
          "metadata": {
            "tags": []
          },
          "execution_count": 34
        }
      ]
    },
    {
      "cell_type": "code",
      "metadata": {
        "id": "TulYQa3m2iJy",
        "colab_type": "code",
        "colab": {}
      },
      "source": [
        "stk_hilo9=hi_lo_data[:]['hilo9']\n",
        "stk_hilo26=hi_lo_data[:]['hilo26']\n",
        "stk_arms9=hi_lo_data[:]['arms9']\n",
        "stk_arms26=hi_lo_data[:]['arms26']\n",
        "stk_ad9=hi_lo_data[:]['ad9']\n",
        "stk_ad26=hi_lo_data[:]['ad26']"
      ],
      "execution_count": 0,
      "outputs": []
    },
    {
      "cell_type": "code",
      "metadata": {
        "id": "SFfw4XeS5hkx",
        "colab_type": "code",
        "outputId": "c038886b-6990-4e0f-d500-7d3b313158fc",
        "colab": {
          "base_uri": "https://localhost:8080/",
          "height": 266
        }
      },
      "source": [
        "from statsmodels.tsa.stattools import adfuller\n",
        "\n",
        "temp = np.array(stk_hilo9)\n",
        "t = adfuller(temp)  # ADF检验\n",
        "output=pd.DataFrame(index=['Test Statistic Value', \"p-value\", \"Lags Used\", \"Number of Observations Used\",\"Critical Value(1%)\",\"Critical Value(5%)\",\"Critical Value(10%)\"],columns=['value'])\n",
        "output['value']['Test Statistic Value'] = t[0]\n",
        "output['value']['p-value'] = t[1]\n",
        "output['value']['Lags Used'] = t[2]\n",
        "output['value']['Number of Observations Used'] = t[3]\n",
        "output['value']['Critical Value(1%)'] = t[4]['1%']\n",
        "output['value']['Critical Value(5%)'] = t[4]['5%']\n",
        "output['value']['Critical Value(10%)'] = t[4]['10%']\n",
        "output"
      ],
      "execution_count": 0,
      "outputs": [
        {
          "output_type": "execute_result",
          "data": {
            "text/html": [
              "<div>\n",
              "<style scoped>\n",
              "    .dataframe tbody tr th:only-of-type {\n",
              "        vertical-align: middle;\n",
              "    }\n",
              "\n",
              "    .dataframe tbody tr th {\n",
              "        vertical-align: top;\n",
              "    }\n",
              "\n",
              "    .dataframe thead th {\n",
              "        text-align: right;\n",
              "    }\n",
              "</style>\n",
              "<table border=\"1\" class=\"dataframe\">\n",
              "  <thead>\n",
              "    <tr style=\"text-align: right;\">\n",
              "      <th></th>\n",
              "      <th>value</th>\n",
              "    </tr>\n",
              "  </thead>\n",
              "  <tbody>\n",
              "    <tr>\n",
              "      <th>Test Statistic Value</th>\n",
              "      <td>-6.21415</td>\n",
              "    </tr>\n",
              "    <tr>\n",
              "      <th>p-value</th>\n",
              "      <td>5.41702e-08</td>\n",
              "    </tr>\n",
              "    <tr>\n",
              "      <th>Lags Used</th>\n",
              "      <td>0</td>\n",
              "    </tr>\n",
              "    <tr>\n",
              "      <th>Number of Observations Used</th>\n",
              "      <td>281</td>\n",
              "    </tr>\n",
              "    <tr>\n",
              "      <th>Critical Value(1%)</th>\n",
              "      <td>-3.45384</td>\n",
              "    </tr>\n",
              "    <tr>\n",
              "      <th>Critical Value(5%)</th>\n",
              "      <td>-2.87188</td>\n",
              "    </tr>\n",
              "    <tr>\n",
              "      <th>Critical Value(10%)</th>\n",
              "      <td>-2.57228</td>\n",
              "    </tr>\n",
              "  </tbody>\n",
              "</table>\n",
              "</div>"
            ],
            "text/plain": [
              "                                   value\n",
              "Test Statistic Value            -6.21415\n",
              "p-value                      5.41702e-08\n",
              "Lags Used                              0\n",
              "Number of Observations Used          281\n",
              "Critical Value(1%)              -3.45384\n",
              "Critical Value(5%)              -2.87188\n",
              "Critical Value(10%)             -2.57228"
            ]
          },
          "metadata": {
            "tags": []
          },
          "execution_count": 37
        }
      ]
    },
    {
      "cell_type": "code",
      "metadata": {
        "id": "pOHNCD1r5twv",
        "colab_type": "code",
        "outputId": "15ed161d-a5c5-4f9e-d357-320cb7da7236",
        "colab": {
          "base_uri": "https://localhost:8080/",
          "height": 499
        }
      },
      "source": [
        "fig = plt.figure(figsize=(12,8))\n",
        "plt.plot(stk_hilo9,'r',label='stk_hilo9')\n",
        "plt.title('stk_hilo9 per period TW STOCK')\n",
        "plt.grid(True)\n",
        "plt.axis('tight')\n",
        "plt.legend(loc=0)\n",
        "plt.ylabel('stk_hilo9')\n",
        "plt.show()"
      ],
      "execution_count": 0,
      "outputs": [
        {
          "output_type": "display_data",
          "data": {
            "image/png": "[encoded data removed]",
            "text/plain": [
              "<Figure size 864x576 with 1 Axes>"
            ]
          },
          "metadata": {
            "tags": []
          }
        }
      ]
    },
    {
      "cell_type": "code",
      "metadata": {
        "id": "7M_NKNkT6BzU",
        "colab_type": "code",
        "outputId": "06e685e9-998d-4a9f-8472-34f3f35ccbe2",
        "colab": {
          "base_uri": "https://localhost:8080/",
          "height": 266
        }
      },
      "source": [
        "from statsmodels.tsa.stattools import adfuller\n",
        "\n",
        "temp = np.array(stk_hilo26)\n",
        "t = adfuller(temp)  # ADF检验\n",
        "output=pd.DataFrame(index=['Test Statistic Value', \"p-value\", \"Lags Used\", \"Number of Observations Used\",\"Critical Value(1%)\",\"Critical Value(5%)\",\"Critical Value(10%)\"],columns=['value'])\n",
        "output['value']['Test Statistic Value'] = t[0]\n",
        "output['value']['p-value'] = t[1]\n",
        "output['value']['Lags Used'] = t[2]\n",
        "output['value']['Number of Observations Used'] = t[3]\n",
        "output['value']['Critical Value(1%)'] = t[4]['1%']\n",
        "output['value']['Critical Value(5%)'] = t[4]['5%']\n",
        "output['value']['Critical Value(10%)'] = t[4]['10%']\n",
        "output"
      ],
      "execution_count": 0,
      "outputs": [
        {
          "output_type": "execute_result",
          "data": {
            "text/html": [
              "<div>\n",
              "<style scoped>\n",
              "    .dataframe tbody tr th:only-of-type {\n",
              "        vertical-align: middle;\n",
              "    }\n",
              "\n",
              "    .dataframe tbody tr th {\n",
              "        vertical-align: top;\n",
              "    }\n",
              "\n",
              "    .dataframe thead th {\n",
              "        text-align: right;\n",
              "    }\n",
              "</style>\n",
              "<table border=\"1\" class=\"dataframe\">\n",
              "  <thead>\n",
              "    <tr style=\"text-align: right;\">\n",
              "      <th></th>\n",
              "      <th>value</th>\n",
              "    </tr>\n",
              "  </thead>\n",
              "  <tbody>\n",
              "    <tr>\n",
              "      <th>Test Statistic Value</th>\n",
              "      <td>-4.13214</td>\n",
              "    </tr>\n",
              "    <tr>\n",
              "      <th>p-value</th>\n",
              "      <td>0.00085661</td>\n",
              "    </tr>\n",
              "    <tr>\n",
              "      <th>Lags Used</th>\n",
              "      <td>1</td>\n",
              "    </tr>\n",
              "    <tr>\n",
              "      <th>Number of Observations Used</th>\n",
              "      <td>280</td>\n",
              "    </tr>\n",
              "    <tr>\n",
              "      <th>Critical Value(1%)</th>\n",
              "      <td>-3.45392</td>\n",
              "    </tr>\n",
              "    <tr>\n",
              "      <th>Critical Value(5%)</th>\n",
              "      <td>-2.87192</td>\n",
              "    </tr>\n",
              "    <tr>\n",
              "      <th>Critical Value(10%)</th>\n",
              "      <td>-2.5723</td>\n",
              "    </tr>\n",
              "  </tbody>\n",
              "</table>\n",
              "</div>"
            ],
            "text/plain": [
              "                                  value\n",
              "Test Statistic Value           -4.13214\n",
              "p-value                      0.00085661\n",
              "Lags Used                             1\n",
              "Number of Observations Used         280\n",
              "Critical Value(1%)             -3.45392\n",
              "Critical Value(5%)             -2.87192\n",
              "Critical Value(10%)             -2.5723"
            ]
          },
          "metadata": {
            "tags": []
          },
          "execution_count": 39
        }
      ]
    },
    {
      "cell_type": "code",
      "metadata": {
        "id": "dZMbEQV26H5r",
        "colab_type": "code",
        "outputId": "438584f5-7545-4755-e6c0-f10e72d04bd4",
        "colab": {
          "base_uri": "https://localhost:8080/",
          "height": 499
        }
      },
      "source": [
        "fig = plt.figure(figsize=(12,8))\n",
        "plt.plot(stk_hilo26,'r',label='stk_hilo26')\n",
        "plt.title('stk_hilo26 per period TW STOCK')\n",
        "plt.grid(True)\n",
        "plt.axis('tight')\n",
        "plt.legend(loc=0)\n",
        "plt.ylabel('stk_hilo26')\n",
        "plt.show()"
      ],
      "execution_count": 0,
      "outputs": [
        {
          "output_type": "display_data",
          "data": {
            "image/png": "[encoded data removed]",
            "text/plain": [
              "<Figure size 864x576 with 1 Axes>"
            ]
          },
          "metadata": {
            "tags": []
          }
        }
      ]
    },
    {
      "cell_type": "code",
      "metadata": {
        "id": "-HXCfcVX6dwl",
        "colab_type": "code",
        "outputId": "0aca23ad-d78e-4210-e056-a2d6c987460e",
        "colab": {
          "base_uri": "https://localhost:8080/",
          "height": 266
        }
      },
      "source": [
        "from statsmodels.tsa.stattools import adfuller\n",
        "\n",
        "temp = np.array(stk_arms9)\n",
        "t = adfuller(temp)  # ADF检验\n",
        "output=pd.DataFrame(index=['Test Statistic Value', \"p-value\", \"Lags Used\", \"Number of Observations Used\",\"Critical Value(1%)\",\"Critical Value(5%)\",\"Critical Value(10%)\"],columns=['value'])\n",
        "output['value']['Test Statistic Value'] = t[0]\n",
        "output['value']['p-value'] = t[1]\n",
        "output['value']['Lags Used'] = t[2]\n",
        "output['value']['Number of Observations Used'] = t[3]\n",
        "output['value']['Critical Value(1%)'] = t[4]['1%']\n",
        "output['value']['Critical Value(5%)'] = t[4]['5%']\n",
        "output['value']['Critical Value(10%)'] = t[4]['10%']\n",
        "output"
      ],
      "execution_count": 0,
      "outputs": [
        {
          "output_type": "execute_result",
          "data": {
            "text/html": [
              "<div>\n",
              "<style scoped>\n",
              "    .dataframe tbody tr th:only-of-type {\n",
              "        vertical-align: middle;\n",
              "    }\n",
              "\n",
              "    .dataframe tbody tr th {\n",
              "        vertical-align: top;\n",
              "    }\n",
              "\n",
              "    .dataframe thead th {\n",
              "        text-align: right;\n",
              "    }\n",
              "</style>\n",
              "<table border=\"1\" class=\"dataframe\">\n",
              "  <thead>\n",
              "    <tr style=\"text-align: right;\">\n",
              "      <th></th>\n",
              "      <th>value</th>\n",
              "    </tr>\n",
              "  </thead>\n",
              "  <tbody>\n",
              "    <tr>\n",
              "      <th>Test Statistic Value</th>\n",
              "      <td>-6.37158</td>\n",
              "    </tr>\n",
              "    <tr>\n",
              "      <th>p-value</th>\n",
              "      <td>2.33801e-08</td>\n",
              "    </tr>\n",
              "    <tr>\n",
              "      <th>Lags Used</th>\n",
              "      <td>3</td>\n",
              "    </tr>\n",
              "    <tr>\n",
              "      <th>Number of Observations Used</th>\n",
              "      <td>278</td>\n",
              "    </tr>\n",
              "    <tr>\n",
              "      <th>Critical Value(1%)</th>\n",
              "      <td>-3.45409</td>\n",
              "    </tr>\n",
              "    <tr>\n",
              "      <th>Critical Value(5%)</th>\n",
              "      <td>-2.87199</td>\n",
              "    </tr>\n",
              "    <tr>\n",
              "      <th>Critical Value(10%)</th>\n",
              "      <td>-2.57234</td>\n",
              "    </tr>\n",
              "  </tbody>\n",
              "</table>\n",
              "</div>"
            ],
            "text/plain": [
              "                                   value\n",
              "Test Statistic Value            -6.37158\n",
              "p-value                      2.33801e-08\n",
              "Lags Used                              3\n",
              "Number of Observations Used          278\n",
              "Critical Value(1%)              -3.45409\n",
              "Critical Value(5%)              -2.87199\n",
              "Critical Value(10%)             -2.57234"
            ]
          },
          "metadata": {
            "tags": []
          },
          "execution_count": 66
        }
      ]
    },
    {
      "cell_type": "code",
      "metadata": {
        "id": "9c0nOcLw6mzi",
        "colab_type": "code",
        "outputId": "a20904e7-7c7e-4cc3-e6ef-ed074870fecd",
        "colab": {
          "base_uri": "https://localhost:8080/",
          "height": 499
        }
      },
      "source": [
        "fig = plt.figure(figsize=(12,8))\n",
        "plt.plot(stk_arms9,'r',label='stk_arms9')\n",
        "plt.title('stk_arms9 per period TW STOCK')\n",
        "plt.grid(True)\n",
        "plt.axis('tight')\n",
        "plt.legend(loc=0)\n",
        "plt.ylabel('stk_arms9')\n",
        "plt.show()"
      ],
      "execution_count": 0,
      "outputs": [
        {
          "output_type": "display_data",
          "data": {
            "image/png": "[encoded data removed]",
            "text/plain": [
              "<Figure size 864x576 with 1 Axes>"
            ]
          },
          "metadata": {
            "tags": []
          }
        }
      ]
    },
    {
      "cell_type": "code",
      "metadata": {
        "id": "RO-t57y-608w",
        "colab_type": "code",
        "outputId": "455dd715-7331-4933-92dc-6b17ce007a2a",
        "colab": {
          "base_uri": "https://localhost:8080/",
          "height": 266
        }
      },
      "source": [
        "from statsmodels.tsa.stattools import adfuller\n",
        "from scipy import signal\n",
        "mm_stk_arms26=stk_arms26.shift(1)/stk_arms26\n",
        "mm_stk_arms26=mm_stk_arms26[1:]\n",
        "temp = np.array(mm_stk_arms26)\n",
        "t = adfuller(temp)  # ADF检验\n",
        "output=pd.DataFrame(index=['Test Statistic Value', \"p-value\", \"Lags Used\", \"Number of Observations Used\",\"Critical Value(1%)\",\"Critical Value(5%)\",\"Critical Value(10%)\"],columns=['value'])\n",
        "output['value']['Test Statistic Value'] = t[0]\n",
        "output['value']['p-value'] = t[1]\n",
        "output['value']['Lags Used'] = t[2]\n",
        "output['value']['Number of Observations Used'] = t[3]\n",
        "output['value']['Critical Value(1%)'] = t[4]['1%']\n",
        "output['value']['Critical Value(5%)'] = t[4]['5%']\n",
        "output['value']['Critical Value(10%)'] = t[4]['10%']\n",
        "output"
      ],
      "execution_count": 0,
      "outputs": [
        {
          "output_type": "execute_result",
          "data": {
            "text/html": [
              "<div>\n",
              "<style scoped>\n",
              "    .dataframe tbody tr th:only-of-type {\n",
              "        vertical-align: middle;\n",
              "    }\n",
              "\n",
              "    .dataframe tbody tr th {\n",
              "        vertical-align: top;\n",
              "    }\n",
              "\n",
              "    .dataframe thead th {\n",
              "        text-align: right;\n",
              "    }\n",
              "</style>\n",
              "<table border=\"1\" class=\"dataframe\">\n",
              "  <thead>\n",
              "    <tr style=\"text-align: right;\">\n",
              "      <th></th>\n",
              "      <th>value</th>\n",
              "    </tr>\n",
              "  </thead>\n",
              "  <tbody>\n",
              "    <tr>\n",
              "      <th>Test Statistic Value</th>\n",
              "      <td>-9.03668</td>\n",
              "    </tr>\n",
              "    <tr>\n",
              "      <th>p-value</th>\n",
              "      <td>5.26626e-15</td>\n",
              "    </tr>\n",
              "    <tr>\n",
              "      <th>Lags Used</th>\n",
              "      <td>2</td>\n",
              "    </tr>\n",
              "    <tr>\n",
              "      <th>Number of Observations Used</th>\n",
              "      <td>278</td>\n",
              "    </tr>\n",
              "    <tr>\n",
              "      <th>Critical Value(1%)</th>\n",
              "      <td>-3.45409</td>\n",
              "    </tr>\n",
              "    <tr>\n",
              "      <th>Critical Value(5%)</th>\n",
              "      <td>-2.87199</td>\n",
              "    </tr>\n",
              "    <tr>\n",
              "      <th>Critical Value(10%)</th>\n",
              "      <td>-2.57234</td>\n",
              "    </tr>\n",
              "  </tbody>\n",
              "</table>\n",
              "</div>"
            ],
            "text/plain": [
              "                                   value\n",
              "Test Statistic Value            -9.03668\n",
              "p-value                      5.26626e-15\n",
              "Lags Used                              2\n",
              "Number of Observations Used          278\n",
              "Critical Value(1%)              -3.45409\n",
              "Critical Value(5%)              -2.87199\n",
              "Critical Value(10%)             -2.57234"
            ]
          },
          "metadata": {
            "tags": []
          },
          "execution_count": 73
        }
      ]
    },
    {
      "cell_type": "code",
      "metadata": {
        "id": "WU4l4M04_gos",
        "colab_type": "code",
        "outputId": "4aa23ceb-85e7-4601-bdd2-f27f6d6aab02",
        "colab": {
          "base_uri": "https://localhost:8080/",
          "height": 499
        }
      },
      "source": [
        "fig = plt.figure(figsize=(12,8))\n",
        "plt.plot(mm_stk_arms26,'r',label='mm_stk_arms26')\n",
        "plt.title('mm_stk_arms26 per period TW STOCK')\n",
        "plt.grid(True)\n",
        "plt.axis('tight')\n",
        "plt.legend(loc=0)\n",
        "plt.ylabel('mm_stk_arms26')\n",
        "plt.show()"
      ],
      "execution_count": 0,
      "outputs": [
        {
          "output_type": "display_data",
          "data": {
            "image/png": "[encoded data removed]",
            "text/plain": [
              "<Figure size 864x576 with 1 Axes>"
            ]
          },
          "metadata": {
            "tags": []
          }
        }
      ]
    },
    {
      "cell_type": "code",
      "metadata": {
        "id": "GoW4a-1YAOqW",
        "colab_type": "code",
        "outputId": "9863b680-3053-4302-a437-2ce2b11d0666",
        "colab": {
          "base_uri": "https://localhost:8080/",
          "height": 266
        }
      },
      "source": [
        "from statsmodels.tsa.stattools import adfuller\n",
        "from scipy import signal\n",
        "mm_stk_ad9=stk_ad9.shift(1)/stk_ad9\n",
        "mm_stk_ad9=mm_stk_ad9[1:]\n",
        "temp = np.array(mm_stk_ad9)\n",
        "t = adfuller(temp)  # ADF检验\n",
        "output=pd.DataFrame(index=['Test Statistic Value', \"p-value\", \"Lags Used\", \"Number of Observations Used\",\"Critical Value(1%)\",\"Critical Value(5%)\",\"Critical Value(10%)\"],columns=['value'])\n",
        "output['value']['Test Statistic Value'] = t[0]\n",
        "output['value']['p-value'] = t[1]\n",
        "output['value']['Lags Used'] = t[2]\n",
        "output['value']['Number of Observations Used'] = t[3]\n",
        "output['value']['Critical Value(1%)'] = t[4]['1%']\n",
        "output['value']['Critical Value(5%)'] = t[4]['5%']\n",
        "output['value']['Critical Value(10%)'] = t[4]['10%']\n",
        "output"
      ],
      "execution_count": 0,
      "outputs": [
        {
          "output_type": "execute_result",
          "data": {
            "text/html": [
              "<div>\n",
              "<style scoped>\n",
              "    .dataframe tbody tr th:only-of-type {\n",
              "        vertical-align: middle;\n",
              "    }\n",
              "\n",
              "    .dataframe tbody tr th {\n",
              "        vertical-align: top;\n",
              "    }\n",
              "\n",
              "    .dataframe thead th {\n",
              "        text-align: right;\n",
              "    }\n",
              "</style>\n",
              "<table border=\"1\" class=\"dataframe\">\n",
              "  <thead>\n",
              "    <tr style=\"text-align: right;\">\n",
              "      <th></th>\n",
              "      <th>value</th>\n",
              "    </tr>\n",
              "  </thead>\n",
              "  <tbody>\n",
              "    <tr>\n",
              "      <th>Test Statistic Value</th>\n",
              "      <td>-16.9047</td>\n",
              "    </tr>\n",
              "    <tr>\n",
              "      <th>p-value</th>\n",
              "      <td>1.02131e-29</td>\n",
              "    </tr>\n",
              "    <tr>\n",
              "      <th>Lags Used</th>\n",
              "      <td>0</td>\n",
              "    </tr>\n",
              "    <tr>\n",
              "      <th>Number of Observations Used</th>\n",
              "      <td>280</td>\n",
              "    </tr>\n",
              "    <tr>\n",
              "      <th>Critical Value(1%)</th>\n",
              "      <td>-3.45392</td>\n",
              "    </tr>\n",
              "    <tr>\n",
              "      <th>Critical Value(5%)</th>\n",
              "      <td>-2.87192</td>\n",
              "    </tr>\n",
              "    <tr>\n",
              "      <th>Critical Value(10%)</th>\n",
              "      <td>-2.5723</td>\n",
              "    </tr>\n",
              "  </tbody>\n",
              "</table>\n",
              "</div>"
            ],
            "text/plain": [
              "                                   value\n",
              "Test Statistic Value            -16.9047\n",
              "p-value                      1.02131e-29\n",
              "Lags Used                              0\n",
              "Number of Observations Used          280\n",
              "Critical Value(1%)              -3.45392\n",
              "Critical Value(5%)              -2.87192\n",
              "Critical Value(10%)              -2.5723"
            ]
          },
          "metadata": {
            "tags": []
          },
          "execution_count": 75
        }
      ]
    },
    {
      "cell_type": "code",
      "metadata": {
        "id": "rmNWLyhVBL8s",
        "colab_type": "code",
        "outputId": "a1a8a5bf-ff68-4c0e-aa5d-3a30513fbef0",
        "colab": {
          "base_uri": "https://localhost:8080/",
          "height": 499
        }
      },
      "source": [
        "fig = plt.figure(figsize=(12,8))\n",
        "plt.plot(mm_stk_ad9,'r',label='mm_stk_ad9')\n",
        "plt.title('mm_stk_ad9 per period TW STOCK')\n",
        "plt.grid(True)\n",
        "plt.axis('tight')\n",
        "plt.legend(loc=0)\n",
        "plt.ylabel('mm_stk_ad9')\n",
        "plt.show()"
      ],
      "execution_count": 0,
      "outputs": [
        {
          "output_type": "display_data",
          "data": {
            "image/png": "[encoded data removed]",
            "text/plain": [
              "<Figure size 864x576 with 1 Axes>"
            ]
          },
          "metadata": {
            "tags": []
          }
        }
      ]
    },
    {
      "cell_type": "code",
      "metadata": {
        "id": "J5D4Cx1B9jt1",
        "colab_type": "code",
        "outputId": "aca5077d-ce1f-43d3-e7ed-34209d065eb8",
        "colab": {
          "base_uri": "https://localhost:8080/",
          "height": 266
        }
      },
      "source": [
        "from statsmodels.tsa.stattools import adfuller\n",
        "from scipy import signal\n",
        "mm_stk_ad26=stk_ad26.shift(1)/stk_ad26\n",
        "mm_stk_ad26=mm_stk_ad26[1:]\n",
        "temp = np.array(mm_stk_ad26)\n",
        "t = adfuller(temp)  # ADF检验\n",
        "output=pd.DataFrame(index=['Test Statistic Value', \"p-value\", \"Lags Used\", \"Number of Observations Used\",\"Critical Value(1%)\",\"Critical Value(5%)\",\"Critical Value(10%)\"],columns=['value'])\n",
        "output['value']['Test Statistic Value'] = t[0]\n",
        "output['value']['p-value'] = t[1]\n",
        "output['value']['Lags Used'] = t[2]\n",
        "output['value']['Number of Observations Used'] = t[3]\n",
        "output['value']['Critical Value(1%)'] = t[4]['1%']\n",
        "output['value']['Critical Value(5%)'] = t[4]['5%']\n",
        "output['value']['Critical Value(10%)'] = t[4]['10%']\n",
        "output"
      ],
      "execution_count": 0,
      "outputs": [
        {
          "output_type": "execute_result",
          "data": {
            "text/html": [
              "<div>\n",
              "<style scoped>\n",
              "    .dataframe tbody tr th:only-of-type {\n",
              "        vertical-align: middle;\n",
              "    }\n",
              "\n",
              "    .dataframe tbody tr th {\n",
              "        vertical-align: top;\n",
              "    }\n",
              "\n",
              "    .dataframe thead th {\n",
              "        text-align: right;\n",
              "    }\n",
              "</style>\n",
              "<table border=\"1\" class=\"dataframe\">\n",
              "  <thead>\n",
              "    <tr style=\"text-align: right;\">\n",
              "      <th></th>\n",
              "      <th>value</th>\n",
              "    </tr>\n",
              "  </thead>\n",
              "  <tbody>\n",
              "    <tr>\n",
              "      <th>Test Statistic Value</th>\n",
              "      <td>-4.86692</td>\n",
              "    </tr>\n",
              "    <tr>\n",
              "      <th>p-value</th>\n",
              "      <td>4.04318e-05</td>\n",
              "    </tr>\n",
              "    <tr>\n",
              "      <th>Lags Used</th>\n",
              "      <td>8</td>\n",
              "    </tr>\n",
              "    <tr>\n",
              "      <th>Number of Observations Used</th>\n",
              "      <td>272</td>\n",
              "    </tr>\n",
              "    <tr>\n",
              "      <th>Critical Value(1%)</th>\n",
              "      <td>-3.45462</td>\n",
              "    </tr>\n",
              "    <tr>\n",
              "      <th>Critical Value(5%)</th>\n",
              "      <td>-2.87223</td>\n",
              "    </tr>\n",
              "    <tr>\n",
              "      <th>Critical Value(10%)</th>\n",
              "      <td>-2.57246</td>\n",
              "    </tr>\n",
              "  </tbody>\n",
              "</table>\n",
              "</div>"
            ],
            "text/plain": [
              "                                   value\n",
              "Test Statistic Value            -4.86692\n",
              "p-value                      4.04318e-05\n",
              "Lags Used                              8\n",
              "Number of Observations Used          272\n",
              "Critical Value(1%)              -3.45462\n",
              "Critical Value(5%)              -2.87223\n",
              "Critical Value(10%)             -2.57246"
            ]
          },
          "metadata": {
            "tags": []
          },
          "execution_count": 79
        }
      ]
    },
    {
      "cell_type": "code",
      "metadata": {
        "id": "bxGX4eq7DBiN",
        "colab_type": "code",
        "outputId": "00d6a6a7-e065-464d-a4e1-e132c0373d78",
        "colab": {
          "base_uri": "https://localhost:8080/",
          "height": 34
        }
      },
      "source": [
        "len(stk_adj_ratio[25:])\n"
      ],
      "execution_count": 0,
      "outputs": [
        {
          "output_type": "execute_result",
          "data": {
            "text/plain": [
              "282"
            ]
          },
          "metadata": {
            "tags": []
          },
          "execution_count": 84
        }
      ]
    },
    {
      "cell_type": "code",
      "metadata": {
        "id": "_i22zsQDDyXn",
        "colab_type": "code",
        "outputId": "45b8a083-a9e4-4c7e-ee83-d140f507f8a8",
        "colab": {
          "base_uri": "https://localhost:8080/",
          "height": 34
        }
      },
      "source": [
        "len(stk_hilo9)"
      ],
      "execution_count": 0,
      "outputs": [
        {
          "output_type": "execute_result",
          "data": {
            "text/plain": [
              "282"
            ]
          },
          "metadata": {
            "tags": []
          },
          "execution_count": 83
        }
      ]
    },
    {
      "cell_type": "code",
      "metadata": {
        "id": "hu-X1apxECF8",
        "colab_type": "code",
        "outputId": "570bfe54-0ef7-4d7c-c2b4-f9c17ad0736a",
        "colab": {
          "base_uri": "https://localhost:8080/",
          "height": 34
        }
      },
      "source": [
        "result = sm.tsa.stattools.coint(stk_adj_ratio[25:],stk_hilo9)\n",
        "pvalue = result[1]\n",
        "pvalue"
      ],
      "execution_count": 0,
      "outputs": [
        {
          "output_type": "execute_result",
          "data": {
            "text/plain": [
              "0.0"
            ]
          },
          "metadata": {
            "tags": []
          },
          "execution_count": 124
        }
      ]
    },
    {
      "cell_type": "code",
      "metadata": {
        "id": "ZIQZTQvXFxmr",
        "colab_type": "code",
        "outputId": "484ddf04-fa1c-42be-8bbd-2d1dad46bb2c",
        "colab": {
          "base_uri": "https://localhost:8080/",
          "height": 34
        }
      },
      "source": [
        "result = sm.tsa.stattools.coint(stk_adj_ratio[25:],stk_hilo26)\n",
        "pvalue = result[1]\n",
        "pvalue"
      ],
      "execution_count": 0,
      "outputs": [
        {
          "output_type": "execute_result",
          "data": {
            "text/plain": [
              "0.0"
            ]
          },
          "metadata": {
            "tags": []
          },
          "execution_count": 87
        }
      ]
    },
    {
      "cell_type": "code",
      "metadata": {
        "id": "OTPYTPpCF0LX",
        "colab_type": "code",
        "outputId": "3bf53b69-0ed0-461a-adc2-92642c287f5c",
        "colab": {
          "base_uri": "https://localhost:8080/",
          "height": 34
        }
      },
      "source": [
        "result = sm.tsa.stattools.coint(stk_adj_ratio[25:],stk_arms9)\n",
        "pvalue = result[1]\n",
        "pvalue"
      ],
      "execution_count": 0,
      "outputs": [
        {
          "output_type": "execute_result",
          "data": {
            "text/plain": [
              "0.0"
            ]
          },
          "metadata": {
            "tags": []
          },
          "execution_count": 88
        }
      ]
    },
    {
      "cell_type": "code",
      "metadata": {
        "id": "FkH63H_YF361",
        "colab_type": "code",
        "outputId": "242ca189-9150-4148-bc08-988f8f45b15f",
        "colab": {
          "base_uri": "https://localhost:8080/",
          "height": 34
        }
      },
      "source": [
        "result = sm.tsa.stattools.coint(stk_adj_ratio[26:],mm_stk_arms26)\n",
        "pvalue = result[1]\n",
        "pvalue"
      ],
      "execution_count": 0,
      "outputs": [
        {
          "output_type": "execute_result",
          "data": {
            "text/plain": [
              "0.0"
            ]
          },
          "metadata": {
            "tags": []
          },
          "execution_count": 92
        }
      ]
    },
    {
      "cell_type": "code",
      "metadata": {
        "id": "sCjI4kAGGNNY",
        "colab_type": "code",
        "outputId": "b01cb802-0275-4ec1-bf2b-eebe491a7078",
        "colab": {
          "base_uri": "https://localhost:8080/",
          "height": 34
        }
      },
      "source": [
        "result = sm.tsa.stattools.coint(stk_adj_ratio[26:],mm_stk_ad9)\n",
        "pvalue = result[1]\n",
        "pvalue"
      ],
      "execution_count": 0,
      "outputs": [
        {
          "output_type": "execute_result",
          "data": {
            "text/plain": [
              "0.0"
            ]
          },
          "metadata": {
            "tags": []
          },
          "execution_count": 93
        }
      ]
    },
    {
      "cell_type": "code",
      "metadata": {
        "id": "3I3H8rj2GRlW",
        "colab_type": "code",
        "outputId": "1a5a3cd8-4e4a-452a-ef94-dfb3c99b0678",
        "colab": {
          "base_uri": "https://localhost:8080/",
          "height": 34
        }
      },
      "source": [
        "result = sm.tsa.stattools.coint(stk_adj_ratio[26:],mm_stk_ad26)\n",
        "pvalue = result[1]\n",
        "pvalue"
      ],
      "execution_count": 0,
      "outputs": [
        {
          "output_type": "execute_result",
          "data": {
            "text/plain": [
              "0.0"
            ]
          },
          "metadata": {
            "tags": []
          },
          "execution_count": 94
        }
      ]
    },
    {
      "cell_type": "code",
      "metadata": {
        "id": "pdqpIAlMGW6w",
        "colab_type": "code",
        "outputId": "190195eb-ccdb-404d-8257-71757bbfe139",
        "colab": {
          "base_uri": "https://localhost:8080/",
          "height": 689
        }
      },
      "source": [
        "from scipy.ndimage.interpolation import shift\n",
        "all_date = {\n",
        "    'stk_date':np.array(stk_date[26:]),\n",
        "}\n",
        "all_stk_adj_ratio = {\n",
        "    'stk_adj_ratio': np.array(stk_adj_ratio[26:]), \n",
        "}\n",
        "all_data = { \n",
        "            'stk_hilo9': np.array(stk_hilo9[1:]),\n",
        "            'stk_hilo26':np.array(stk_hilo26[1:]),\n",
        "            'stk_hilo26_lag1': shift(stk_hilo26[1:],1),\n",
        "            'stk_arms9':np.array(stk_arms9[1:]),\n",
        "            'stk_arms9_lag1': shift(stk_arms9[1:],1),\n",
        "            'stk_arms9_lag2': shift(stk_arms9[1:],2),\n",
        "            'stk_arms9_lag3': shift(stk_arms9[1:],3),\n",
        "            'mm_stk_arms26':mm_stk_arms26,\n",
        "            'mm_stk_arms26_lag1': shift(mm_stk_arms26,1),\n",
        "            'mm_stk_arms26_lag2': shift(mm_stk_arms26,2),\n",
        "            'mm_stk_ad9':mm_stk_ad9,\n",
        "            'mm_stk_ad26':mm_stk_ad26,\n",
        "            'mm_stk_ad26_lag1': shift(mm_stk_ad26,1),\n",
        "            'mm_stk_ad26_lag2': shift(mm_stk_ad26,2),\n",
        "            'mm_stk_ad26_lag3': shift(mm_stk_ad26,3),\n",
        "            'mm_stk_ad26_lag4': shift(mm_stk_ad26,4),\n",
        "            'mm_stk_ad26_lag5': shift(mm_stk_ad26,5),\n",
        "            'mm_stk_ad26_lag6': shift(mm_stk_ad26,6),\n",
        "            'mm_stk_ad26_lag7': shift(mm_stk_ad26,7),\n",
        "            'mm_stk_ad26_lag8': shift(mm_stk_ad26,8),\n",
        "            }\n",
        "all_data = pd.DataFrame(all_data)\n",
        "all_data = all_data[8:]\n",
        "all_data.head(20)"
      ],
      "execution_count": 0,
      "outputs": [
        {
          "output_type": "execute_result",
          "data": {
            "text/html": [
              "<div>\n",
              "<style scoped>\n",
              "    .dataframe tbody tr th:only-of-type {\n",
              "        vertical-align: middle;\n",
              "    }\n",
              "\n",
              "    .dataframe tbody tr th {\n",
              "        vertical-align: top;\n",
              "    }\n",
              "\n",
              "    .dataframe thead th {\n",
              "        text-align: right;\n",
              "    }\n",
              "</style>\n",
              "<table border=\"1\" class=\"dataframe\">\n",
              "  <thead>\n",
              "    <tr style=\"text-align: right;\">\n",
              "      <th></th>\n",
              "      <th>stk_hilo9</th>\n",
              "      <th>stk_hilo26</th>\n",
              "      <th>stk_hilo26_lag1</th>\n",
              "      <th>stk_arms9</th>\n",
              "      <th>stk_arms9_lag1</th>\n",
              "      <th>stk_arms9_lag2</th>\n",
              "      <th>stk_arms9_lag3</th>\n",
              "      <th>mm_stk_arms26</th>\n",
              "      <th>mm_stk_arms26_lag1</th>\n",
              "      <th>mm_stk_arms26_lag2</th>\n",
              "      <th>mm_stk_ad9</th>\n",
              "      <th>mm_stk_ad26</th>\n",
              "      <th>mm_stk_ad26_lag1</th>\n",
              "      <th>mm_stk_ad26_lag2</th>\n",
              "      <th>mm_stk_ad26_lag3</th>\n",
              "      <th>mm_stk_ad26_lag4</th>\n",
              "      <th>mm_stk_ad26_lag5</th>\n",
              "      <th>mm_stk_ad26_lag6</th>\n",
              "      <th>mm_stk_ad26_lag7</th>\n",
              "      <th>mm_stk_ad26_lag8</th>\n",
              "    </tr>\n",
              "  </thead>\n",
              "  <tbody>\n",
              "    <tr>\n",
              "      <th>9</th>\n",
              "      <td>0.969697</td>\n",
              "      <td>0.921875</td>\n",
              "      <td>0.900000</td>\n",
              "      <td>3.185298</td>\n",
              "      <td>0.375262</td>\n",
              "      <td>0.063540</td>\n",
              "      <td>0.240129</td>\n",
              "      <td>4.033733</td>\n",
              "      <td>0.266043</td>\n",
              "      <td>2.933683</td>\n",
              "      <td>1.652632</td>\n",
              "      <td>1.043619</td>\n",
              "      <td>1.043344</td>\n",
              "      <td>1.035608</td>\n",
              "      <td>1.019341</td>\n",
              "      <td>1.016866</td>\n",
              "      <td>0.984796</td>\n",
              "      <td>0.605614</td>\n",
              "      <td>0.881808</td>\n",
              "      <td>0.943495</td>\n",
              "    </tr>\n",
              "    <tr>\n",
              "      <th>10</th>\n",
              "      <td>0.928910</td>\n",
              "      <td>0.873239</td>\n",
              "      <td>0.921875</td>\n",
              "      <td>3.744965</td>\n",
              "      <td>3.185298</td>\n",
              "      <td>0.375262</td>\n",
              "      <td>0.063540</td>\n",
              "      <td>0.042466</td>\n",
              "      <td>4.033733</td>\n",
              "      <td>0.266043</td>\n",
              "      <td>1.615646</td>\n",
              "      <td>1.044726</td>\n",
              "      <td>1.043619</td>\n",
              "      <td>1.043344</td>\n",
              "      <td>1.035608</td>\n",
              "      <td>1.019341</td>\n",
              "      <td>1.016866</td>\n",
              "      <td>0.984796</td>\n",
              "      <td>0.605614</td>\n",
              "      <td>0.881808</td>\n",
              "    </tr>\n",
              "    <tr>\n",
              "      <th>11</th>\n",
              "      <td>0.868966</td>\n",
              "      <td>0.840000</td>\n",
              "      <td>0.873239</td>\n",
              "      <td>1.216690</td>\n",
              "      <td>3.744965</td>\n",
              "      <td>3.185298</td>\n",
              "      <td>0.375262</td>\n",
              "      <td>1.656127</td>\n",
              "      <td>0.042466</td>\n",
              "      <td>4.033733</td>\n",
              "      <td>1.572193</td>\n",
              "      <td>1.029540</td>\n",
              "      <td>1.044726</td>\n",
              "      <td>1.043619</td>\n",
              "      <td>1.043344</td>\n",
              "      <td>1.035608</td>\n",
              "      <td>1.019341</td>\n",
              "      <td>1.016866</td>\n",
              "      <td>0.984796</td>\n",
              "      <td>0.605614</td>\n",
              "    </tr>\n",
              "    <tr>\n",
              "      <th>12</th>\n",
              "      <td>0.632231</td>\n",
              "      <td>0.727273</td>\n",
              "      <td>0.840000</td>\n",
              "      <td>1.062827</td>\n",
              "      <td>1.216690</td>\n",
              "      <td>3.744965</td>\n",
              "      <td>3.185298</td>\n",
              "      <td>1.350498</td>\n",
              "      <td>1.656127</td>\n",
              "      <td>0.042466</td>\n",
              "      <td>1.520325</td>\n",
              "      <td>1.026762</td>\n",
              "      <td>1.029540</td>\n",
              "      <td>1.044726</td>\n",
              "      <td>1.043619</td>\n",
              "      <td>1.043344</td>\n",
              "      <td>1.035608</td>\n",
              "      <td>1.019341</td>\n",
              "      <td>1.016866</td>\n",
              "      <td>0.984796</td>\n",
              "    </tr>\n",
              "    <tr>\n",
              "      <th>13</th>\n",
              "      <td>0.572052</td>\n",
              "      <td>0.750000</td>\n",
              "      <td>0.727273</td>\n",
              "      <td>0.560671</td>\n",
              "      <td>1.062827</td>\n",
              "      <td>1.216690</td>\n",
              "      <td>3.744965</td>\n",
              "      <td>0.915317</td>\n",
              "      <td>1.350498</td>\n",
              "      <td>1.656127</td>\n",
              "      <td>1.366667</td>\n",
              "      <td>1.027498</td>\n",
              "      <td>1.026762</td>\n",
              "      <td>1.029540</td>\n",
              "      <td>1.044726</td>\n",
              "      <td>1.043619</td>\n",
              "      <td>1.043344</td>\n",
              "      <td>1.035608</td>\n",
              "      <td>1.019341</td>\n",
              "      <td>1.016866</td>\n",
              "    </tr>\n",
              "    <tr>\n",
              "      <th>14</th>\n",
              "      <td>0.462006</td>\n",
              "      <td>0.786667</td>\n",
              "      <td>0.750000</td>\n",
              "      <td>0.570679</td>\n",
              "      <td>0.560671</td>\n",
              "      <td>1.062827</td>\n",
              "      <td>1.216690</td>\n",
              "      <td>1.843689</td>\n",
              "      <td>0.915317</td>\n",
              "      <td>1.350498</td>\n",
              "      <td>0.782609</td>\n",
              "      <td>1.041031</td>\n",
              "      <td>1.027498</td>\n",
              "      <td>1.026762</td>\n",
              "      <td>1.029540</td>\n",
              "      <td>1.044726</td>\n",
              "      <td>1.043619</td>\n",
              "      <td>1.043344</td>\n",
              "      <td>1.035608</td>\n",
              "      <td>1.019341</td>\n",
              "    </tr>\n",
              "    <tr>\n",
              "      <th>15</th>\n",
              "      <td>0.565657</td>\n",
              "      <td>0.813333</td>\n",
              "      <td>0.786667</td>\n",
              "      <td>0.219582</td>\n",
              "      <td>0.570679</td>\n",
              "      <td>0.560671</td>\n",
              "      <td>1.062827</td>\n",
              "      <td>1.858850</td>\n",
              "      <td>1.843689</td>\n",
              "      <td>0.915317</td>\n",
              "      <td>1.513158</td>\n",
              "      <td>1.046953</td>\n",
              "      <td>1.041031</td>\n",
              "      <td>1.027498</td>\n",
              "      <td>1.026762</td>\n",
              "      <td>1.029540</td>\n",
              "      <td>1.044726</td>\n",
              "      <td>1.043619</td>\n",
              "      <td>1.043344</td>\n",
              "      <td>1.035608</td>\n",
              "    </tr>\n",
              "    <tr>\n",
              "      <th>16</th>\n",
              "      <td>0.519298</td>\n",
              "      <td>0.791209</td>\n",
              "      <td>0.813333</td>\n",
              "      <td>0.211754</td>\n",
              "      <td>0.219582</td>\n",
              "      <td>0.570679</td>\n",
              "      <td>0.560671</td>\n",
              "      <td>0.814652</td>\n",
              "      <td>1.858850</td>\n",
              "      <td>1.843689</td>\n",
              "      <td>1.169231</td>\n",
              "      <td>1.055907</td>\n",
              "      <td>1.046953</td>\n",
              "      <td>1.041031</td>\n",
              "      <td>1.027498</td>\n",
              "      <td>1.026762</td>\n",
              "      <td>1.029540</td>\n",
              "      <td>1.044726</td>\n",
              "      <td>1.043619</td>\n",
              "      <td>1.043344</td>\n",
              "    </tr>\n",
              "    <tr>\n",
              "      <th>17</th>\n",
              "      <td>0.683284</td>\n",
              "      <td>0.878788</td>\n",
              "      <td>0.791209</td>\n",
              "      <td>0.368845</td>\n",
              "      <td>0.211754</td>\n",
              "      <td>0.219582</td>\n",
              "      <td>0.570679</td>\n",
              "      <td>1.631620</td>\n",
              "      <td>0.814652</td>\n",
              "      <td>1.858850</td>\n",
              "      <td>-1.083333</td>\n",
              "      <td>1.085911</td>\n",
              "      <td>1.055907</td>\n",
              "      <td>1.046953</td>\n",
              "      <td>1.041031</td>\n",
              "      <td>1.027498</td>\n",
              "      <td>1.026762</td>\n",
              "      <td>1.029540</td>\n",
              "      <td>1.044726</td>\n",
              "      <td>1.043619</td>\n",
              "    </tr>\n",
              "    <tr>\n",
              "      <th>18</th>\n",
              "      <td>0.779762</td>\n",
              "      <td>0.845361</td>\n",
              "      <td>0.878788</td>\n",
              "      <td>0.319100</td>\n",
              "      <td>0.368845</td>\n",
              "      <td>0.211754</td>\n",
              "      <td>0.219582</td>\n",
              "      <td>0.628963</td>\n",
              "      <td>1.631620</td>\n",
              "      <td>0.814652</td>\n",
              "      <td>0.241935</td>\n",
              "      <td>1.083127</td>\n",
              "      <td>1.085911</td>\n",
              "      <td>1.055907</td>\n",
              "      <td>1.046953</td>\n",
              "      <td>1.041031</td>\n",
              "      <td>1.027498</td>\n",
              "      <td>1.026762</td>\n",
              "      <td>1.029540</td>\n",
              "      <td>1.044726</td>\n",
              "    </tr>\n",
              "    <tr>\n",
              "      <th>19</th>\n",
              "      <td>0.784452</td>\n",
              "      <td>0.866667</td>\n",
              "      <td>0.845361</td>\n",
              "      <td>0.434573</td>\n",
              "      <td>0.319100</td>\n",
              "      <td>0.368845</td>\n",
              "      <td>0.211754</td>\n",
              "      <td>1.413427</td>\n",
              "      <td>0.628963</td>\n",
              "      <td>1.631620</td>\n",
              "      <td>0.606357</td>\n",
              "      <td>1.089189</td>\n",
              "      <td>1.083127</td>\n",
              "      <td>1.085911</td>\n",
              "      <td>1.055907</td>\n",
              "      <td>1.046953</td>\n",
              "      <td>1.041031</td>\n",
              "      <td>1.027498</td>\n",
              "      <td>1.026762</td>\n",
              "      <td>1.029540</td>\n",
              "    </tr>\n",
              "    <tr>\n",
              "      <th>20</th>\n",
              "      <td>0.759857</td>\n",
              "      <td>0.849057</td>\n",
              "      <td>0.866667</td>\n",
              "      <td>0.608616</td>\n",
              "      <td>0.434573</td>\n",
              "      <td>0.319100</td>\n",
              "      <td>0.368845</td>\n",
              "      <td>0.321004</td>\n",
              "      <td>1.413427</td>\n",
              "      <td>0.628963</td>\n",
              "      <td>0.738267</td>\n",
              "      <td>1.111111</td>\n",
              "      <td>1.089189</td>\n",
              "      <td>1.083127</td>\n",
              "      <td>1.085911</td>\n",
              "      <td>1.055907</td>\n",
              "      <td>1.046953</td>\n",
              "      <td>1.041031</td>\n",
              "      <td>1.027498</td>\n",
              "      <td>1.026762</td>\n",
              "    </tr>\n",
              "    <tr>\n",
              "      <th>21</th>\n",
              "      <td>0.695522</td>\n",
              "      <td>0.878261</td>\n",
              "      <td>0.849057</td>\n",
              "      <td>0.708590</td>\n",
              "      <td>0.608616</td>\n",
              "      <td>0.434573</td>\n",
              "      <td>0.319100</td>\n",
              "      <td>0.832163</td>\n",
              "      <td>0.321004</td>\n",
              "      <td>1.413427</td>\n",
              "      <td>0.808759</td>\n",
              "      <td>1.150259</td>\n",
              "      <td>1.111111</td>\n",
              "      <td>1.089189</td>\n",
              "      <td>1.083127</td>\n",
              "      <td>1.085911</td>\n",
              "      <td>1.055907</td>\n",
              "      <td>1.046953</td>\n",
              "      <td>1.041031</td>\n",
              "      <td>1.027498</td>\n",
              "    </tr>\n",
              "    <tr>\n",
              "      <th>22</th>\n",
              "      <td>0.635514</td>\n",
              "      <td>0.880000</td>\n",
              "      <td>0.878261</td>\n",
              "      <td>0.391365</td>\n",
              "      <td>0.708590</td>\n",
              "      <td>0.608616</td>\n",
              "      <td>0.434573</td>\n",
              "      <td>0.552736</td>\n",
              "      <td>0.832163</td>\n",
              "      <td>0.321004</td>\n",
              "      <td>0.887306</td>\n",
              "      <td>1.196281</td>\n",
              "      <td>1.150259</td>\n",
              "      <td>1.111111</td>\n",
              "      <td>1.089189</td>\n",
              "      <td>1.083127</td>\n",
              "      <td>1.085911</td>\n",
              "      <td>1.055907</td>\n",
              "      <td>1.046953</td>\n",
              "      <td>1.041031</td>\n",
              "    </tr>\n",
              "    <tr>\n",
              "      <th>23</th>\n",
              "      <td>0.409396</td>\n",
              "      <td>0.793814</td>\n",
              "      <td>0.880000</td>\n",
              "      <td>0.632637</td>\n",
              "      <td>0.391365</td>\n",
              "      <td>0.708590</td>\n",
              "      <td>0.608616</td>\n",
              "      <td>0.957278</td>\n",
              "      <td>0.552736</td>\n",
              "      <td>0.832163</td>\n",
              "      <td>1.075209</td>\n",
              "      <td>1.133489</td>\n",
              "      <td>1.196281</td>\n",
              "      <td>1.150259</td>\n",
              "      <td>1.111111</td>\n",
              "      <td>1.089189</td>\n",
              "      <td>1.083127</td>\n",
              "      <td>1.085911</td>\n",
              "      <td>1.055907</td>\n",
              "      <td>1.046953</td>\n",
              "    </tr>\n",
              "    <tr>\n",
              "      <th>24</th>\n",
              "      <td>0.611111</td>\n",
              "      <td>0.893130</td>\n",
              "      <td>0.793814</td>\n",
              "      <td>0.217649</td>\n",
              "      <td>0.632637</td>\n",
              "      <td>0.391365</td>\n",
              "      <td>0.708590</td>\n",
              "      <td>3.029562</td>\n",
              "      <td>0.957278</td>\n",
              "      <td>0.552736</td>\n",
              "      <td>0.913486</td>\n",
              "      <td>1.317901</td>\n",
              "      <td>1.133489</td>\n",
              "      <td>1.196281</td>\n",
              "      <td>1.150259</td>\n",
              "      <td>1.111111</td>\n",
              "      <td>1.089189</td>\n",
              "      <td>1.083127</td>\n",
              "      <td>1.085911</td>\n",
              "      <td>1.055907</td>\n",
              "    </tr>\n",
              "    <tr>\n",
              "      <th>25</th>\n",
              "      <td>0.435897</td>\n",
              "      <td>0.825758</td>\n",
              "      <td>0.893130</td>\n",
              "      <td>0.389623</td>\n",
              "      <td>0.217649</td>\n",
              "      <td>0.632637</td>\n",
              "      <td>0.391365</td>\n",
              "      <td>0.710894</td>\n",
              "      <td>3.029562</td>\n",
              "      <td>0.957278</td>\n",
              "      <td>1.067935</td>\n",
              "      <td>1.361345</td>\n",
              "      <td>1.317901</td>\n",
              "      <td>1.133489</td>\n",
              "      <td>1.196281</td>\n",
              "      <td>1.150259</td>\n",
              "      <td>1.111111</td>\n",
              "      <td>1.089189</td>\n",
              "      <td>1.083127</td>\n",
              "      <td>1.085911</td>\n",
              "    </tr>\n",
              "    <tr>\n",
              "      <th>26</th>\n",
              "      <td>0.071756</td>\n",
              "      <td>0.313043</td>\n",
              "      <td>0.825758</td>\n",
              "      <td>1.178582</td>\n",
              "      <td>0.389623</td>\n",
              "      <td>0.217649</td>\n",
              "      <td>0.632637</td>\n",
              "      <td>0.314689</td>\n",
              "      <td>0.710894</td>\n",
              "      <td>3.029562</td>\n",
              "      <td>4.205714</td>\n",
              "      <td>0.846975</td>\n",
              "      <td>1.361345</td>\n",
              "      <td>1.317901</td>\n",
              "      <td>1.133489</td>\n",
              "      <td>1.196281</td>\n",
              "      <td>1.150259</td>\n",
              "      <td>1.111111</td>\n",
              "      <td>1.089189</td>\n",
              "      <td>1.083127</td>\n",
              "    </tr>\n",
              "    <tr>\n",
              "      <th>27</th>\n",
              "      <td>0.209974</td>\n",
              "      <td>0.543860</td>\n",
              "      <td>0.313043</td>\n",
              "      <td>0.667195</td>\n",
              "      <td>1.178582</td>\n",
              "      <td>0.389623</td>\n",
              "      <td>0.217649</td>\n",
              "      <td>1.927970</td>\n",
              "      <td>0.314689</td>\n",
              "      <td>0.710894</td>\n",
              "      <td>-3.804348</td>\n",
              "      <td>1.036900</td>\n",
              "      <td>0.846975</td>\n",
              "      <td>1.361345</td>\n",
              "      <td>1.317901</td>\n",
              "      <td>1.133489</td>\n",
              "      <td>1.196281</td>\n",
              "      <td>1.150259</td>\n",
              "      <td>1.111111</td>\n",
              "      <td>1.089189</td>\n",
              "    </tr>\n",
              "    <tr>\n",
              "      <th>28</th>\n",
              "      <td>0.707547</td>\n",
              "      <td>0.867769</td>\n",
              "      <td>0.543860</td>\n",
              "      <td>0.353324</td>\n",
              "      <td>0.667195</td>\n",
              "      <td>1.178582</td>\n",
              "      <td>0.389623</td>\n",
              "      <td>1.356085</td>\n",
              "      <td>1.927970</td>\n",
              "      <td>0.314689</td>\n",
              "      <td>-1.095238</td>\n",
              "      <td>1.489011</td>\n",
              "      <td>1.036900</td>\n",
              "      <td>0.846975</td>\n",
              "      <td>1.361345</td>\n",
              "      <td>1.317901</td>\n",
              "      <td>1.133489</td>\n",
              "      <td>1.196281</td>\n",
              "      <td>1.150259</td>\n",
              "      <td>1.111111</td>\n",
              "    </tr>\n",
              "  </tbody>\n",
              "</table>\n",
              "</div>"
            ],
            "text/plain": [
              "    stk_hilo9  stk_hilo26  ...  mm_stk_ad26_lag7  mm_stk_ad26_lag8\n",
              "9    0.969697    0.921875  ...          0.881808          0.943495\n",
              "10   0.928910    0.873239  ...          0.605614          0.881808\n",
              "11   0.868966    0.840000  ...          0.984796          0.605614\n",
              "12   0.632231    0.727273  ...          1.016866          0.984796\n",
              "13   0.572052    0.750000  ...          1.019341          1.016866\n",
              "14   0.462006    0.786667  ...          1.035608          1.019341\n",
              "15   0.565657    0.813333  ...          1.043344          1.035608\n",
              "16   0.519298    0.791209  ...          1.043619          1.043344\n",
              "17   0.683284    0.878788  ...          1.044726          1.043619\n",
              "18   0.779762    0.845361  ...          1.029540          1.044726\n",
              "19   0.784452    0.866667  ...          1.026762          1.029540\n",
              "20   0.759857    0.849057  ...          1.027498          1.026762\n",
              "21   0.695522    0.878261  ...          1.041031          1.027498\n",
              "22   0.635514    0.880000  ...          1.046953          1.041031\n",
              "23   0.409396    0.793814  ...          1.055907          1.046953\n",
              "24   0.611111    0.893130  ...          1.085911          1.055907\n",
              "25   0.435897    0.825758  ...          1.083127          1.085911\n",
              "26   0.071756    0.313043  ...          1.089189          1.083127\n",
              "27   0.209974    0.543860  ...          1.111111          1.089189\n",
              "28   0.707547    0.867769  ...          1.150259          1.111111\n",
              "\n",
              "[20 rows x 20 columns]"
            ]
          },
          "metadata": {
            "tags": []
          },
          "execution_count": 192
        }
      ]
    },
    {
      "cell_type": "code",
      "metadata": {
        "id": "3OL9Lc-gXCwG",
        "colab_type": "code",
        "outputId": "28d6e313-f444-477a-e1c5-a7e85d72d1ee",
        "colab": {
          "base_uri": "https://localhost:8080/",
          "height": 669
        }
      },
      "source": [
        "all_date = pd.DataFrame(all_date)\n",
        "all_date = all_date[8:]\n",
        "all_date.head(20)"
      ],
      "execution_count": 0,
      "outputs": [
        {
          "output_type": "execute_result",
          "data": {
            "text/html": [
              "<div>\n",
              "<style scoped>\n",
              "    .dataframe tbody tr th:only-of-type {\n",
              "        vertical-align: middle;\n",
              "    }\n",
              "\n",
              "    .dataframe tbody tr th {\n",
              "        vertical-align: top;\n",
              "    }\n",
              "\n",
              "    .dataframe thead th {\n",
              "        text-align: right;\n",
              "    }\n",
              "</style>\n",
              "<table border=\"1\" class=\"dataframe\">\n",
              "  <thead>\n",
              "    <tr style=\"text-align: right;\">\n",
              "      <th></th>\n",
              "      <th>stk_date</th>\n",
              "    </tr>\n",
              "  </thead>\n",
              "  <tbody>\n",
              "    <tr>\n",
              "      <th>8</th>\n",
              "      <td>2018-02-27</td>\n",
              "    </tr>\n",
              "    <tr>\n",
              "      <th>9</th>\n",
              "      <td>2018-03-01</td>\n",
              "    </tr>\n",
              "    <tr>\n",
              "      <th>10</th>\n",
              "      <td>2018-03-02</td>\n",
              "    </tr>\n",
              "    <tr>\n",
              "      <th>11</th>\n",
              "      <td>2018-03-05</td>\n",
              "    </tr>\n",
              "    <tr>\n",
              "      <th>12</th>\n",
              "      <td>2018-03-06</td>\n",
              "    </tr>\n",
              "    <tr>\n",
              "      <th>13</th>\n",
              "      <td>2018-03-07</td>\n",
              "    </tr>\n",
              "    <tr>\n",
              "      <th>14</th>\n",
              "      <td>2018-03-08</td>\n",
              "    </tr>\n",
              "    <tr>\n",
              "      <th>15</th>\n",
              "      <td>2018-03-09</td>\n",
              "    </tr>\n",
              "    <tr>\n",
              "      <th>16</th>\n",
              "      <td>2018-03-12</td>\n",
              "    </tr>\n",
              "    <tr>\n",
              "      <th>17</th>\n",
              "      <td>2018-03-13</td>\n",
              "    </tr>\n",
              "    <tr>\n",
              "      <th>18</th>\n",
              "      <td>2018-03-14</td>\n",
              "    </tr>\n",
              "    <tr>\n",
              "      <th>19</th>\n",
              "      <td>2018-03-15</td>\n",
              "    </tr>\n",
              "    <tr>\n",
              "      <th>20</th>\n",
              "      <td>2018-03-16</td>\n",
              "    </tr>\n",
              "    <tr>\n",
              "      <th>21</th>\n",
              "      <td>2018-03-19</td>\n",
              "    </tr>\n",
              "    <tr>\n",
              "      <th>22</th>\n",
              "      <td>2018-03-20</td>\n",
              "    </tr>\n",
              "    <tr>\n",
              "      <th>23</th>\n",
              "      <td>2018-03-21</td>\n",
              "    </tr>\n",
              "    <tr>\n",
              "      <th>24</th>\n",
              "      <td>2018-03-22</td>\n",
              "    </tr>\n",
              "    <tr>\n",
              "      <th>25</th>\n",
              "      <td>2018-03-23</td>\n",
              "    </tr>\n",
              "    <tr>\n",
              "      <th>26</th>\n",
              "      <td>2018-03-26</td>\n",
              "    </tr>\n",
              "    <tr>\n",
              "      <th>27</th>\n",
              "      <td>2018-03-27</td>\n",
              "    </tr>\n",
              "  </tbody>\n",
              "</table>\n",
              "</div>"
            ],
            "text/plain": [
              "      stk_date\n",
              "8   2018-02-27\n",
              "9   2018-03-01\n",
              "10  2018-03-02\n",
              "11  2018-03-05\n",
              "12  2018-03-06\n",
              "13  2018-03-07\n",
              "14  2018-03-08\n",
              "15  2018-03-09\n",
              "16  2018-03-12\n",
              "17  2018-03-13\n",
              "18  2018-03-14\n",
              "19  2018-03-15\n",
              "20  2018-03-16\n",
              "21  2018-03-19\n",
              "22  2018-03-20\n",
              "23  2018-03-21\n",
              "24  2018-03-22\n",
              "25  2018-03-23\n",
              "26  2018-03-26\n",
              "27  2018-03-27"
            ]
          },
          "metadata": {
            "tags": []
          },
          "execution_count": 193
        }
      ]
    },
    {
      "cell_type": "code",
      "metadata": {
        "id": "ALz7-e27XHxx",
        "colab_type": "code",
        "outputId": "857aabed-e57e-4cc2-d5b7-1b9a90a2fb82",
        "colab": {
          "base_uri": "https://localhost:8080/",
          "height": 669
        }
      },
      "source": [
        "all_stk_adj_ratio = pd.DataFrame(all_stk_adj_ratio)\n",
        "all_stk_adj_ratio = all_stk_adj_ratio[8:]\n",
        "all_stk_adj_ratio.head(20)"
      ],
      "execution_count": 0,
      "outputs": [
        {
          "output_type": "execute_result",
          "data": {
            "text/html": [
              "<div>\n",
              "<style scoped>\n",
              "    .dataframe tbody tr th:only-of-type {\n",
              "        vertical-align: middle;\n",
              "    }\n",
              "\n",
              "    .dataframe tbody tr th {\n",
              "        vertical-align: top;\n",
              "    }\n",
              "\n",
              "    .dataframe thead th {\n",
              "        text-align: right;\n",
              "    }\n",
              "</style>\n",
              "<table border=\"1\" class=\"dataframe\">\n",
              "  <thead>\n",
              "    <tr style=\"text-align: right;\">\n",
              "      <th></th>\n",
              "      <th>stk_adj_ratio</th>\n",
              "    </tr>\n",
              "  </thead>\n",
              "  <tbody>\n",
              "    <tr>\n",
              "      <th>8</th>\n",
              "      <td>-0.017964</td>\n",
              "    </tr>\n",
              "    <tr>\n",
              "      <th>9</th>\n",
              "      <td>-0.004098</td>\n",
              "    </tr>\n",
              "    <tr>\n",
              "      <th>10</th>\n",
              "      <td>0.000000</td>\n",
              "    </tr>\n",
              "    <tr>\n",
              "      <th>11</th>\n",
              "      <td>-0.004124</td>\n",
              "    </tr>\n",
              "    <tr>\n",
              "      <th>12</th>\n",
              "      <td>0.018330</td>\n",
              "    </tr>\n",
              "    <tr>\n",
              "      <th>13</th>\n",
              "      <td>-0.004032</td>\n",
              "    </tr>\n",
              "    <tr>\n",
              "      <th>14</th>\n",
              "      <td>0.000000</td>\n",
              "    </tr>\n",
              "    <tr>\n",
              "      <th>15</th>\n",
              "      <td>0.002000</td>\n",
              "    </tr>\n",
              "    <tr>\n",
              "      <th>16</th>\n",
              "      <td>0.007937</td>\n",
              "    </tr>\n",
              "    <tr>\n",
              "      <th>17</th>\n",
              "      <td>0.013699</td>\n",
              "    </tr>\n",
              "    <tr>\n",
              "      <th>18</th>\n",
              "      <td>0.001949</td>\n",
              "    </tr>\n",
              "    <tr>\n",
              "      <th>19</th>\n",
              "      <td>-0.011628</td>\n",
              "    </tr>\n",
              "    <tr>\n",
              "      <th>20</th>\n",
              "      <td>0.007905</td>\n",
              "    </tr>\n",
              "    <tr>\n",
              "      <th>21</th>\n",
              "      <td>0.009901</td>\n",
              "    </tr>\n",
              "    <tr>\n",
              "      <th>22</th>\n",
              "      <td>0.000000</td>\n",
              "    </tr>\n",
              "    <tr>\n",
              "      <th>23</th>\n",
              "      <td>-0.009804</td>\n",
              "    </tr>\n",
              "    <tr>\n",
              "      <th>24</th>\n",
              "      <td>-0.011788</td>\n",
              "    </tr>\n",
              "    <tr>\n",
              "      <th>25</th>\n",
              "      <td>0.000000</td>\n",
              "    </tr>\n",
              "    <tr>\n",
              "      <th>26</th>\n",
              "      <td>0.008282</td>\n",
              "    </tr>\n",
              "    <tr>\n",
              "      <th>27</th>\n",
              "      <td>0.012097</td>\n",
              "    </tr>\n",
              "  </tbody>\n",
              "</table>\n",
              "</div>"
            ],
            "text/plain": [
              "    stk_adj_ratio\n",
              "8       -0.017964\n",
              "9       -0.004098\n",
              "10       0.000000\n",
              "11      -0.004124\n",
              "12       0.018330\n",
              "13      -0.004032\n",
              "14       0.000000\n",
              "15       0.002000\n",
              "16       0.007937\n",
              "17       0.013699\n",
              "18       0.001949\n",
              "19      -0.011628\n",
              "20       0.007905\n",
              "21       0.009901\n",
              "22       0.000000\n",
              "23      -0.009804\n",
              "24      -0.011788\n",
              "25       0.000000\n",
              "26       0.008282\n",
              "27       0.012097"
            ]
          },
          "metadata": {
            "tags": []
          },
          "execution_count": 194
        }
      ]
    },
    {
      "cell_type": "code",
      "metadata": {
        "id": "2iJWPws9Yte5",
        "colab_type": "code",
        "outputId": "c9307d98-223b-4e3b-ff7c-4e87a1919efc",
        "colab": {
          "base_uri": "https://localhost:8080/",
          "height": 34
        }
      },
      "source": [
        "all_data.shape"
      ],
      "execution_count": 0,
      "outputs": [
        {
          "output_type": "execute_result",
          "data": {
            "text/plain": [
              "(273, 20)"
            ]
          },
          "metadata": {
            "tags": []
          },
          "execution_count": 209
        }
      ]
    },
    {
      "cell_type": "code",
      "metadata": {
        "id": "fAxa8hLHgSzq",
        "colab_type": "code",
        "outputId": "41ee4056-5dc6-4f90-cab3-80b0b81ad4c1",
        "colab": {
          "base_uri": "https://localhost:8080/",
          "height": 297
        }
      },
      "source": [
        "all_stk_adj_ratio.describe()"
      ],
      "execution_count": 0,
      "outputs": [
        {
          "output_type": "execute_result",
          "data": {
            "text/html": [
              "<div>\n",
              "<style scoped>\n",
              "    .dataframe tbody tr th:only-of-type {\n",
              "        vertical-align: middle;\n",
              "    }\n",
              "\n",
              "    .dataframe tbody tr th {\n",
              "        vertical-align: top;\n",
              "    }\n",
              "\n",
              "    .dataframe thead th {\n",
              "        text-align: right;\n",
              "    }\n",
              "</style>\n",
              "<table border=\"1\" class=\"dataframe\">\n",
              "  <thead>\n",
              "    <tr style=\"text-align: right;\">\n",
              "      <th></th>\n",
              "      <th>stk_adj_ratio</th>\n",
              "    </tr>\n",
              "  </thead>\n",
              "  <tbody>\n",
              "    <tr>\n",
              "      <th>count</th>\n",
              "      <td>273.000000</td>\n",
              "    </tr>\n",
              "    <tr>\n",
              "      <th>mean</th>\n",
              "      <td>0.000168</td>\n",
              "    </tr>\n",
              "    <tr>\n",
              "      <th>std</th>\n",
              "      <td>0.010454</td>\n",
              "    </tr>\n",
              "    <tr>\n",
              "      <th>min</th>\n",
              "      <td>-0.030905</td>\n",
              "    </tr>\n",
              "    <tr>\n",
              "      <th>25%</th>\n",
              "      <td>-0.006303</td>\n",
              "    </tr>\n",
              "    <tr>\n",
              "      <th>50%</th>\n",
              "      <td>0.000000</td>\n",
              "    </tr>\n",
              "    <tr>\n",
              "      <th>75%</th>\n",
              "      <td>0.006682</td>\n",
              "    </tr>\n",
              "    <tr>\n",
              "      <th>max</th>\n",
              "      <td>0.032680</td>\n",
              "    </tr>\n",
              "  </tbody>\n",
              "</table>\n",
              "</div>"
            ],
            "text/plain": [
              "       stk_adj_ratio\n",
              "count     273.000000\n",
              "mean        0.000168\n",
              "std         0.010454\n",
              "min        -0.030905\n",
              "25%        -0.006303\n",
              "50%         0.000000\n",
              "75%         0.006682\n",
              "max         0.032680"
            ]
          },
          "metadata": {
            "tags": []
          },
          "execution_count": 247
        }
      ]
    },
    {
      "cell_type": "code",
      "metadata": {
        "id": "fcwGj71CkEfH",
        "colab_type": "code",
        "colab": {}
      },
      "source": [
        "label = all_stk_adj_ratio>=0.0"
      ],
      "execution_count": 0,
      "outputs": []
    },
    {
      "cell_type": "code",
      "metadata": {
        "id": "NC7gz3jxXSqY",
        "colab_type": "code",
        "colab": {}
      },
      "source": [
        "x_train = all_data[:172]\n",
        "x_test = all_data[172:-1]\n",
        "y_train = label[1:173]\n",
        "y_test = label[173:]"
      ],
      "execution_count": 0,
      "outputs": []
    },
    {
      "cell_type": "code",
      "metadata": {
        "id": "WUB4E0-zYLVX",
        "colab_type": "code",
        "outputId": "5d112efa-792a-404f-f47b-6be6bdad71d5",
        "colab": {
          "base_uri": "https://localhost:8080/",
          "height": 173
        }
      },
      "source": [
        "y_train.describe()"
      ],
      "execution_count": 318,
      "outputs": [
        {
          "output_type": "execute_result",
          "data": {
            "text/html": [
              "<div>\n",
              "<style scoped>\n",
              "    .dataframe tbody tr th:only-of-type {\n",
              "        vertical-align: middle;\n",
              "    }\n",
              "\n",
              "    .dataframe tbody tr th {\n",
              "        vertical-align: top;\n",
              "    }\n",
              "\n",
              "    .dataframe thead th {\n",
              "        text-align: right;\n",
              "    }\n",
              "</style>\n",
              "<table border=\"1\" class=\"dataframe\">\n",
              "  <thead>\n",
              "    <tr style=\"text-align: right;\">\n",
              "      <th></th>\n",
              "      <th>stk_adj_ratio</th>\n",
              "    </tr>\n",
              "  </thead>\n",
              "  <tbody>\n",
              "    <tr>\n",
              "      <th>count</th>\n",
              "      <td>172</td>\n",
              "    </tr>\n",
              "    <tr>\n",
              "      <th>unique</th>\n",
              "      <td>2</td>\n",
              "    </tr>\n",
              "    <tr>\n",
              "      <th>top</th>\n",
              "      <td>True</td>\n",
              "    </tr>\n",
              "    <tr>\n",
              "      <th>freq</th>\n",
              "      <td>88</td>\n",
              "    </tr>\n",
              "  </tbody>\n",
              "</table>\n",
              "</div>"
            ],
            "text/plain": [
              "       stk_adj_ratio\n",
              "count            172\n",
              "unique             2\n",
              "top             True\n",
              "freq              88"
            ]
          },
          "metadata": {
            "tags": []
          },
          "execution_count": 318
        }
      ]
    },
    {
      "cell_type": "code",
      "metadata": {
        "id": "Gn2gLus-YQ6J",
        "colab_type": "code",
        "outputId": "c405bb01-4f37-4367-fa02-2475e22b0aae",
        "colab": {
          "base_uri": "https://localhost:8080/",
          "height": 173
        }
      },
      "source": [
        "y_test.describe()"
      ],
      "execution_count": 319,
      "outputs": [
        {
          "output_type": "execute_result",
          "data": {
            "text/html": [
              "<div>\n",
              "<style scoped>\n",
              "    .dataframe tbody tr th:only-of-type {\n",
              "        vertical-align: middle;\n",
              "    }\n",
              "\n",
              "    .dataframe tbody tr th {\n",
              "        vertical-align: top;\n",
              "    }\n",
              "\n",
              "    .dataframe thead th {\n",
              "        text-align: right;\n",
              "    }\n",
              "</style>\n",
              "<table border=\"1\" class=\"dataframe\">\n",
              "  <thead>\n",
              "    <tr style=\"text-align: right;\">\n",
              "      <th></th>\n",
              "      <th>stk_adj_ratio</th>\n",
              "    </tr>\n",
              "  </thead>\n",
              "  <tbody>\n",
              "    <tr>\n",
              "      <th>count</th>\n",
              "      <td>100</td>\n",
              "    </tr>\n",
              "    <tr>\n",
              "      <th>unique</th>\n",
              "      <td>2</td>\n",
              "    </tr>\n",
              "    <tr>\n",
              "      <th>top</th>\n",
              "      <td>True</td>\n",
              "    </tr>\n",
              "    <tr>\n",
              "      <th>freq</th>\n",
              "      <td>60</td>\n",
              "    </tr>\n",
              "  </tbody>\n",
              "</table>\n",
              "</div>"
            ],
            "text/plain": [
              "       stk_adj_ratio\n",
              "count            100\n",
              "unique             2\n",
              "top             True\n",
              "freq              60"
            ]
          },
          "metadata": {
            "tags": []
          },
          "execution_count": 319
        }
      ]
    },
    {
      "cell_type": "code",
      "metadata": {
        "id": "IGz3p7xMa7sf",
        "colab_type": "code",
        "outputId": "d58d1eb4-c0ea-4a27-adfd-7bd2d08f602e",
        "colab": {
          "base_uri": "https://localhost:8080/",
          "height": 173
        }
      },
      "source": [
        "from sklearn.svm import SVC\n",
        "model = SVC()\n",
        "\n",
        "#使用Support Vector Classifier來建立模型\n",
        "model.fit(x_train,y_train)"
      ],
      "execution_count": 320,
      "outputs": [
        {
          "output_type": "stream",
          "text": [
            "/usr/local/lib/python3.6/dist-packages/sklearn/utils/validation.py:724: DataConversionWarning: A column-vector y was passed when a 1d array was expected. Please change the shape of y to (n_samples, ), for example using ravel().\n",
            "  y = column_or_1d(y, warn=True)\n",
            "/usr/local/lib/python3.6/dist-packages/sklearn/svm/base.py:193: FutureWarning: The default value of gamma will change from 'auto' to 'scale' in version 0.22 to account better for unscaled features. Set gamma explicitly to 'auto' or 'scale' to avoid this warning.\n",
            "  \"avoid this warning.\", FutureWarning)\n"
          ],
          "name": "stderr"
        },
        {
          "output_type": "execute_result",
          "data": {
            "text/plain": [
              "SVC(C=1.0, cache_size=200, class_weight=None, coef0=0.0,\n",
              "    decision_function_shape='ovr', degree=3, gamma='auto_deprecated',\n",
              "    kernel='rbf', max_iter=-1, probability=False, random_state=None,\n",
              "    shrinking=True, tol=0.001, verbose=False)"
            ]
          },
          "metadata": {
            "tags": []
          },
          "execution_count": 320
        }
      ]
    },
    {
      "cell_type": "code",
      "metadata": {
        "id": "zzcLoAtgcXsa",
        "colab_type": "code",
        "outputId": "e1a1c3f5-0909-480d-ecf4-cde7833381f2",
        "colab": {
          "base_uri": "https://localhost:8080/",
          "height": 238
        }
      },
      "source": [
        "predictions = model.predict(x_test)\n",
        "\n",
        "#載入classification_report & confusion_matrix來評估模型好壞\n",
        "from sklearn.metrics import classification_report,confusion_matrix\n",
        "print(confusion_matrix(y_test,predictions))\n",
        "print('\\n')\n",
        "print(classification_report(y_test,predictions))\n",
        "\n",
        "#載入classification_report & confusion_matrix來評估模型好壞\n",
        "#from sklearn.metrics import classification_report,confusion_matrix\n",
        "#print(confusion_matrix(y_test,predictions))\n",
        "#print('\\n')\n",
        "#print(classification_report(y_test,predictions))\n",
        "\n"
      ],
      "execution_count": 323,
      "outputs": [
        {
          "output_type": "stream",
          "text": [
            "[[17 23]\n",
            " [20 40]]\n",
            "\n",
            "\n",
            "              precision    recall  f1-score   support\n",
            "\n",
            "       False       0.46      0.42      0.44        40\n",
            "        True       0.63      0.67      0.65        60\n",
            "\n",
            "    accuracy                           0.57       100\n",
            "   macro avg       0.55      0.55      0.55       100\n",
            "weighted avg       0.56      0.57      0.57       100\n",
            "\n"
          ],
          "name": "stdout"
        }
      ]
    },
    {
      "cell_type": "code",
      "metadata": {
        "id": "0BVBZ7UBnYgi",
        "colab_type": "code",
        "colab": {
          "base_uri": "https://localhost:8080/",
          "height": 221
        },
        "outputId": "db8c8d41-79c9-4a83-c57f-e0688ca50fb8"
      },
      "source": [
        "predictions"
      ],
      "execution_count": 324,
      "outputs": [
        {
          "output_type": "execute_result",
          "data": {
            "text/plain": [
              "array([ True,  True,  True,  True,  True,  True,  True, False,  True,\n",
              "        True,  True,  True, False,  True, False,  True, False,  True,\n",
              "        True, False,  True, False,  True,  True,  True,  True,  True,\n",
              "        True,  True,  True,  True, False,  True, False, False, False,\n",
              "       False,  True, False,  True,  True, False, False, False,  True,\n",
              "        True, False,  True, False,  True, False,  True,  True,  True,\n",
              "        True, False, False,  True, False, False,  True, False,  True,\n",
              "       False,  True,  True, False,  True,  True, False, False,  True,\n",
              "        True,  True,  True, False,  True,  True, False,  True, False,\n",
              "        True, False,  True,  True,  True, False,  True, False,  True,\n",
              "       False,  True,  True, False, False,  True, False,  True,  True,\n",
              "        True])"
            ]
          },
          "metadata": {
            "tags": []
          },
          "execution_count": 324
        }
      ]
    },
    {
      "cell_type": "code",
      "metadata": {
        "id": "l0NS_wMRnlj1",
        "colab_type": "code",
        "colab": {
          "base_uri": "https://localhost:8080/",
          "height": 34
        },
        "outputId": "b1ade3a5-5fa9-4e75-a44f-457ed546c439"
      },
      "source": [
        "len(all_stk_adj_ratio[172:])"
      ],
      "execution_count": 325,
      "outputs": [
        {
          "output_type": "execute_result",
          "data": {
            "text/plain": [
              "101"
            ]
          },
          "metadata": {
            "tags": []
          },
          "execution_count": 325
        }
      ]
    },
    {
      "cell_type": "code",
      "metadata": {
        "id": "xVc55Wrvn8dT",
        "colab_type": "code",
        "colab": {
          "base_uri": "https://localhost:8080/",
          "height": 34
        },
        "outputId": "9f567dd6-dd43-48a6-80f3-22ad9e9e69e1"
      },
      "source": [
        "len(predictions)"
      ],
      "execution_count": 326,
      "outputs": [
        {
          "output_type": "execute_result",
          "data": {
            "text/plain": [
              "100"
            ]
          },
          "metadata": {
            "tags": []
          },
          "execution_count": 326
        }
      ]
    },
    {
      "cell_type": "code",
      "metadata": {
        "id": "Hs-ow42roBKe",
        "colab_type": "code",
        "colab": {
          "base_uri": "https://localhost:8080/",
          "height": 204
        },
        "outputId": "3ee11542-73a6-444a-a2a3-ac90a63b09dc"
      },
      "source": [
        "add1_all_stk_adj_ratio=all_stk_adj_ratio[172:]+1\n",
        "add1_all_stk_adj_ratio.head(5)"
      ],
      "execution_count": 329,
      "outputs": [
        {
          "output_type": "execute_result",
          "data": {
            "text/html": [
              "<div>\n",
              "<style scoped>\n",
              "    .dataframe tbody tr th:only-of-type {\n",
              "        vertical-align: middle;\n",
              "    }\n",
              "\n",
              "    .dataframe tbody tr th {\n",
              "        vertical-align: top;\n",
              "    }\n",
              "\n",
              "    .dataframe thead th {\n",
              "        text-align: right;\n",
              "    }\n",
              "</style>\n",
              "<table border=\"1\" class=\"dataframe\">\n",
              "  <thead>\n",
              "    <tr style=\"text-align: right;\">\n",
              "      <th></th>\n",
              "      <th>stk_adj_ratio</th>\n",
              "    </tr>\n",
              "  </thead>\n",
              "  <tbody>\n",
              "    <tr>\n",
              "      <th>180</th>\n",
              "      <td>1.002137</td>\n",
              "    </tr>\n",
              "    <tr>\n",
              "      <th>181</th>\n",
              "      <td>1.004292</td>\n",
              "    </tr>\n",
              "    <tr>\n",
              "      <th>182</th>\n",
              "      <td>0.995789</td>\n",
              "    </tr>\n",
              "    <tr>\n",
              "      <th>183</th>\n",
              "      <td>0.985075</td>\n",
              "    </tr>\n",
              "    <tr>\n",
              "      <th>184</th>\n",
              "      <td>1.006522</td>\n",
              "    </tr>\n",
              "  </tbody>\n",
              "</table>\n",
              "</div>"
            ],
            "text/plain": [
              "     stk_adj_ratio\n",
              "180       1.002137\n",
              "181       1.004292\n",
              "182       0.995789\n",
              "183       0.985075\n",
              "184       1.006522"
            ]
          },
          "metadata": {
            "tags": []
          },
          "execution_count": 329
        }
      ]
    },
    {
      "cell_type": "code",
      "metadata": {
        "id": "epyWwJMNoaJu",
        "colab_type": "code",
        "colab": {
          "base_uri": "https://localhost:8080/",
          "height": 533
        },
        "outputId": "f0407037-1b10-41b7-9a6b-f83f59df0277"
      },
      "source": [
        "return_count = []\n",
        "return_count.append(1.0)\n",
        "for i in range(1,len(add1_all_stk_adj_ratio)):\n",
        "    if predictions[i-1]==True:\n",
        "        return_count.append(return_count[i-1]*add1_all_stk_adj_ratio.as_matrix()[i]*0.9994)\n",
        "    else:\n",
        "        return_count.append(return_count[i-1])\n",
        "return_count\n",
        "fig = plt.figure(figsize=(12,8))\n",
        "plt.plot(return_count,'r',label='return_count')\n",
        "plt.title('return_count per period 2330 STOCK')\n",
        "plt.grid(True)\n",
        "plt.axis('tight')\n",
        "plt.legend(loc=0)\n",
        "plt.ylabel('return_count')\n",
        "plt.show()"
      ],
      "execution_count": 341,
      "outputs": [
        {
          "output_type": "stream",
          "text": [
            "/usr/local/lib/python3.6/dist-packages/ipykernel_launcher.py:5: FutureWarning: Method .as_matrix will be removed in a future version. Use .values instead.\n",
            "  \"\"\"\n"
          ],
          "name": "stderr"
        },
        {
          "output_type": "display_data",
          "data": {
            "image/png": "[encoded data removed]",
            "text/plain": [
              "<Figure size 864x576 with 1 Axes>"
            ]
          },
          "metadata": {
            "tags": []
          }
        }
      ]
    },
    {
      "cell_type": "code",
      "metadata": {
        "id": "_B1QJqVutpd5",
        "colab_type": "code",
        "colab": {
          "resources": {
            "http://localhost:8080/nbextensions/google.colab/files.js": {
              "data": "Ly8gQ29weXJpZ2h0IDIwMTcgR29vZ2xlIExMQwovLwovLyBMaWNlbnNlZCB1bmRlciB0aGUgQXBhY2hlIExpY2Vuc2UsIFZlcnNpb24gMi4wICh0aGUgIkxpY2Vuc2UiKTsKLy8geW91IG1heSBub3QgdXNlIHRoaXMgZmlsZSBleGNlcHQgaW4gY29tcGxpYW5jZSB3aXRoIHRoZSBMaWNlbnNlLgovLyBZb3UgbWF5IG9idGFpbiBhIGNvcHkgb2YgdGhlIExpY2Vuc2UgYXQKLy8KLy8gICAgICBodHRwOi8vd3d3LmFwYWNoZS5vcmcvbGljZW5zZXMvTElDRU5TRS0yLjAKLy8KLy8gVW5sZXNzIHJlcXVpcmVkIGJ5IGFwcGxpY2FibGUgbGF3IG9yIGFncmVlZCB0byBpbiB3cml0aW5nLCBzb2Z0d2FyZQovLyBkaXN0cmlidXRlZCB1bmRlciB0aGUgTGljZW5zZSBpcyBkaXN0cmlidXRlZCBvbiBhbiAiQVMgSVMiIEJBU0lTLAovLyBXSVRIT1VUIFdBUlJBTlRJRVMgT1IgQ09ORElUSU9OUyBPRiBBTlkgS0lORCwgZWl0aGVyIGV4cHJlc3Mgb3IgaW1wbGllZC4KLy8gU2VlIHRoZSBMaWNlbnNlIGZvciB0aGUgc3BlY2lmaWMgbGFuZ3VhZ2UgZ292ZXJuaW5nIHBlcm1pc3Npb25zIGFuZAovLyBsaW1pdGF0aW9ucyB1bmRlciB0aGUgTGljZW5zZS4KCi8qKgogKiBAZmlsZW92ZXJ2aWV3IEhlbHBlcnMgZm9yIGdvb2dsZS5jb2xhYiBQeXRob24gbW9kdWxlLgogKi8KKGZ1bmN0aW9uKHNjb3BlKSB7CmZ1bmN0aW9uIHNwYW4odGV4dCwgc3R5bGVBdHRyaWJ1dGVzID0ge30pIHsKICBjb25zdCBlbGVtZW50ID0gZG9jdW1lbnQuY3JlYXRlRWxlbWVudCgnc3BhbicpOwogIGVsZW1lbnQudGV4dENvbnRlbnQgPSB0ZXh0OwogIGZvciAoY29uc3Qga2V5IG9mIE9iamVjdC5rZXlzKHN0eWxlQXR0cmlidXRlcykpIHsKICAgIGVsZW1lbnQuc3R5bGVba2V5XSA9IHN0eWxlQXR0cmlidXRlc1trZXldOwogIH0KICByZXR1cm4gZWxlbWVudDsKfQoKLy8gTWF4IG51bWJlciBvZiBieXRlcyB3aGljaCB3aWxsIGJlIHVwbG9hZGVkIGF0IGEgdGltZS4KY29uc3QgTUFYX1BBWUxPQURfU0laRSA9IDEwMCAqIDEwMjQ7Ci8vIE1heCBhbW91bnQgb2YgdGltZSB0byBibG9jayB3YWl0aW5nIGZvciB0aGUgdXNlci4KY29uc3QgRklMRV9DSEFOR0VfVElNRU9VVF9NUyA9IDMwICogMTAwMDsKCmZ1bmN0aW9uIF91cGxvYWRGaWxlcyhpbnB1dElkLCBvdXRwdXRJZCkgewogIGNvbnN0IHN0ZXBzID0gdXBsb2FkRmlsZXNTdGVwKGlucHV0SWQsIG91dHB1dElkKTsKICBjb25zdCBvdXRwdXRFbGVtZW50ID0gZG9jdW1lbnQuZ2V0RWxlbWVudEJ5SWQob3V0cHV0SWQpOwogIC8vIENhY2hlIHN0ZXBzIG9uIHRoZSBvdXRwdXRFbGVtZW50IHRvIG1ha2UgaXQgYXZhaWxhYmxlIGZvciB0aGUgbmV4dCBjYWxsCiAgLy8gdG8gdXBsb2FkRmlsZXNDb250aW51ZSBmcm9tIFB5dGhvbi4KICBvdXRwdXRFbGVtZW50LnN0ZXBzID0gc3RlcHM7CgogIHJldHVybiBfdXBsb2FkRmlsZXNDb250aW51ZShvdXRwdXRJZCk7Cn0KCi8vIFRoaXMgaXMgcm91Z2hseSBhbiBhc3luYyBnZW5lcmF0b3IgKG5vdCBzdXBwb3J0ZWQgaW4gdGhlIGJyb3dzZXIgeWV0KSwKLy8gd2hlcmUgdGhlcmUgYXJlIG11bHRpcGxlIGFzeW5jaHJvbm91cyBzdGVwcyBhbmQgdGhlIFB5dGhvbiBzaWRlIGlzIGdvaW5nCi8vIHRvIHBvbGwgZm9yIGNvbXBsZXRpb24gb2YgZWFjaCBzdGVwLgovLyBUaGlzIHVzZXMgYSBQcm9taXNlIHRvIGJsb2NrIHRoZSBweXRob24gc2lkZSBvbiBjb21wbGV0aW9uIG9mIGVhY2ggc3RlcCwKLy8gdGhlbiBwYXNzZXMgdGhlIHJlc3VsdCBvZiB0aGUgcHJldmlvdXMgc3RlcCBhcyB0aGUgaW5wdXQgdG8gdGhlIG5leHQgc3RlcC4KZnVuY3Rpb24gX3VwbG9hZEZpbGVzQ29udGludWUob3V0cHV0SWQpIHsKICBjb25zdCBvdXRwdXRFbGVtZW50ID0gZG9jdW1lbnQuZ2V0RWxlbWVudEJ5SWQob3V0cHV0SWQpOwogIGNvbnN0IHN0ZXBzID0gb3V0cHV0RWxlbWVudC5zdGVwczsKCiAgY29uc3QgbmV4dCA9IHN0ZXBzLm5leHQob3V0cHV0RWxlbWVudC5sYXN0UHJvbWlzZVZhbHVlKTsKICByZXR1cm4gUHJvbWlzZS5yZXNvbHZlKG5leHQudmFsdWUucHJvbWlzZSkudGhlbigodmFsdWUpID0+IHsKICAgIC8vIENhY2hlIHRoZSBsYXN0IHByb21pc2UgdmFsdWUgdG8gbWFrZSBpdCBhdmFpbGFibGUgdG8gdGhlIG5leHQKICAgIC8vIHN0ZXAgb2YgdGhlIGdlbmVyYXRvci4KICAgIG91dHB1dEVsZW1lbnQubGFzdFByb21pc2VWYWx1ZSA9IHZhbHVlOwogICAgcmV0dXJuIG5leHQudmFsdWUucmVzcG9uc2U7CiAgfSk7Cn0KCi8qKgogKiBHZW5lcmF0b3IgZnVuY3Rpb24gd2hpY2ggaXMgY2FsbGVkIGJldHdlZW4gZWFjaCBhc3luYyBzdGVwIG9mIHRoZSB1cGxvYWQKICogcHJvY2Vzcy4KICogQHBhcmFtIHtzdHJpbmd9IGlucHV0SWQgRWxlbWVudCBJRCBvZiB0aGUgaW5wdXQgZmlsZSBwaWNrZXIgZWxlbWVudC4KICogQHBhcmFtIHtzdHJpbmd9IG91dHB1dElkIEVsZW1lbnQgSUQgb2YgdGhlIG91dHB1dCBkaXNwbGF5LgogKiBAcmV0dXJuIHshSXRlcmFibGU8IU9iamVjdD59IEl0ZXJhYmxlIG9mIG5leHQgc3RlcHMuCiAqLwpmdW5jdGlvbiogdXBsb2FkRmlsZXNTdGVwKGlucHV0SWQsIG91dHB1dElkKSB7CiAgY29uc3QgaW5wdXRFbGVtZW50ID0gZG9jdW1lbnQuZ2V0RWxlbWVudEJ5SWQoaW5wdXRJZCk7CiAgaW5wdXRFbGVtZW50LmRpc2FibGVkID0gZmFsc2U7CgogIGNvbnN0IG91dHB1dEVsZW1lbnQgPSBkb2N1bWVudC5nZXRFbGVtZW50QnlJZChvdXRwdXRJZCk7CiAgb3V0cHV0RWxlbWVudC5pbm5lckhUTUwgPSAnJzsKCiAgY29uc3QgcGlja2VkUHJvbWlzZSA9IG5ldyBQcm9taXNlKChyZXNvbHZlKSA9PiB7CiAgICBpbnB1dEVsZW1lbnQuYWRkRXZlbnRMaXN0ZW5lcignY2hhbmdlJywgKGUpID0+IHsKICAgICAgcmVzb2x2ZShlLnRhcmdldC5maWxlcyk7CiAgICB9KTsKICB9KTsKCiAgY29uc3QgY2FuY2VsID0gZG9jdW1lbnQuY3JlYXRlRWxlbWVudCgnYnV0dG9uJyk7CiAgaW5wdXRFbGVtZW50LnBhcmVudEVsZW1lbnQuYXBwZW5kQ2hpbGQoY2FuY2VsKTsKICBjYW5jZWwudGV4dENvbnRlbnQgPSAnQ2FuY2VsIHVwbG9hZCc7CiAgY29uc3QgY2FuY2VsUHJvbWlzZSA9IG5ldyBQcm9taXNlKChyZXNvbHZlKSA9PiB7CiAgICBjYW5jZWwub25jbGljayA9ICgpID0+IHsKICAgICAgcmVzb2x2ZShudWxsKTsKICAgIH07CiAgfSk7CgogIC8vIENhbmNlbCB1cGxvYWQgaWYgdXNlciBoYXNuJ3QgcGlja2VkIGFueXRoaW5nIGluIHRpbWVvdXQuCiAgY29uc3QgdGltZW91dFByb21pc2UgPSBuZXcgUHJvbWlzZSgocmVzb2x2ZSkgPT4gewogICAgc2V0VGltZW91dCgoKSA9PiB7CiAgICAgIHJlc29sdmUobnVsbCk7CiAgICB9LCBGSUxFX0NIQU5HRV9USU1FT1VUX01TKTsKICB9KTsKCiAgLy8gV2FpdCBmb3IgdGhlIHVzZXIgdG8gcGljayB0aGUgZmlsZXMuCiAgY29uc3QgZmlsZXMgPSB5aWVsZCB7CiAgICBwcm9taXNlOiBQcm9taXNlLnJhY2UoW3BpY2tlZFByb21pc2UsIHRpbWVvdXRQcm9taXNlLCBjYW5jZWxQcm9taXNlXSksCiAgICByZXNwb25zZTogewogICAgICBhY3Rpb246ICdzdGFydGluZycsCiAgICB9CiAgfTsKCiAgaWYgKCFmaWxlcykgewogICAgcmV0dXJuIHsKICAgICAgcmVzcG9uc2U6IHsKICAgICAgICBhY3Rpb246ICdjb21wbGV0ZScsCiAgICAgIH0KICAgIH07CiAgfQoKICBjYW5jZWwucmVtb3ZlKCk7CgogIC8vIERpc2FibGUgdGhlIGlucHV0IGVsZW1lbnQgc2luY2UgZnVydGhlciBwaWNrcyBhcmUgbm90IGFsbG93ZWQuCiAgaW5wdXRFbGVtZW50LmRpc2FibGVkID0gdHJ1ZTsKCiAgZm9yIChjb25zdCBmaWxlIG9mIGZpbGVzKSB7CiAgICBjb25zdCBsaSA9IGRvY3VtZW50LmNyZWF0ZUVsZW1lbnQoJ2xpJyk7CiAgICBsaS5hcHBlbmQoc3BhbihmaWxlLm5hbWUsIHtmb250V2VpZ2h0OiAnYm9sZCd9KSk7CiAgICBsaS5hcHBlbmQoc3BhbigKICAgICAgICBgKCR7ZmlsZS50eXBlIHx8ICduL2EnfSkgLSAke2ZpbGUuc2l6ZX0gYnl0ZXMsIGAgKwogICAgICAgIGBsYXN0IG1vZGlmaWVkOiAkewogICAgICAgICAgICBmaWxlLmxhc3RNb2RpZmllZERhdGUgPyBmaWxlLmxhc3RNb2RpZmllZERhdGUudG9Mb2NhbGVEYXRlU3RyaW5nKCkgOgogICAgICAgICAgICAgICAgICAgICAgICAgICAgICAgICAgICAnbi9hJ30gLSBgKSk7CiAgICBjb25zdCBwZXJjZW50ID0gc3BhbignMCUgZG9uZScpOwogICAgbGkuYXBwZW5kQ2hpbGQocGVyY2VudCk7CgogICAgb3V0cHV0RWxlbWVudC5hcHBlbmRDaGlsZChsaSk7CgogICAgY29uc3QgZmlsZURhdGFQcm9taXNlID0gbmV3IFByb21pc2UoKHJlc29sdmUpID0+IHsKICAgICAgY29uc3QgcmVhZGVyID0gbmV3IEZpbGVSZWFkZXIoKTsKICAgICAgcmVhZGVyLm9ubG9hZCA9IChlKSA9PiB7CiAgICAgICAgcmVzb2x2ZShlLnRhcmdldC5yZXN1bHQpOwogICAgICB9OwogICAgICByZWFkZXIucmVhZEFzQXJyYXlCdWZmZXIoZmlsZSk7CiAgICB9KTsKICAgIC8vIFdhaXQgZm9yIHRoZSBkYXRhIHRvIGJlIHJlYWR5LgogICAgbGV0IGZpbGVEYXRhID0geWllbGQgewogICAgICBwcm9taXNlOiBmaWxlRGF0YVByb21pc2UsCiAgICAgIHJlc3BvbnNlOiB7CiAgICAgICAgYWN0aW9uOiAnY29udGludWUnLAogICAgICB9CiAgICB9OwoKICAgIC8vIFVzZSBhIGNodW5rZWQgc2VuZGluZyB0byBhdm9pZCBtZXNzYWdlIHNpemUgbGltaXRzLiBTZWUgYi82MjExNTY2MC4KICAgIGxldCBwb3NpdGlvbiA9IDA7CiAgICB3aGlsZSAocG9zaXRpb24gPCBmaWxlRGF0YS5ieXRlTGVuZ3RoKSB7CiAgICAgIGNvbnN0IGxlbmd0aCA9IE1hdGgubWluKGZpbGVEYXRhLmJ5dGVMZW5ndGggLSBwb3NpdGlvbiwgTUFYX1BBWUxPQURfU0laRSk7CiAgICAgIGNvbnN0IGNodW5rID0gbmV3IFVpbnQ4QXJyYXkoZmlsZURhdGEsIHBvc2l0aW9uLCBsZW5ndGgpOwogICAgICBwb3NpdGlvbiArPSBsZW5ndGg7CgogICAgICBjb25zdCBiYXNlNjQgPSBidG9hKFN0cmluZy5mcm9tQ2hhckNvZGUuYXBwbHkobnVsbCwgY2h1bmspKTsKICAgICAgeWllbGQgewogICAgICAgIHJlc3BvbnNlOiB7CiAgICAgICAgICBhY3Rpb246ICdhcHBlbmQnLAogICAgICAgICAgZmlsZTogZmlsZS5uYW1lLAogICAgICAgICAgZGF0YTogYmFzZTY0LAogICAgICAgIH0sCiAgICAgIH07CiAgICAgIHBlcmNlbnQudGV4dENvbnRlbnQgPQogICAgICAgICAgYCR7TWF0aC5yb3VuZCgocG9zaXRpb24gLyBmaWxlRGF0YS5ieXRlTGVuZ3RoKSAqIDEwMCl9JSBkb25lYDsKICAgIH0KICB9CgogIC8vIEFsbCBkb25lLgogIHlpZWxkIHsKICAgIHJlc3BvbnNlOiB7CiAgICAgIGFjdGlvbjogJ2NvbXBsZXRlJywKICAgIH0KICB9Owp9CgpzY29wZS5nb29nbGUgPSBzY29wZS5nb29nbGUgfHwge307CnNjb3BlLmdvb2dsZS5jb2xhYiA9IHNjb3BlLmdvb2dsZS5jb2xhYiB8fCB7fTsKc2NvcGUuZ29vZ2xlLmNvbGFiLl9maWxlcyA9IHsKICBfdXBsb2FkRmlsZXMsCiAgX3VwbG9hZEZpbGVzQ29udGludWUsCn07Cn0pKHNlbGYpOwo=",
              "ok": true,
              "headers": [
                [
                  "content-type",
                  "application/javascript"
                ]
              ],
              "status": 200,
              "status_text": ""
            }
          },
          "base_uri": "https://localhost:8080/",
          "height": 297
        },
        "outputId": "2b8d7441-7678-4c9f-86bc-f1b89100ede6"
      },
      "source": [
        "uploaded = files.upload()\n",
        "for fn in uploaded.keys():\n",
        "  print('User uploaded file \"{name}\" with length {length} bytes'.format(\n",
        "      name=fn, length=len(uploaded[fn])))"
      ],
      "execution_count": 342,
      "outputs": [
        {
          "output_type": "display_data",
          "data": {
            "text/html": [
              "\n",
              "     <input type=\"file\" id=\"files-db5bf074-2f1e-45ab-b84b-9e617a8850c1\" name=\"files[]\" multiple disabled />\n",
              "     <output id=\"result-db5bf074-2f1e-45ab-b84b-9e617a8850c1\">\n",
              "      Upload widget is only available when the cell has been executed in the\n",
              "      current browser session. Please rerun this cell to enable.\n",
              "      </output>\n",
              "      <script src=\"/nbextensions/google.colab/files.js\"></script> "
            ],
            "text/plain": [
              "<IPython.core.display.HTML object>"
            ]
          },
          "metadata": {
            "tags": []
          }
        },
        {
          "output_type": "stream",
          "text": [
            "Saving Bitcoin_Cash_Investing.csv to Bitcoin_Cash_Investing.csv\n",
            "Saving Bitcoin_Investing.csv to Bitcoin_Investing.csv\n",
            "Saving Ethereum_Investing.csv to Ethereum_Investing.csv\n",
            "Saving Litecoin_Investing.csv to Litecoin_Investing.csv\n",
            "Saving XRP_Investing.csv to XRP_Investing.csv\n",
            "User uploaded file \"Bitcoin_Cash_Investing.csv\" with length 51487 bytes\n",
            "User uploaded file \"Bitcoin_Investing.csv\" with length 69329 bytes\n",
            "User uploaded file \"Ethereum_Investing.csv\" with length 64946 bytes\n",
            "User uploaded file \"Litecoin_Investing.csv\" with length 65329 bytes\n",
            "User uploaded file \"XRP_Investing.csv\" with length 69369 bytes\n"
          ],
          "name": "stdout"
        }
      ]
    },
    {
      "cell_type": "code",
      "metadata": {
        "id": "-zKe-lwb0yC8",
        "colab_type": "code",
        "colab": {}
      },
      "source": [
        "btc_data=pd.read_csv('Bitcoin_Investing.csv')\n",
        "eth_data=pd.read_csv('Ethereum_Investing.csv')\n",
        "ltc_data=pd.read_csv('Litecoin_Investing.csv')\n",
        "xrp_data=pd.read_csv('XRP_Investing.csv')\n",
        "bch_data=pd.read_csv('Bitcoin_Cash_Investing.csv')\n",
        "\n",
        "btc_data.sort_values(by='日期')\n",
        "eth_data.sort_values(by='日期')\n",
        "ltc_data.sort_values(by='日期')\n",
        "xrp_data.sort_values(by='日期')\n",
        "bch_data.sort_values(by='日期')\n",
        "\n",
        "btc_data_open = btc_data[:]['最新'].str.replace(',','').astype(float)\n",
        "btc_data_high = btc_data[:]['高'].str.replace(',','').astype(float)\n",
        "btc_data_low = btc_data[:]['低'].str.replace(',','').astype(float)\n",
        "btc_data_close = btc_data[:]['開市'].str.replace(',','').astype(float)\n",
        "btc_data_vol = btc_data[:]['成交量']\n",
        "btc_data_date = btc_data[:]['日期']\n",
        "\n",
        "eth_data_open = eth_data[:]['最新'].str.replace(',','').astype(float)\n",
        "eth_data_high = eth_data[:]['高'].str.replace(',','').astype(float)\n",
        "eth_data_low = eth_data[:]['低'].str.replace(',','').astype(float)\n",
        "eth_data_close = eth_data[:]['開市'].str.replace(',','').astype(float)\n",
        "eth_data_vol = eth_data[:]['成交量']\n",
        "eth_data_date = eth_data[:]['日期']\n",
        "\n",
        "ltc_data_open = ltc_data[:]['最新'].astype(str).str.replace(',','').astype(float)\n",
        "ltc_data_high = ltc_data[:]['高'].astype(str).str.replace(',','').astype(float)\n",
        "ltc_data_low = ltc_data[:]['低'].astype(str).str.replace(',','').astype(float)\n",
        "ltc_data_close = ltc_data[:]['開市'].astype(str).str.replace(',','').astype(float)\n",
        "ltc_data_vol = ltc_data[:]['成交量']\n",
        "ltc_data_date = ltc_data[:]['日期']\n",
        "\n",
        "xrp_data_open = xrp_data[:]['最新'].astype(str).str.replace(',','').astype(float)\n",
        "xrp_data_high = xrp_data[:]['高'].astype(str).str.replace(',','').astype(float)\n",
        "xrp_data_low = xrp_data[:]['低'].astype(str).str.replace(',','').astype(float)\n",
        "xrp_data_close = xrp_data[:]['開市'].astype(str).str.replace(',','').astype(float)\n",
        "xrp_data_vol = xrp_data[:]['成交量']\n",
        "xrp_data_date = xrp_data[:]['日期']\n",
        "\n",
        "bch_data_open = bch_data[:]['最新'].str.replace(',','').astype(float)\n",
        "bch_data_high = bch_data[:]['高'].str.replace(',','').astype(float)\n",
        "bch_data_low = bch_data[:]['低'].str.replace(',','').astype(float)\n",
        "bch_data_close = bch_data[:]['開市'].str.replace(',','').astype(float)\n",
        "bch_data_vol = bch_data[:]['成交量']\n",
        "bch_data_date = bch_data[:]['日期']"
      ],
      "execution_count": 0,
      "outputs": []
    },
    {
      "cell_type": "code",
      "metadata": {
        "id": "_F6EWjMq44hJ",
        "colab_type": "code",
        "colab": {}
      },
      "source": [
        "def convert_si_to_number(x):\n",
        "    total_stars = 0\n",
        "    if 'K' in x:\n",
        "        if len(x) > 1:\n",
        "            total_stars = float(x.replace('K', '')) * 1000 # convert k to a thousand\n",
        "    elif 'M' in x:\n",
        "        if len(x) > 1:\n",
        "            total_stars = float(x.replace('M', '')) * 1000000 # convert M to a million\n",
        "    elif 'B' in x:\n",
        "        total_stars = float(x.replace('B', '')) * 1000000000 # convert B to a Billion\n",
        "    else:\n",
        "        if len(x) == 1 :\n",
        "            total_stars = 0\n",
        "        else:\n",
        "            total_stars = float(x)*1 # Less than 1000\n",
        "    \n",
        "    return int(total_stars)"
      ],
      "execution_count": 0,
      "outputs": []
    },
    {
      "cell_type": "code",
      "metadata": {
        "id": "MXfzXwG24MY6",
        "colab_type": "code",
        "colab": {
          "base_uri": "https://localhost:8080/",
          "height": 187
        },
        "outputId": "1cb64b52-0801-417a-d0d1-4d266c29acf2"
      },
      "source": [
        "for i in range(0,len(btc_data_vol)):\n",
        "    convert_si_to_number(btc_data_vol.as_matrix()[i])\n",
        "    \n",
        "for i in range(0,len(eth_data_vol)):\n",
        "    convert_si_to_number(eth_data_vol.as_matrix()[i])\n",
        "    \n",
        "for i in range(0,len(ltc_data_vol)):\n",
        "    convert_si_to_number(ltc_data_vol.as_matrix()[i])\n",
        "\n",
        "for i in range(0,len(xrp_data_vol)):\n",
        "    convert_si_to_number(xrp_data_vol.as_matrix()[i])\n",
        "    \n",
        "for i in range(0,len(bch_data_vol)):\n",
        "    convert_si_to_number(bch_data_vol.as_matrix()[i])"
      ],
      "execution_count": 424,
      "outputs": [
        {
          "output_type": "stream",
          "text": [
            "/usr/local/lib/python3.6/dist-packages/ipykernel_launcher.py:2: FutureWarning: Method .as_matrix will be removed in a future version. Use .values instead.\n",
            "  \n",
            "/usr/local/lib/python3.6/dist-packages/ipykernel_launcher.py:5: FutureWarning: Method .as_matrix will be removed in a future version. Use .values instead.\n",
            "  \"\"\"\n",
            "/usr/local/lib/python3.6/dist-packages/ipykernel_launcher.py:8: FutureWarning: Method .as_matrix will be removed in a future version. Use .values instead.\n",
            "  \n",
            "/usr/local/lib/python3.6/dist-packages/ipykernel_launcher.py:11: FutureWarning: Method .as_matrix will be removed in a future version. Use .values instead.\n",
            "  # This is added back by InteractiveShellApp.init_path()\n",
            "/usr/local/lib/python3.6/dist-packages/ipykernel_launcher.py:14: FutureWarning: Method .as_matrix will be removed in a future version. Use .values instead.\n",
            "  \n"
          ],
          "name": "stderr"
        }
      ]
    },
    {
      "cell_type": "code",
      "metadata": {
        "id": "OXX6ZD_a9sux",
        "colab_type": "code",
        "colab": {}
      },
      "source": [
        "btc_data_return = (btc_data_close-btc_data_open)/btc_data_open\n",
        "eth_data_return = (eth_data_close-eth_data_open)/eth_data_open\n",
        "ltc_data_return = (ltc_data_close-ltc_data_open)/ltc_data_open\n",
        "xrp_data_return = (xrp_data_close-xrp_data_open)/xrp_data_open\n",
        "bch_data_return = (bch_data_close-bch_data_open)/bch_data_open"
      ],
      "execution_count": 0,
      "outputs": []
    },
    {
      "cell_type": "code",
      "metadata": {
        "id": "mQGR1hn52mE4",
        "colab_type": "code",
        "colab": {
          "base_uri": "https://localhost:8080/",
          "height": 266
        },
        "outputId": "7e6424c4-27fb-40cf-b314-fcf87306f602"
      },
      "source": [
        "from statsmodels.tsa.stattools import adfuller\n",
        "\n",
        "temp = np.array(btc_data_return)\n",
        "t = adfuller(temp)  # ADF检验\n",
        "output=pd.DataFrame(index=['Test Statistic Value', \"p-value\", \"Lags Used\", \"Number of Observations Used\",\"Critical Value(1%)\",\"Critical Value(5%)\",\"Critical Value(10%)\"],columns=['value'])\n",
        "output['value']['Test Statistic Value'] = t[0]\n",
        "output['value']['p-value'] = t[1]\n",
        "output['value']['Lags Used'] = t[2]\n",
        "output['value']['Number of Observations Used'] = t[3]\n",
        "output['value']['Critical Value(1%)'] = t[4]['1%']\n",
        "output['value']['Critical Value(5%)'] = t[4]['5%']\n",
        "output['value']['Critical Value(10%)'] = t[4]['10%']\n",
        "output"
      ],
      "execution_count": 402,
      "outputs": [
        {
          "output_type": "execute_result",
          "data": {
            "text/html": [
              "<div>\n",
              "<style scoped>\n",
              "    .dataframe tbody tr th:only-of-type {\n",
              "        vertical-align: middle;\n",
              "    }\n",
              "\n",
              "    .dataframe tbody tr th {\n",
              "        vertical-align: top;\n",
              "    }\n",
              "\n",
              "    .dataframe thead th {\n",
              "        text-align: right;\n",
              "    }\n",
              "</style>\n",
              "<table border=\"1\" class=\"dataframe\">\n",
              "  <thead>\n",
              "    <tr style=\"text-align: right;\">\n",
              "      <th></th>\n",
              "      <th>value</th>\n",
              "    </tr>\n",
              "  </thead>\n",
              "  <tbody>\n",
              "    <tr>\n",
              "      <th>Test Statistic Value</th>\n",
              "      <td>-11.0202</td>\n",
              "    </tr>\n",
              "    <tr>\n",
              "      <th>p-value</th>\n",
              "      <td>6.01468e-20</td>\n",
              "    </tr>\n",
              "    <tr>\n",
              "      <th>Lags Used</th>\n",
              "      <td>5</td>\n",
              "    </tr>\n",
              "    <tr>\n",
              "      <th>Number of Observations Used</th>\n",
              "      <td>883</td>\n",
              "    </tr>\n",
              "    <tr>\n",
              "      <th>Critical Value(1%)</th>\n",
              "      <td>-3.43778</td>\n",
              "    </tr>\n",
              "    <tr>\n",
              "      <th>Critical Value(5%)</th>\n",
              "      <td>-2.86482</td>\n",
              "    </tr>\n",
              "    <tr>\n",
              "      <th>Critical Value(10%)</th>\n",
              "      <td>-2.56852</td>\n",
              "    </tr>\n",
              "  </tbody>\n",
              "</table>\n",
              "</div>"
            ],
            "text/plain": [
              "                                   value\n",
              "Test Statistic Value            -11.0202\n",
              "p-value                      6.01468e-20\n",
              "Lags Used                              5\n",
              "Number of Observations Used          883\n",
              "Critical Value(1%)              -3.43778\n",
              "Critical Value(5%)              -2.86482\n",
              "Critical Value(10%)             -2.56852"
            ]
          },
          "metadata": {
            "tags": []
          },
          "execution_count": 402
        }
      ]
    },
    {
      "cell_type": "code",
      "metadata": {
        "id": "QJ7sOX7VAMGc",
        "colab_type": "code",
        "colab": {
          "base_uri": "https://localhost:8080/",
          "height": 499
        },
        "outputId": "e496d4b6-57f7-42fe-f27e-d340ce2bee51"
      },
      "source": [
        "fig = plt.figure(figsize=(12,8))\n",
        "plt.plot(btc_data_return,'r',label='s')\n",
        "plt.title('Return(%) per period of btc')\n",
        "plt.grid(True)\n",
        "plt.axis('tight')\n",
        "plt.legend(loc=0)\n",
        "plt.ylabel('Return(%)')\n",
        "plt.show()"
      ],
      "execution_count": 403,
      "outputs": [
        {
          "output_type": "display_data",
          "data": {
            "image/png": "[encoded data removed]",
            "text/plain": [
              "<Figure size 864x576 with 1 Axes>"
            ]
          },
          "metadata": {
            "tags": []
          }
        }
      ]
    },
    {
      "cell_type": "code",
      "metadata": {
        "id": "KBz7ZxsIBA4_",
        "colab_type": "code",
        "colab": {
          "base_uri": "https://localhost:8080/",
          "height": 266
        },
        "outputId": "7d9d8d10-6454-43ea-c54d-9aa80b94c966"
      },
      "source": [
        "from statsmodels.tsa.stattools import adfuller\n",
        "\n",
        "temp = np.array(eth_data_return)\n",
        "t = adfuller(temp)  # ADF检验\n",
        "output=pd.DataFrame(index=['Test Statistic Value', \"p-value\", \"Lags Used\", \"Number of Observations Used\",\"Critical Value(1%)\",\"Critical Value(5%)\",\"Critical Value(10%)\"],columns=['value'])\n",
        "output['value']['Test Statistic Value'] = t[0]\n",
        "output['value']['p-value'] = t[1]\n",
        "output['value']['Lags Used'] = t[2]\n",
        "output['value']['Number of Observations Used'] = t[3]\n",
        "output['value']['Critical Value(1%)'] = t[4]['1%']\n",
        "output['value']['Critical Value(5%)'] = t[4]['5%']\n",
        "output['value']['Critical Value(10%)'] = t[4]['10%']\n",
        "output"
      ],
      "execution_count": 405,
      "outputs": [
        {
          "output_type": "execute_result",
          "data": {
            "text/html": [
              "<div>\n",
              "<style scoped>\n",
              "    .dataframe tbody tr th:only-of-type {\n",
              "        vertical-align: middle;\n",
              "    }\n",
              "\n",
              "    .dataframe tbody tr th {\n",
              "        vertical-align: top;\n",
              "    }\n",
              "\n",
              "    .dataframe thead th {\n",
              "        text-align: right;\n",
              "    }\n",
              "</style>\n",
              "<table border=\"1\" class=\"dataframe\">\n",
              "  <thead>\n",
              "    <tr style=\"text-align: right;\">\n",
              "      <th></th>\n",
              "      <th>value</th>\n",
              "    </tr>\n",
              "  </thead>\n",
              "  <tbody>\n",
              "    <tr>\n",
              "      <th>Test Statistic Value</th>\n",
              "      <td>-10.1743</td>\n",
              "    </tr>\n",
              "    <tr>\n",
              "      <th>p-value</th>\n",
              "      <td>6.95589e-18</td>\n",
              "    </tr>\n",
              "    <tr>\n",
              "      <th>Lags Used</th>\n",
              "      <td>5</td>\n",
              "    </tr>\n",
              "    <tr>\n",
              "      <th>Number of Observations Used</th>\n",
              "      <td>883</td>\n",
              "    </tr>\n",
              "    <tr>\n",
              "      <th>Critical Value(1%)</th>\n",
              "      <td>-3.43778</td>\n",
              "    </tr>\n",
              "    <tr>\n",
              "      <th>Critical Value(5%)</th>\n",
              "      <td>-2.86482</td>\n",
              "    </tr>\n",
              "    <tr>\n",
              "      <th>Critical Value(10%)</th>\n",
              "      <td>-2.56852</td>\n",
              "    </tr>\n",
              "  </tbody>\n",
              "</table>\n",
              "</div>"
            ],
            "text/plain": [
              "                                   value\n",
              "Test Statistic Value            -10.1743\n",
              "p-value                      6.95589e-18\n",
              "Lags Used                              5\n",
              "Number of Observations Used          883\n",
              "Critical Value(1%)              -3.43778\n",
              "Critical Value(5%)              -2.86482\n",
              "Critical Value(10%)             -2.56852"
            ]
          },
          "metadata": {
            "tags": []
          },
          "execution_count": 405
        }
      ]
    },
    {
      "cell_type": "code",
      "metadata": {
        "id": "wVFLdo-RAhsL",
        "colab_type": "code",
        "colab": {
          "base_uri": "https://localhost:8080/",
          "height": 499
        },
        "outputId": "d96f8552-d18d-4519-b740-63546eb4be19"
      },
      "source": [
        "fig = plt.figure(figsize=(12,8))\n",
        "plt.plot(eth_data_return,'r',label='s')\n",
        "plt.title('Return(%) per period of eth')\n",
        "plt.grid(True)\n",
        "plt.axis('tight')\n",
        "plt.legend(loc=0)\n",
        "plt.ylabel('Return(%)')\n",
        "plt.show()"
      ],
      "execution_count": 406,
      "outputs": [
        {
          "output_type": "display_data",
          "data": {
            "image/png": "[encoded data removed]",
            "text/plain": [
              "<Figure size 864x576 with 1 Axes>"
            ]
          },
          "metadata": {
            "tags": []
          }
        }
      ]
    },
    {
      "cell_type": "code",
      "metadata": {
        "id": "XYIgQGkmB35v",
        "colab_type": "code",
        "colab": {
          "base_uri": "https://localhost:8080/",
          "height": 266
        },
        "outputId": "11eb5032-ce7a-4dd6-ec91-ed0a9e505192"
      },
      "source": [
        "from statsmodels.tsa.stattools import adfuller\n",
        "\n",
        "temp = np.array(ltc_data_return)\n",
        "t = adfuller(temp)  # ADF检验\n",
        "output=pd.DataFrame(index=['Test Statistic Value', \"p-value\", \"Lags Used\", \"Number of Observations Used\",\"Critical Value(1%)\",\"Critical Value(5%)\",\"Critical Value(10%)\"],columns=['value'])\n",
        "output['value']['Test Statistic Value'] = t[0]\n",
        "output['value']['p-value'] = t[1]\n",
        "output['value']['Lags Used'] = t[2]\n",
        "output['value']['Number of Observations Used'] = t[3]\n",
        "output['value']['Critical Value(1%)'] = t[4]['1%']\n",
        "output['value']['Critical Value(5%)'] = t[4]['5%']\n",
        "output['value']['Critical Value(10%)'] = t[4]['10%']\n",
        "output"
      ],
      "execution_count": 426,
      "outputs": [
        {
          "output_type": "execute_result",
          "data": {
            "text/html": [
              "<div>\n",
              "<style scoped>\n",
              "    .dataframe tbody tr th:only-of-type {\n",
              "        vertical-align: middle;\n",
              "    }\n",
              "\n",
              "    .dataframe tbody tr th {\n",
              "        vertical-align: top;\n",
              "    }\n",
              "\n",
              "    .dataframe thead th {\n",
              "        text-align: right;\n",
              "    }\n",
              "</style>\n",
              "<table border=\"1\" class=\"dataframe\">\n",
              "  <thead>\n",
              "    <tr style=\"text-align: right;\">\n",
              "      <th></th>\n",
              "      <th>value</th>\n",
              "    </tr>\n",
              "  </thead>\n",
              "  <tbody>\n",
              "    <tr>\n",
              "      <th>Test Statistic Value</th>\n",
              "      <td>-10.7321</td>\n",
              "    </tr>\n",
              "    <tr>\n",
              "      <th>p-value</th>\n",
              "      <td>2.962e-19</td>\n",
              "    </tr>\n",
              "    <tr>\n",
              "      <th>Lags Used</th>\n",
              "      <td>5</td>\n",
              "    </tr>\n",
              "    <tr>\n",
              "      <th>Number of Observations Used</th>\n",
              "      <td>883</td>\n",
              "    </tr>\n",
              "    <tr>\n",
              "      <th>Critical Value(1%)</th>\n",
              "      <td>-3.43778</td>\n",
              "    </tr>\n",
              "    <tr>\n",
              "      <th>Critical Value(5%)</th>\n",
              "      <td>-2.86482</td>\n",
              "    </tr>\n",
              "    <tr>\n",
              "      <th>Critical Value(10%)</th>\n",
              "      <td>-2.56852</td>\n",
              "    </tr>\n",
              "  </tbody>\n",
              "</table>\n",
              "</div>"
            ],
            "text/plain": [
              "                                 value\n",
              "Test Statistic Value          -10.7321\n",
              "p-value                      2.962e-19\n",
              "Lags Used                            5\n",
              "Number of Observations Used        883\n",
              "Critical Value(1%)            -3.43778\n",
              "Critical Value(5%)            -2.86482\n",
              "Critical Value(10%)           -2.56852"
            ]
          },
          "metadata": {
            "tags": []
          },
          "execution_count": 426
        }
      ]
    },
    {
      "cell_type": "code",
      "metadata": {
        "id": "VrjoxY83CC-b",
        "colab_type": "code",
        "colab": {
          "base_uri": "https://localhost:8080/",
          "height": 499
        },
        "outputId": "3067f105-2ac9-4f2e-cbbd-e4e6537215a0"
      },
      "source": [
        "fig = plt.figure(figsize=(12,8))\n",
        "plt.plot(ltc_data_return,'r',label='s')\n",
        "plt.title('Return(%) per period of ltc')\n",
        "plt.grid(True)\n",
        "plt.axis('tight')\n",
        "plt.legend(loc=0)\n",
        "plt.ylabel('Return(%)')\n",
        "plt.show()"
      ],
      "execution_count": 427,
      "outputs": [
        {
          "output_type": "display_data",
          "data": {
            "image/png": "[encoded data removed]",
            "text/plain": [
              "<Figure size 864x576 with 1 Axes>"
            ]
          },
          "metadata": {
            "tags": []
          }
        }
      ]
    },
    {
      "cell_type": "code",
      "metadata": {
        "id": "9iYF6eheCMq8",
        "colab_type": "code",
        "colab": {
          "base_uri": "https://localhost:8080/",
          "height": 266
        },
        "outputId": "c5a3fa31-0261-4abd-fdfd-940d4ab7e7cf"
      },
      "source": [
        "from statsmodels.tsa.stattools import adfuller\n",
        "\n",
        "temp = np.array(xrp_data_return)\n",
        "t = adfuller(temp)  # ADF检验\n",
        "output=pd.DataFrame(index=['Test Statistic Value', \"p-value\", \"Lags Used\", \"Number of Observations Used\",\"Critical Value(1%)\",\"Critical Value(5%)\",\"Critical Value(10%)\"],columns=['value'])\n",
        "output['value']['Test Statistic Value'] = t[0]\n",
        "output['value']['p-value'] = t[1]\n",
        "output['value']['Lags Used'] = t[2]\n",
        "output['value']['Number of Observations Used'] = t[3]\n",
        "output['value']['Critical Value(1%)'] = t[4]['1%']\n",
        "output['value']['Critical Value(5%)'] = t[4]['5%']\n",
        "output['value']['Critical Value(10%)'] = t[4]['10%']\n",
        "output"
      ],
      "execution_count": 410,
      "outputs": [
        {
          "output_type": "execute_result",
          "data": {
            "text/html": [
              "<div>\n",
              "<style scoped>\n",
              "    .dataframe tbody tr th:only-of-type {\n",
              "        vertical-align: middle;\n",
              "    }\n",
              "\n",
              "    .dataframe tbody tr th {\n",
              "        vertical-align: top;\n",
              "    }\n",
              "\n",
              "    .dataframe thead th {\n",
              "        text-align: right;\n",
              "    }\n",
              "</style>\n",
              "<table border=\"1\" class=\"dataframe\">\n",
              "  <thead>\n",
              "    <tr style=\"text-align: right;\">\n",
              "      <th></th>\n",
              "      <th>value</th>\n",
              "    </tr>\n",
              "  </thead>\n",
              "  <tbody>\n",
              "    <tr>\n",
              "      <th>Test Statistic Value</th>\n",
              "      <td>-6.42245</td>\n",
              "    </tr>\n",
              "    <tr>\n",
              "      <th>p-value</th>\n",
              "      <td>1.77773e-08</td>\n",
              "    </tr>\n",
              "    <tr>\n",
              "      <th>Lags Used</th>\n",
              "      <td>17</td>\n",
              "    </tr>\n",
              "    <tr>\n",
              "      <th>Number of Observations Used</th>\n",
              "      <td>871</td>\n",
              "    </tr>\n",
              "    <tr>\n",
              "      <th>Critical Value(1%)</th>\n",
              "      <td>-3.43788</td>\n",
              "    </tr>\n",
              "    <tr>\n",
              "      <th>Critical Value(5%)</th>\n",
              "      <td>-2.86486</td>\n",
              "    </tr>\n",
              "    <tr>\n",
              "      <th>Critical Value(10%)</th>\n",
              "      <td>-2.56854</td>\n",
              "    </tr>\n",
              "  </tbody>\n",
              "</table>\n",
              "</div>"
            ],
            "text/plain": [
              "                                   value\n",
              "Test Statistic Value            -6.42245\n",
              "p-value                      1.77773e-08\n",
              "Lags Used                             17\n",
              "Number of Observations Used          871\n",
              "Critical Value(1%)              -3.43788\n",
              "Critical Value(5%)              -2.86486\n",
              "Critical Value(10%)             -2.56854"
            ]
          },
          "metadata": {
            "tags": []
          },
          "execution_count": 410
        }
      ]
    },
    {
      "cell_type": "code",
      "metadata": {
        "id": "ldvx0-B_CPrX",
        "colab_type": "code",
        "colab": {
          "base_uri": "https://localhost:8080/",
          "height": 499
        },
        "outputId": "82b161c7-7cff-48a2-e887-a831459d302c"
      },
      "source": [
        "fig = plt.figure(figsize=(12,8))\n",
        "plt.plot(xrp_data_return,'r',label='s')\n",
        "plt.title('Return(%) per period of xrp')\n",
        "plt.grid(True)\n",
        "plt.axis('tight')\n",
        "plt.legend(loc=0)\n",
        "plt.ylabel('Return(%)')\n",
        "plt.show()"
      ],
      "execution_count": 411,
      "outputs": [
        {
          "output_type": "display_data",
          "data": {
            "image/png": "[encoded data removed]",
            "text/plain": [
              "<Figure size 864x576 with 1 Axes>"
            ]
          },
          "metadata": {
            "tags": []
          }
        }
      ]
    },
    {
      "cell_type": "code",
      "metadata": {
        "id": "OoKNPZwFCdZV",
        "colab_type": "code",
        "colab": {
          "base_uri": "https://localhost:8080/",
          "height": 266
        },
        "outputId": "0bd4d2ac-0c69-4ab9-9225-7cde15ea8131"
      },
      "source": [
        "from statsmodels.tsa.stattools import adfuller\n",
        "\n",
        "temp = np.array(bch_data_return)\n",
        "t = adfuller(temp)  # ADF检验\n",
        "output=pd.DataFrame(index=['Test Statistic Value', \"p-value\", \"Lags Used\", \"Number of Observations Used\",\"Critical Value(1%)\",\"Critical Value(5%)\",\"Critical Value(10%)\"],columns=['value'])\n",
        "output['value']['Test Statistic Value'] = t[0]\n",
        "output['value']['p-value'] = t[1]\n",
        "output['value']['Lags Used'] = t[2]\n",
        "output['value']['Number of Observations Used'] = t[3]\n",
        "output['value']['Critical Value(1%)'] = t[4]['1%']\n",
        "output['value']['Critical Value(5%)'] = t[4]['5%']\n",
        "output['value']['Critical Value(10%)'] = t[4]['10%']\n",
        "output"
      ],
      "execution_count": 412,
      "outputs": [
        {
          "output_type": "execute_result",
          "data": {
            "text/html": [
              "<div>\n",
              "<style scoped>\n",
              "    .dataframe tbody tr th:only-of-type {\n",
              "        vertical-align: middle;\n",
              "    }\n",
              "\n",
              "    .dataframe tbody tr th {\n",
              "        vertical-align: top;\n",
              "    }\n",
              "\n",
              "    .dataframe thead th {\n",
              "        text-align: right;\n",
              "    }\n",
              "</style>\n",
              "<table border=\"1\" class=\"dataframe\">\n",
              "  <thead>\n",
              "    <tr style=\"text-align: right;\">\n",
              "      <th></th>\n",
              "      <th>value</th>\n",
              "    </tr>\n",
              "  </thead>\n",
              "  <tbody>\n",
              "    <tr>\n",
              "      <th>Test Statistic Value</th>\n",
              "      <td>-23.2396</td>\n",
              "    </tr>\n",
              "    <tr>\n",
              "      <th>p-value</th>\n",
              "      <td>0</td>\n",
              "    </tr>\n",
              "    <tr>\n",
              "      <th>Lags Used</th>\n",
              "      <td>0</td>\n",
              "    </tr>\n",
              "    <tr>\n",
              "      <th>Number of Observations Used</th>\n",
              "      <td>674</td>\n",
              "    </tr>\n",
              "    <tr>\n",
              "      <th>Critical Value(1%)</th>\n",
              "      <td>-3.44009</td>\n",
              "    </tr>\n",
              "    <tr>\n",
              "      <th>Critical Value(5%)</th>\n",
              "      <td>-2.86584</td>\n",
              "    </tr>\n",
              "    <tr>\n",
              "      <th>Critical Value(10%)</th>\n",
              "      <td>-2.56906</td>\n",
              "    </tr>\n",
              "  </tbody>\n",
              "</table>\n",
              "</div>"
            ],
            "text/plain": [
              "                               value\n",
              "Test Statistic Value        -23.2396\n",
              "p-value                            0\n",
              "Lags Used                          0\n",
              "Number of Observations Used      674\n",
              "Critical Value(1%)          -3.44009\n",
              "Critical Value(5%)          -2.86584\n",
              "Critical Value(10%)         -2.56906"
            ]
          },
          "metadata": {
            "tags": []
          },
          "execution_count": 412
        }
      ]
    },
    {
      "cell_type": "code",
      "metadata": {
        "id": "YUpek9VPCjVB",
        "colab_type": "code",
        "colab": {
          "base_uri": "https://localhost:8080/",
          "height": 499
        },
        "outputId": "bc78c9fc-bee8-4e49-9331-34b5dfba0a35"
      },
      "source": [
        "fig = plt.figure(figsize=(12,8))\n",
        "plt.plot(bch_data_return,'r',label='s')\n",
        "plt.title('Return(%) per period of bch')\n",
        "plt.grid(True)\n",
        "plt.axis('tight')\n",
        "plt.legend(loc=0)\n",
        "plt.ylabel('Return(%)')\n",
        "plt.show()"
      ],
      "execution_count": 413,
      "outputs": [
        {
          "output_type": "display_data",
          "data": {
            "image/png": "[encoded data removed]",
            "text/plain": [
              "<Figure size 864x576 with 1 Axes>"
            ]
          },
          "metadata": {
            "tags": []
          }
        }
      ]
    },
    {
      "cell_type": "code",
      "metadata": {
        "id": "6GhbrsE5CwNM",
        "colab_type": "code",
        "colab": {
          "base_uri": "https://localhost:8080/",
          "height": 34
        },
        "outputId": "1c7bbec3-5db1-40bf-8166-0a6c4c5f1aac"
      },
      "source": [
        "len(btc_data_return)"
      ],
      "execution_count": 414,
      "outputs": [
        {
          "output_type": "execute_result",
          "data": {
            "text/plain": [
              "889"
            ]
          },
          "metadata": {
            "tags": []
          },
          "execution_count": 414
        }
      ]
    },
    {
      "cell_type": "code",
      "metadata": {
        "id": "XMsLCNzkC2jo",
        "colab_type": "code",
        "colab": {
          "base_uri": "https://localhost:8080/",
          "height": 34
        },
        "outputId": "48227e38-f61c-40af-e9bb-6294c5c77d4b"
      },
      "source": [
        "len(eth_data_return)"
      ],
      "execution_count": 415,
      "outputs": [
        {
          "output_type": "execute_result",
          "data": {
            "text/plain": [
              "889"
            ]
          },
          "metadata": {
            "tags": []
          },
          "execution_count": 415
        }
      ]
    },
    {
      "cell_type": "code",
      "metadata": {
        "id": "hFBKxoTWC4kA",
        "colab_type": "code",
        "colab": {
          "base_uri": "https://localhost:8080/",
          "height": 34
        },
        "outputId": "6f10432e-4f9e-4f57-e4a2-6b0c55f7ba26"
      },
      "source": [
        "len(ltc_data_return)"
      ],
      "execution_count": 428,
      "outputs": [
        {
          "output_type": "execute_result",
          "data": {
            "text/plain": [
              "889"
            ]
          },
          "metadata": {
            "tags": []
          },
          "execution_count": 428
        }
      ]
    },
    {
      "cell_type": "code",
      "metadata": {
        "id": "z84nRiLPC6PI",
        "colab_type": "code",
        "colab": {
          "base_uri": "https://localhost:8080/",
          "height": 34
        },
        "outputId": "e1998fa4-9cf1-42b0-cbf9-1c8a65de78a5"
      },
      "source": [
        "len(xrp_data_return)"
      ],
      "execution_count": 417,
      "outputs": [
        {
          "output_type": "execute_result",
          "data": {
            "text/plain": [
              "889"
            ]
          },
          "metadata": {
            "tags": []
          },
          "execution_count": 417
        }
      ]
    },
    {
      "cell_type": "code",
      "metadata": {
        "id": "NLvyS28_C8J_",
        "colab_type": "code",
        "colab": {
          "base_uri": "https://localhost:8080/",
          "height": 34
        },
        "outputId": "10264f67-bbc5-4afd-e9b7-8f3b5641e47b"
      },
      "source": [
        "len(bch_data_return)"
      ],
      "execution_count": 418,
      "outputs": [
        {
          "output_type": "execute_result",
          "data": {
            "text/plain": [
              "675"
            ]
          },
          "metadata": {
            "tags": []
          },
          "execution_count": 418
        }
      ]
    },
    {
      "cell_type": "code",
      "metadata": {
        "id": "Dd96U6SJDKNW",
        "colab_type": "code",
        "colab": {
          "base_uri": "https://localhost:8080/",
          "height": 34
        },
        "outputId": "e703f493-a8c8-40d9-d013-1caffdcc1f63"
      },
      "source": [
        "result = sm.tsa.stattools.coint(btc_data_return,eth_data_return)\n",
        "pvalue = result[1]\n",
        "pvalue"
      ],
      "execution_count": 419,
      "outputs": [
        {
          "output_type": "execute_result",
          "data": {
            "text/plain": [
              "8.652017271869852e-27"
            ]
          },
          "metadata": {
            "tags": []
          },
          "execution_count": 419
        }
      ]
    },
    {
      "cell_type": "code",
      "metadata": {
        "id": "1E5P47t_DYOv",
        "colab_type": "code",
        "colab": {
          "base_uri": "https://localhost:8080/",
          "height": 34
        },
        "outputId": "420f22d0-6156-4823-fe22-9c79a3a3da26"
      },
      "source": [
        "result = sm.tsa.stattools.coint(btc_data_return,ltc_data_return)\n",
        "pvalue = result[1]\n",
        "pvalue"
      ],
      "execution_count": 429,
      "outputs": [
        {
          "output_type": "execute_result",
          "data": {
            "text/plain": [
              "4.708079772040123e-12"
            ]
          },
          "metadata": {
            "tags": []
          },
          "execution_count": 429
        }
      ]
    },
    {
      "cell_type": "code",
      "metadata": {
        "id": "NE35UcVDDdk4",
        "colab_type": "code",
        "colab": {
          "base_uri": "https://localhost:8080/",
          "height": 34
        },
        "outputId": "32289835-bf1f-4fe9-9069-9a6fe2cdbbb4"
      },
      "source": [
        "result = sm.tsa.stattools.coint(btc_data_return,xrp_data_return)\n",
        "pvalue = result[1]\n",
        "pvalue"
      ],
      "execution_count": 421,
      "outputs": [
        {
          "output_type": "execute_result",
          "data": {
            "text/plain": [
              "6.769277737900365e-23"
            ]
          },
          "metadata": {
            "tags": []
          },
          "execution_count": 421
        }
      ]
    },
    {
      "cell_type": "code",
      "metadata": {
        "id": "A0e_FKPzDhZX",
        "colab_type": "code",
        "colab": {
          "base_uri": "https://localhost:8080/",
          "height": 34
        },
        "outputId": "b987b0ea-784f-41bb-fa24-b133af02eea5"
      },
      "source": [
        "result = sm.tsa.stattools.coint(btc_data_return[214:],bch_data_return)\n",
        "pvalue = result[1]\n",
        "pvalue"
      ],
      "execution_count": 439,
      "outputs": [
        {
          "output_type": "execute_result",
          "data": {
            "text/plain": [
              "0.0"
            ]
          },
          "metadata": {
            "tags": []
          },
          "execution_count": 439
        }
      ]
    },
    {
      "cell_type": "code",
      "metadata": {
        "id": "slaChJ3mFEb1",
        "colab_type": "code",
        "colab": {
          "base_uri": "https://localhost:8080/",
          "height": 669
        },
        "outputId": "d3c6b77c-2111-4c5b-fe6c-673fe754e62c"
      },
      "source": [
        "import math\n",
        "all_date_btc = {\n",
        "    'btc_data_date':np.array(btc_data_date[214:]),\n",
        "}\n",
        "all_btc_data_return = {\n",
        "    'btc_data_return': np.array(btc_data_return[214:]), \n",
        "}\n",
        "all_data_btc = {\n",
        "            'eth_data_return': np.array(eth_data_return[214:]),          \n",
        "            'ltc_data_return': np.array(ltc_data_return[214:]),\n",
        "            'xrp_data_return': np.array(xrp_data_return[214:]),\n",
        "            'bch_data_return': bch_data_return,\n",
        "            }\n",
        "all_data_btc = pd.DataFrame(all_data_btc)\n",
        "all_data_btc.head(20)"
      ],
      "execution_count": 546,
      "outputs": [
        {
          "output_type": "execute_result",
          "data": {
            "text/html": [
              "<div>\n",
              "<style scoped>\n",
              "    .dataframe tbody tr th:only-of-type {\n",
              "        vertical-align: middle;\n",
              "    }\n",
              "\n",
              "    .dataframe tbody tr th {\n",
              "        vertical-align: top;\n",
              "    }\n",
              "\n",
              "    .dataframe thead th {\n",
              "        text-align: right;\n",
              "    }\n",
              "</style>\n",
              "<table border=\"1\" class=\"dataframe\">\n",
              "  <thead>\n",
              "    <tr style=\"text-align: right;\">\n",
              "      <th></th>\n",
              "      <th>eth_data_return</th>\n",
              "      <th>ltc_data_return</th>\n",
              "      <th>xrp_data_return</th>\n",
              "      <th>bch_data_return</th>\n",
              "    </tr>\n",
              "  </thead>\n",
              "  <tbody>\n",
              "    <tr>\n",
              "      <th>0</th>\n",
              "      <td>-0.043366</td>\n",
              "      <td>-0.050247</td>\n",
              "      <td>-0.094902</td>\n",
              "      <td>0.018237</td>\n",
              "    </tr>\n",
              "    <tr>\n",
              "      <th>1</th>\n",
              "      <td>0.005649</td>\n",
              "      <td>0.018704</td>\n",
              "      <td>-0.062834</td>\n",
              "      <td>-0.011247</td>\n",
              "    </tr>\n",
              "    <tr>\n",
              "      <th>2</th>\n",
              "      <td>-0.054706</td>\n",
              "      <td>-0.063365</td>\n",
              "      <td>-0.026835</td>\n",
              "      <td>0.005016</td>\n",
              "    </tr>\n",
              "    <tr>\n",
              "      <th>3</th>\n",
              "      <td>0.012186</td>\n",
              "      <td>0.011875</td>\n",
              "      <td>0.009566</td>\n",
              "      <td>-0.035350</td>\n",
              "    </tr>\n",
              "    <tr>\n",
              "      <th>4</th>\n",
              "      <td>-0.022155</td>\n",
              "      <td>-0.021676</td>\n",
              "      <td>-0.002016</td>\n",
              "      <td>0.059957</td>\n",
              "    </tr>\n",
              "    <tr>\n",
              "      <th>5</th>\n",
              "      <td>0.002119</td>\n",
              "      <td>-0.012728</td>\n",
              "      <td>-0.014513</td>\n",
              "      <td>0.088708</td>\n",
              "    </tr>\n",
              "    <tr>\n",
              "      <th>6</th>\n",
              "      <td>-0.006647</td>\n",
              "      <td>-0.012534</td>\n",
              "      <td>-0.013734</td>\n",
              "      <td>-0.019408</td>\n",
              "    </tr>\n",
              "    <tr>\n",
              "      <th>7</th>\n",
              "      <td>-0.002837</td>\n",
              "      <td>-0.000142</td>\n",
              "      <td>-0.006819</td>\n",
              "      <td>0.023972</td>\n",
              "    </tr>\n",
              "    <tr>\n",
              "      <th>8</th>\n",
              "      <td>0.039533</td>\n",
              "      <td>0.053616</td>\n",
              "      <td>0.044686</td>\n",
              "      <td>-0.048311</td>\n",
              "    </tr>\n",
              "    <tr>\n",
              "      <th>9</th>\n",
              "      <td>-0.003073</td>\n",
              "      <td>0.007291</td>\n",
              "      <td>-0.008579</td>\n",
              "      <td>0.079798</td>\n",
              "    </tr>\n",
              "    <tr>\n",
              "      <th>10</th>\n",
              "      <td>0.002055</td>\n",
              "      <td>0.004660</td>\n",
              "      <td>0.011572</td>\n",
              "      <td>-0.047650</td>\n",
              "    </tr>\n",
              "    <tr>\n",
              "      <th>11</th>\n",
              "      <td>-0.002444</td>\n",
              "      <td>0.007528</td>\n",
              "      <td>-0.004989</td>\n",
              "      <td>0.012933</td>\n",
              "    </tr>\n",
              "    <tr>\n",
              "      <th>12</th>\n",
              "      <td>0.004948</td>\n",
              "      <td>0.001717</td>\n",
              "      <td>0.001253</td>\n",
              "      <td>-0.024396</td>\n",
              "    </tr>\n",
              "    <tr>\n",
              "      <th>13</th>\n",
              "      <td>0.002730</td>\n",
              "      <td>0.004464</td>\n",
              "      <td>0.012005</td>\n",
              "      <td>-0.055623</td>\n",
              "    </tr>\n",
              "    <tr>\n",
              "      <th>14</th>\n",
              "      <td>0.006564</td>\n",
              "      <td>-0.003713</td>\n",
              "      <td>-0.017240</td>\n",
              "      <td>0.007038</td>\n",
              "    </tr>\n",
              "    <tr>\n",
              "      <th>15</th>\n",
              "      <td>0.002950</td>\n",
              "      <td>0.010941</td>\n",
              "      <td>0.007859</td>\n",
              "      <td>-0.009783</td>\n",
              "    </tr>\n",
              "    <tr>\n",
              "      <th>16</th>\n",
              "      <td>0.001881</td>\n",
              "      <td>0.009531</td>\n",
              "      <td>0.006225</td>\n",
              "      <td>-0.038923</td>\n",
              "    </tr>\n",
              "    <tr>\n",
              "      <th>17</th>\n",
              "      <td>-0.014036</td>\n",
              "      <td>-0.011045</td>\n",
              "      <td>-0.015264</td>\n",
              "      <td>0.069241</td>\n",
              "    </tr>\n",
              "    <tr>\n",
              "      <th>18</th>\n",
              "      <td>0.007952</td>\n",
              "      <td>-0.003859</td>\n",
              "      <td>0.014783</td>\n",
              "      <td>-0.006726</td>\n",
              "    </tr>\n",
              "    <tr>\n",
              "      <th>19</th>\n",
              "      <td>0.031852</td>\n",
              "      <td>0.038521</td>\n",
              "      <td>0.035347</td>\n",
              "      <td>0.010317</td>\n",
              "    </tr>\n",
              "  </tbody>\n",
              "</table>\n",
              "</div>"
            ],
            "text/plain": [
              "    eth_data_return  ltc_data_return  xrp_data_return  bch_data_return\n",
              "0         -0.043366        -0.050247        -0.094902         0.018237\n",
              "1          0.005649         0.018704        -0.062834        -0.011247\n",
              "2         -0.054706        -0.063365        -0.026835         0.005016\n",
              "3          0.012186         0.011875         0.009566        -0.035350\n",
              "4         -0.022155        -0.021676        -0.002016         0.059957\n",
              "5          0.002119        -0.012728        -0.014513         0.088708\n",
              "6         -0.006647        -0.012534        -0.013734        -0.019408\n",
              "7         -0.002837        -0.000142        -0.006819         0.023972\n",
              "8          0.039533         0.053616         0.044686        -0.048311\n",
              "9         -0.003073         0.007291        -0.008579         0.079798\n",
              "10         0.002055         0.004660         0.011572        -0.047650\n",
              "11        -0.002444         0.007528        -0.004989         0.012933\n",
              "12         0.004948         0.001717         0.001253        -0.024396\n",
              "13         0.002730         0.004464         0.012005        -0.055623\n",
              "14         0.006564        -0.003713        -0.017240         0.007038\n",
              "15         0.002950         0.010941         0.007859        -0.009783\n",
              "16         0.001881         0.009531         0.006225        -0.038923\n",
              "17        -0.014036        -0.011045        -0.015264         0.069241\n",
              "18         0.007952        -0.003859         0.014783        -0.006726\n",
              "19         0.031852         0.038521         0.035347         0.010317"
            ]
          },
          "metadata": {
            "tags": []
          },
          "execution_count": 546
        }
      ]
    },
    {
      "cell_type": "code",
      "metadata": {
        "id": "Z8L2C7LQIf5p",
        "colab_type": "code",
        "colab": {
          "base_uri": "https://localhost:8080/",
          "height": 669
        },
        "outputId": "59c77c6b-078a-42f6-df3b-e21471defc0e"
      },
      "source": [
        "all_date_btc = pd.DataFrame(all_date_btc)\n",
        "all_date_btc.head(20)"
      ],
      "execution_count": 547,
      "outputs": [
        {
          "output_type": "execute_result",
          "data": {
            "text/html": [
              "<div>\n",
              "<style scoped>\n",
              "    .dataframe tbody tr th:only-of-type {\n",
              "        vertical-align: middle;\n",
              "    }\n",
              "\n",
              "    .dataframe tbody tr th {\n",
              "        vertical-align: top;\n",
              "    }\n",
              "\n",
              "    .dataframe thead th {\n",
              "        text-align: right;\n",
              "    }\n",
              "</style>\n",
              "<table border=\"1\" class=\"dataframe\">\n",
              "  <thead>\n",
              "    <tr style=\"text-align: right;\">\n",
              "      <th></th>\n",
              "      <th>btc_data_date</th>\n",
              "    </tr>\n",
              "  </thead>\n",
              "  <tbody>\n",
              "    <tr>\n",
              "      <th>0</th>\n",
              "      <td>2018年11月6日</td>\n",
              "    </tr>\n",
              "    <tr>\n",
              "      <th>1</th>\n",
              "      <td>2018年11月5日</td>\n",
              "    </tr>\n",
              "    <tr>\n",
              "      <th>2</th>\n",
              "      <td>2018年11月4日</td>\n",
              "    </tr>\n",
              "    <tr>\n",
              "      <th>3</th>\n",
              "      <td>2018年11月3日</td>\n",
              "    </tr>\n",
              "    <tr>\n",
              "      <th>4</th>\n",
              "      <td>2018年11月2日</td>\n",
              "    </tr>\n",
              "    <tr>\n",
              "      <th>5</th>\n",
              "      <td>2018年11月1日</td>\n",
              "    </tr>\n",
              "    <tr>\n",
              "      <th>6</th>\n",
              "      <td>2018年10月31日</td>\n",
              "    </tr>\n",
              "    <tr>\n",
              "      <th>7</th>\n",
              "      <td>2018年10月30日</td>\n",
              "    </tr>\n",
              "    <tr>\n",
              "      <th>8</th>\n",
              "      <td>2018年10月29日</td>\n",
              "    </tr>\n",
              "    <tr>\n",
              "      <th>9</th>\n",
              "      <td>2018年10月28日</td>\n",
              "    </tr>\n",
              "    <tr>\n",
              "      <th>10</th>\n",
              "      <td>2018年10月27日</td>\n",
              "    </tr>\n",
              "    <tr>\n",
              "      <th>11</th>\n",
              "      <td>2018年10月26日</td>\n",
              "    </tr>\n",
              "    <tr>\n",
              "      <th>12</th>\n",
              "      <td>2018年10月25日</td>\n",
              "    </tr>\n",
              "    <tr>\n",
              "      <th>13</th>\n",
              "      <td>2018年10月24日</td>\n",
              "    </tr>\n",
              "    <tr>\n",
              "      <th>14</th>\n",
              "      <td>2018年10月23日</td>\n",
              "    </tr>\n",
              "    <tr>\n",
              "      <th>15</th>\n",
              "      <td>2018年10月22日</td>\n",
              "    </tr>\n",
              "    <tr>\n",
              "      <th>16</th>\n",
              "      <td>2018年10月21日</td>\n",
              "    </tr>\n",
              "    <tr>\n",
              "      <th>17</th>\n",
              "      <td>2018年10月20日</td>\n",
              "    </tr>\n",
              "    <tr>\n",
              "      <th>18</th>\n",
              "      <td>2018年10月19日</td>\n",
              "    </tr>\n",
              "    <tr>\n",
              "      <th>19</th>\n",
              "      <td>2018年10月18日</td>\n",
              "    </tr>\n",
              "  </tbody>\n",
              "</table>\n",
              "</div>"
            ],
            "text/plain": [
              "   btc_data_date\n",
              "0     2018年11月6日\n",
              "1     2018年11月5日\n",
              "2     2018年11月4日\n",
              "3     2018年11月3日\n",
              "4     2018年11月2日\n",
              "5     2018年11月1日\n",
              "6    2018年10月31日\n",
              "7    2018年10月30日\n",
              "8    2018年10月29日\n",
              "9    2018年10月28日\n",
              "10   2018年10月27日\n",
              "11   2018年10月26日\n",
              "12   2018年10月25日\n",
              "13   2018年10月24日\n",
              "14   2018年10月23日\n",
              "15   2018年10月22日\n",
              "16   2018年10月21日\n",
              "17   2018年10月20日\n",
              "18   2018年10月19日\n",
              "19   2018年10月18日"
            ]
          },
          "metadata": {
            "tags": []
          },
          "execution_count": 547
        }
      ]
    },
    {
      "cell_type": "code",
      "metadata": {
        "id": "y4uRxPFpIm10",
        "colab_type": "code",
        "colab": {
          "base_uri": "https://localhost:8080/",
          "height": 669
        },
        "outputId": "29d06b0e-89db-4eba-a8bb-e16b2d5620a1"
      },
      "source": [
        "all_btc_data_return = pd.DataFrame(all_btc_data_return)\n",
        "all_btc_data_return.head(20)"
      ],
      "execution_count": 548,
      "outputs": [
        {
          "output_type": "execute_result",
          "data": {
            "text/html": [
              "<div>\n",
              "<style scoped>\n",
              "    .dataframe tbody tr th:only-of-type {\n",
              "        vertical-align: middle;\n",
              "    }\n",
              "\n",
              "    .dataframe tbody tr th {\n",
              "        vertical-align: top;\n",
              "    }\n",
              "\n",
              "    .dataframe thead th {\n",
              "        text-align: right;\n",
              "    }\n",
              "</style>\n",
              "<table border=\"1\" class=\"dataframe\">\n",
              "  <thead>\n",
              "    <tr style=\"text-align: right;\">\n",
              "      <th></th>\n",
              "      <th>btc_data_return</th>\n",
              "    </tr>\n",
              "  </thead>\n",
              "  <tbody>\n",
              "    <tr>\n",
              "      <th>0</th>\n",
              "      <td>-0.006520</td>\n",
              "    </tr>\n",
              "    <tr>\n",
              "      <th>1</th>\n",
              "      <td>0.002864</td>\n",
              "    </tr>\n",
              "    <tr>\n",
              "      <th>2</th>\n",
              "      <td>-0.014201</td>\n",
              "    </tr>\n",
              "    <tr>\n",
              "      <th>3</th>\n",
              "      <td>0.005997</td>\n",
              "    </tr>\n",
              "    <tr>\n",
              "      <th>4</th>\n",
              "      <td>-0.003767</td>\n",
              "    </tr>\n",
              "    <tr>\n",
              "      <th>5</th>\n",
              "      <td>-0.005406</td>\n",
              "    </tr>\n",
              "    <tr>\n",
              "      <th>6</th>\n",
              "      <td>-0.005969</td>\n",
              "    </tr>\n",
              "    <tr>\n",
              "      <th>7</th>\n",
              "      <td>0.001739</td>\n",
              "    </tr>\n",
              "    <tr>\n",
              "      <th>8</th>\n",
              "      <td>0.023852</td>\n",
              "    </tr>\n",
              "    <tr>\n",
              "      <th>9</th>\n",
              "      <td>0.001310</td>\n",
              "    </tr>\n",
              "    <tr>\n",
              "      <th>10</th>\n",
              "      <td>0.002433</td>\n",
              "    </tr>\n",
              "    <tr>\n",
              "      <th>11</th>\n",
              "      <td>-0.000461</td>\n",
              "    </tr>\n",
              "    <tr>\n",
              "      <th>12</th>\n",
              "      <td>0.003919</td>\n",
              "    </tr>\n",
              "    <tr>\n",
              "      <th>13</th>\n",
              "      <td>0.000077</td>\n",
              "    </tr>\n",
              "    <tr>\n",
              "      <th>14</th>\n",
              "      <td>0.004580</td>\n",
              "    </tr>\n",
              "    <tr>\n",
              "      <th>15</th>\n",
              "      <td>0.004149</td>\n",
              "    </tr>\n",
              "    <tr>\n",
              "      <th>16</th>\n",
              "      <td>-0.001079</td>\n",
              "    </tr>\n",
              "    <tr>\n",
              "      <th>17</th>\n",
              "      <td>-0.009205</td>\n",
              "    </tr>\n",
              "    <tr>\n",
              "      <th>18</th>\n",
              "      <td>0.009889</td>\n",
              "    </tr>\n",
              "    <tr>\n",
              "      <th>19</th>\n",
              "      <td>0.017645</td>\n",
              "    </tr>\n",
              "  </tbody>\n",
              "</table>\n",
              "</div>"
            ],
            "text/plain": [
              "    btc_data_return\n",
              "0         -0.006520\n",
              "1          0.002864\n",
              "2         -0.014201\n",
              "3          0.005997\n",
              "4         -0.003767\n",
              "5         -0.005406\n",
              "6         -0.005969\n",
              "7          0.001739\n",
              "8          0.023852\n",
              "9          0.001310\n",
              "10         0.002433\n",
              "11        -0.000461\n",
              "12         0.003919\n",
              "13         0.000077\n",
              "14         0.004580\n",
              "15         0.004149\n",
              "16        -0.001079\n",
              "17        -0.009205\n",
              "18         0.009889\n",
              "19         0.017645"
            ]
          },
          "metadata": {
            "tags": []
          },
          "execution_count": 548
        }
      ]
    },
    {
      "cell_type": "code",
      "metadata": {
        "colab_type": "code",
        "outputId": "200d020e-bea3-4e64-8e30-b8f6bde4b4ab",
        "id": "J6Fa-jKqJBoX",
        "colab": {
          "base_uri": "https://localhost:8080/",
          "height": 34
        }
      },
      "source": [
        "all_data_btc.shape"
      ],
      "execution_count": 549,
      "outputs": [
        {
          "output_type": "execute_result",
          "data": {
            "text/plain": [
              "(675, 4)"
            ]
          },
          "metadata": {
            "tags": []
          },
          "execution_count": 549
        }
      ]
    },
    {
      "cell_type": "code",
      "metadata": {
        "colab_type": "code",
        "outputId": "4053e2b5-3bc6-4ddd-aab8-47a99ca08036",
        "id": "5-zLFJcIJBoo",
        "colab": {
          "base_uri": "https://localhost:8080/",
          "height": 297
        }
      },
      "source": [
        "all_btc_data_return.describe()"
      ],
      "execution_count": 550,
      "outputs": [
        {
          "output_type": "execute_result",
          "data": {
            "text/html": [
              "<div>\n",
              "<style scoped>\n",
              "    .dataframe tbody tr th:only-of-type {\n",
              "        vertical-align: middle;\n",
              "    }\n",
              "\n",
              "    .dataframe tbody tr th {\n",
              "        vertical-align: top;\n",
              "    }\n",
              "\n",
              "    .dataframe thead th {\n",
              "        text-align: right;\n",
              "    }\n",
              "</style>\n",
              "<table border=\"1\" class=\"dataframe\">\n",
              "  <thead>\n",
              "    <tr style=\"text-align: right;\">\n",
              "      <th></th>\n",
              "      <th>btc_data_return</th>\n",
              "    </tr>\n",
              "  </thead>\n",
              "  <tbody>\n",
              "    <tr>\n",
              "      <th>count</th>\n",
              "      <td>675.000000</td>\n",
              "    </tr>\n",
              "    <tr>\n",
              "      <th>mean</th>\n",
              "      <td>-0.001764</td>\n",
              "    </tr>\n",
              "    <tr>\n",
              "      <th>std</th>\n",
              "      <td>0.046394</td>\n",
              "    </tr>\n",
              "    <tr>\n",
              "      <th>min</th>\n",
              "      <td>-0.203559</td>\n",
              "    </tr>\n",
              "    <tr>\n",
              "      <th>25%</th>\n",
              "      <td>-0.025382</td>\n",
              "    </tr>\n",
              "    <tr>\n",
              "      <th>50%</th>\n",
              "      <td>-0.003859</td>\n",
              "    </tr>\n",
              "    <tr>\n",
              "      <th>75%</th>\n",
              "      <td>0.016580</td>\n",
              "    </tr>\n",
              "    <tr>\n",
              "      <th>max</th>\n",
              "      <td>0.206161</td>\n",
              "    </tr>\n",
              "  </tbody>\n",
              "</table>\n",
              "</div>"
            ],
            "text/plain": [
              "       btc_data_return\n",
              "count       675.000000\n",
              "mean         -0.001764\n",
              "std           0.046394\n",
              "min          -0.203559\n",
              "25%          -0.025382\n",
              "50%          -0.003859\n",
              "75%           0.016580\n",
              "max           0.206161"
            ]
          },
          "metadata": {
            "tags": []
          },
          "execution_count": 550
        }
      ]
    },
    {
      "cell_type": "code",
      "metadata": {
        "colab_type": "code",
        "id": "nQUDibeJJBou",
        "colab": {}
      },
      "source": [
        "label_btc = all_btc_data_return.shift(1) >= 0.0"
      ],
      "execution_count": 0,
      "outputs": []
    },
    {
      "cell_type": "code",
      "metadata": {
        "colab_type": "code",
        "id": "X_2IttwMJBox",
        "colab": {}
      },
      "source": [
        "x_train_btc = all_data_btc[:449]\n",
        "x_test_btc = all_data_btc[449:-1]\n",
        "y_train_btc = label_btc[1:450]\n",
        "y_test_btc = label_btc[450:]"
      ],
      "execution_count": 0,
      "outputs": []
    },
    {
      "cell_type": "code",
      "metadata": {
        "colab_type": "code",
        "outputId": "736d8505-1eed-4cc9-f855-4fbbb00fd5a1",
        "id": "q3CCmKGsJBo0",
        "colab": {
          "base_uri": "https://localhost:8080/",
          "height": 173
        }
      },
      "source": [
        "y_train_btc.describe()"
      ],
      "execution_count": 559,
      "outputs": [
        {
          "output_type": "execute_result",
          "data": {
            "text/html": [
              "<div>\n",
              "<style scoped>\n",
              "    .dataframe tbody tr th:only-of-type {\n",
              "        vertical-align: middle;\n",
              "    }\n",
              "\n",
              "    .dataframe tbody tr th {\n",
              "        vertical-align: top;\n",
              "    }\n",
              "\n",
              "    .dataframe thead th {\n",
              "        text-align: right;\n",
              "    }\n",
              "</style>\n",
              "<table border=\"1\" class=\"dataframe\">\n",
              "  <thead>\n",
              "    <tr style=\"text-align: right;\">\n",
              "      <th></th>\n",
              "      <th>btc_data_return</th>\n",
              "    </tr>\n",
              "  </thead>\n",
              "  <tbody>\n",
              "    <tr>\n",
              "      <th>count</th>\n",
              "      <td>449</td>\n",
              "    </tr>\n",
              "    <tr>\n",
              "      <th>unique</th>\n",
              "      <td>2</td>\n",
              "    </tr>\n",
              "    <tr>\n",
              "      <th>top</th>\n",
              "      <td>False</td>\n",
              "    </tr>\n",
              "    <tr>\n",
              "      <th>freq</th>\n",
              "      <td>233</td>\n",
              "    </tr>\n",
              "  </tbody>\n",
              "</table>\n",
              "</div>"
            ],
            "text/plain": [
              "       btc_data_return\n",
              "count              449\n",
              "unique               2\n",
              "top              False\n",
              "freq               233"
            ]
          },
          "metadata": {
            "tags": []
          },
          "execution_count": 559
        }
      ]
    },
    {
      "cell_type": "code",
      "metadata": {
        "colab_type": "code",
        "outputId": "0538c92f-fbb2-42c2-bf0d-6eb4f49d5233",
        "id": "x7TRNPwIJBo4",
        "colab": {
          "base_uri": "https://localhost:8080/",
          "height": 173
        }
      },
      "source": [
        "y_test_btc.describe()"
      ],
      "execution_count": 560,
      "outputs": [
        {
          "output_type": "execute_result",
          "data": {
            "text/html": [
              "<div>\n",
              "<style scoped>\n",
              "    .dataframe tbody tr th:only-of-type {\n",
              "        vertical-align: middle;\n",
              "    }\n",
              "\n",
              "    .dataframe tbody tr th {\n",
              "        vertical-align: top;\n",
              "    }\n",
              "\n",
              "    .dataframe thead th {\n",
              "        text-align: right;\n",
              "    }\n",
              "</style>\n",
              "<table border=\"1\" class=\"dataframe\">\n",
              "  <thead>\n",
              "    <tr style=\"text-align: right;\">\n",
              "      <th></th>\n",
              "      <th>btc_data_return</th>\n",
              "    </tr>\n",
              "  </thead>\n",
              "  <tbody>\n",
              "    <tr>\n",
              "      <th>count</th>\n",
              "      <td>225</td>\n",
              "    </tr>\n",
              "    <tr>\n",
              "      <th>unique</th>\n",
              "      <td>2</td>\n",
              "    </tr>\n",
              "    <tr>\n",
              "      <th>top</th>\n",
              "      <td>False</td>\n",
              "    </tr>\n",
              "    <tr>\n",
              "      <th>freq</th>\n",
              "      <td>144</td>\n",
              "    </tr>\n",
              "  </tbody>\n",
              "</table>\n",
              "</div>"
            ],
            "text/plain": [
              "       btc_data_return\n",
              "count              225\n",
              "unique               2\n",
              "top              False\n",
              "freq               144"
            ]
          },
          "metadata": {
            "tags": []
          },
          "execution_count": 560
        }
      ]
    },
    {
      "cell_type": "code",
      "metadata": {
        "colab_type": "code",
        "outputId": "c5abc017-7c61-454b-fcd6-659df5f6609f",
        "id": "DmAGh-VTJBo-",
        "colab": {
          "base_uri": "https://localhost:8080/",
          "height": 173
        }
      },
      "source": [
        "from sklearn.svm import SVC\n",
        "model = SVC()\n",
        "\n",
        "#使用Support Vector Classifier來建立模型\n",
        "model.fit(x_train_btc,y_train_btc)"
      ],
      "execution_count": 561,
      "outputs": [
        {
          "output_type": "stream",
          "text": [
            "/usr/local/lib/python3.6/dist-packages/sklearn/utils/validation.py:724: DataConversionWarning: A column-vector y was passed when a 1d array was expected. Please change the shape of y to (n_samples, ), for example using ravel().\n",
            "  y = column_or_1d(y, warn=True)\n",
            "/usr/local/lib/python3.6/dist-packages/sklearn/svm/base.py:193: FutureWarning: The default value of gamma will change from 'auto' to 'scale' in version 0.22 to account better for unscaled features. Set gamma explicitly to 'auto' or 'scale' to avoid this warning.\n",
            "  \"avoid this warning.\", FutureWarning)\n"
          ],
          "name": "stderr"
        },
        {
          "output_type": "execute_result",
          "data": {
            "text/plain": [
              "SVC(C=1.0, cache_size=200, class_weight=None, coef0=0.0,\n",
              "    decision_function_shape='ovr', degree=3, gamma='auto_deprecated',\n",
              "    kernel='rbf', max_iter=-1, probability=False, random_state=None,\n",
              "    shrinking=True, tol=0.001, verbose=False)"
            ]
          },
          "metadata": {
            "tags": []
          },
          "execution_count": 561
        }
      ]
    },
    {
      "cell_type": "code",
      "metadata": {
        "colab_type": "code",
        "outputId": "1eadeb31-764f-4bb5-964d-4a2de830ccd0",
        "id": "YNJ971bsJBpD",
        "colab": {
          "base_uri": "https://localhost:8080/",
          "height": 238
        }
      },
      "source": [
        "predictions = model.predict(x_test_btc)\n",
        "\n",
        "#載入classification_report & confusion_matrix來評估模型好壞\n",
        "from sklearn.metrics import classification_report,confusion_matrix\n",
        "print(confusion_matrix(y_test_btc,predictions))\n",
        "print('\\n')\n",
        "print(classification_report(y_test_btc,predictions))\n",
        "\n",
        "#載入classification_report & confusion_matrix來評估模型好壞\n",
        "#from sklearn.metrics import classification_report,confusion_matrix\n",
        "#print(confusion_matrix(y_test,predictions))\n",
        "#print('\\n')\n",
        "#print(classification_report(y_test,predictions))\n",
        "\n"
      ],
      "execution_count": 562,
      "outputs": [
        {
          "output_type": "stream",
          "text": [
            "[[131  13]\n",
            " [ 46  35]]\n",
            "\n",
            "\n",
            "              precision    recall  f1-score   support\n",
            "\n",
            "       False       0.74      0.91      0.82       144\n",
            "        True       0.73      0.43      0.54        81\n",
            "\n",
            "    accuracy                           0.74       225\n",
            "   macro avg       0.73      0.67      0.68       225\n",
            "weighted avg       0.74      0.74      0.72       225\n",
            "\n"
          ],
          "name": "stdout"
        }
      ]
    },
    {
      "cell_type": "code",
      "metadata": {
        "id": "V6l9UGghVpNm",
        "colab_type": "code",
        "colab": {
          "base_uri": "https://localhost:8080/",
          "height": 442
        },
        "outputId": "00da8767-da02-4ed7-803a-9ffea48bc70c"
      },
      "source": [
        "predictions"
      ],
      "execution_count": 563,
      "outputs": [
        {
          "output_type": "execute_result",
          "data": {
            "text/plain": [
              "array([False,  True, False, False, False,  True, False, False, False,\n",
              "       False, False, False,  True, False, False,  True, False,  True,\n",
              "       False, False,  True, False, False, False, False, False,  True,\n",
              "       False, False,  True,  True,  True,  True, False,  True,  True,\n",
              "        True, False,  True, False, False, False, False, False,  True,\n",
              "        True,  True, False, False,  True,  True,  True, False, False,\n",
              "        True, False, False,  True, False, False, False,  True, False,\n",
              "        True, False, False, False, False,  True, False, False, False,\n",
              "       False,  True, False, False, False, False, False,  True,  True,\n",
              "        True, False, False, False, False, False, False, False, False,\n",
              "       False, False, False, False,  True,  True, False, False, False,\n",
              "       False, False, False, False, False, False, False, False, False,\n",
              "       False, False, False, False, False, False, False, False, False,\n",
              "        True, False,  True, False, False, False, False, False,  True,\n",
              "       False,  True, False, False,  True, False, False,  True, False,\n",
              "       False, False, False, False, False, False, False,  True, False,\n",
              "       False, False, False, False, False,  True,  True, False, False,\n",
              "       False, False, False, False, False, False,  True, False, False,\n",
              "       False,  True, False, False, False, False, False, False, False,\n",
              "       False, False, False, False, False, False, False, False, False,\n",
              "       False, False, False, False, False, False,  True, False, False,\n",
              "       False, False, False, False, False, False, False, False, False,\n",
              "       False, False, False, False, False, False, False, False, False,\n",
              "       False, False, False,  True, False, False, False, False,  True,\n",
              "       False, False, False, False,  True,  True, False, False, False])"
            ]
          },
          "metadata": {
            "tags": []
          },
          "execution_count": 563
        }
      ]
    },
    {
      "cell_type": "code",
      "metadata": {
        "id": "YutTA3fiWPqj",
        "colab_type": "code",
        "colab": {
          "base_uri": "https://localhost:8080/",
          "height": 34
        },
        "outputId": "ed736ac1-538a-44b3-b14c-6f0587f74fea"
      },
      "source": [
        "len(all_btc_data_return[449:])"
      ],
      "execution_count": 567,
      "outputs": [
        {
          "output_type": "execute_result",
          "data": {
            "text/plain": [
              "226"
            ]
          },
          "metadata": {
            "tags": []
          },
          "execution_count": 567
        }
      ]
    },
    {
      "cell_type": "code",
      "metadata": {
        "id": "q41foF-dXERq",
        "colab_type": "code",
        "colab": {}
      },
      "source": [
        "add1_btc_data_return = all_btc_data_return[449:]+1"
      ],
      "execution_count": 0,
      "outputs": []
    },
    {
      "cell_type": "code",
      "metadata": {
        "id": "eTj9vzuAWhAZ",
        "colab_type": "code",
        "colab": {
          "base_uri": "https://localhost:8080/",
          "height": 34
        },
        "outputId": "236aea90-efa1-44c2-8832-24ab0908e186"
      },
      "source": [
        "len(predictions)"
      ],
      "execution_count": 566,
      "outputs": [
        {
          "output_type": "execute_result",
          "data": {
            "text/plain": [
              "225"
            ]
          },
          "metadata": {
            "tags": []
          },
          "execution_count": 566
        }
      ]
    },
    {
      "cell_type": "code",
      "metadata": {
        "id": "9qaDzNulWzMo",
        "colab_type": "code",
        "colab": {
          "base_uri": "https://localhost:8080/",
          "height": 533
        },
        "outputId": "9a01ff2d-d95d-491c-f812-7e3170816df2"
      },
      "source": [
        "return_count_btc = []\n",
        "return_count_btc.append(1.0)\n",
        "for i in range(1,len(add1_btc_data_return)):\n",
        "    if predictions[i-1]==True:\n",
        "        return_count_btc.append(return_count_btc[i-1]*add1_btc_data_return.as_matrix()[i]*0.9997)\n",
        "    else:\n",
        "        return_count_btc.append(return_count_btc[i-1])\n",
        "fig = plt.figure(figsize=(12,8))\n",
        "plt.plot(return_count_btc,'r',label='return_count_btc')\n",
        "plt.title('return_count_btc per period of btc')\n",
        "plt.grid(True)\n",
        "plt.axis('tight')\n",
        "plt.legend(loc=0)\n",
        "plt.ylabel('return_count_btc')\n",
        "plt.show()"
      ],
      "execution_count": 585,
      "outputs": [
        {
          "output_type": "stream",
          "text": [
            "/usr/local/lib/python3.6/dist-packages/ipykernel_launcher.py:5: FutureWarning: Method .as_matrix will be removed in a future version. Use .values instead.\n",
            "  \"\"\"\n"
          ],
          "name": "stderr"
        },
        {
          "output_type": "display_data",
          "data": {
            "image/png": "[encoded data removed]",
            "text/plain": [
              "<Figure size 864x576 with 1 Axes>"
            ]
          },
          "metadata": {
            "tags": []
          }
        }
      ]
    },
    {
      "cell_type": "code",
      "metadata": {
        "id": "nLU3Q1LHYarr",
        "colab_type": "code",
        "colab": {}
      },
      "source": [
        "add1_btc_data_return = all_btc_data_return[449:]*(-1)+1"
      ],
      "execution_count": 0,
      "outputs": []
    },
    {
      "cell_type": "code",
      "metadata": {
        "id": "GxIxRfjDYKGZ",
        "colab_type": "code",
        "colab": {
          "base_uri": "https://localhost:8080/",
          "height": 533
        },
        "outputId": "77facced-8e1e-4c7a-e8bc-607e86f8a7c6"
      },
      "source": [
        "return_count_btc = []\n",
        "return_count_btc.append(1.0)\n",
        "for i in range(1,len(add1_btc_data_return)):\n",
        "    if predictions[i-1]==False:\n",
        "        return_count_btc.append(return_count_btc[i-1]*add1_btc_data_return.as_matrix()[i]*0.995)\n",
        "    else:\n",
        "        return_count_btc.append(return_count_btc[i-1])\n",
        "fig = plt.figure(figsize=(12,8))\n",
        "plt.plot(return_count_btc,'r',label='return_count_btc')\n",
        "plt.title('return_count_btc per period of btc')\n",
        "plt.grid(True)\n",
        "plt.axis('tight')\n",
        "plt.legend(loc=0)\n",
        "plt.ylabel('return_count_btc')\n",
        "plt.show()"
      ],
      "execution_count": 587,
      "outputs": [
        {
          "output_type": "stream",
          "text": [
            "/usr/local/lib/python3.6/dist-packages/ipykernel_launcher.py:5: FutureWarning: Method .as_matrix will be removed in a future version. Use .values instead.\n",
            "  \"\"\"\n"
          ],
          "name": "stderr"
        },
        {
          "output_type": "display_data",
          "data": {
            "image/png": "[encoded data removed]",
            "text/plain": [
              "<Figure size 864x576 with 1 Axes>"
            ]
          },
          "metadata": {
            "tags": []
          }
        }
      ]
    }
  ]
}